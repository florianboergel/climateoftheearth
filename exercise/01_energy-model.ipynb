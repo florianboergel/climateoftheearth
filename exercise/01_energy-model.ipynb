{
 "cells": [
  {
   "cell_type": "markdown",
   "metadata": {},
   "source": [
    "# Lecture 2, A \"zero-dimensional\" energy balance model of Earth's climate\n",
    "\n",
    "```{note} This lecture requires\n",
    "- **Programming knowledge**: Basic to intermediate Python programming skills\n",
    "- **Mathematical background**: Basic calculus (e.g. Taylor series), numerics (Euler time stepping) and differential equations (ODE)\n",
    "```"
   ]
  },
  {
   "cell_type": "code",
   "execution_count": null,
   "metadata": {},
   "outputs": [],
   "source": [
    "import xarray as xr\n",
    "import pandas as pd\n",
    "import numpy as np\n",
    "import matplotlib.pyplot as plt"
   ]
  },
  {
   "cell_type": "markdown",
   "metadata": {},
   "source": [
    "## The Observed Global Energy Budget\n",
    "\n",
    "```{note} Reminder\n",
    "The global energy budget is the balance of energy coming into and going out of Earth. An imbalance in the global energy budget leads to a change in the heat content of the climate system.\n",
    "```\n",
    "\n",
    "### Why does the Global Energy Budget matter?\n",
    "\n",
    "- **Climate Change Connection**: Changes in Earth's energy budget directly drive global warming and alter weather patterns. Higher greenhouse gas concentrations trap more energy, resulting in planetary warming.\n",
    "\n",
    "- **Real-world Consequences**:\n",
    "    ```{margin} Quick Fact\n",
    "    Energy imbalances are responsible for unpredictable climate events.\n",
    "    ```\n",
    "    - **Extreme Weather**: More frequent and intense hurricanes, floods, droughts, and extreme precipitation.\n",
    "    - **Polar Ice Loss**: The warming accelerates ice sheet melting, raising sea levels and disrupting critical ocean circulation systems\n",
    "   -  **Biodiversity Risk**: Warmer regions put numerous species' habitats in danger.\n",
    "\n",
    "- **Human Influence**: Our activities—like burning fossil fuel and deforestation—significantly alter the energy budget by increasing atmospheric greenhouse gases and raising global temperatures. Understanding these energy dynamics helps us assess our environmental impact and develop sustainable alternatives.\n",
    "\n"
   ]
  },
  {
   "cell_type": "markdown",
   "metadata": {},
   "source": [
    "```{figure} https://brian-rose.github.io/ClimateLaboratoryBook/_images/GlobalEnergyBudget.png\n",
    ":height: 500px\n",
    ":name: energy-budget\n",
    "The global **annual mean** energy fluxes.\n",
    "```"
   ]
  },
  {
   "cell_type": "markdown",
   "metadata": {},
   "source": [
    "In this lecture, we'll build a basic climate model based on this energy budget. But first, we need a **simpler** version of this budget.\n",
    "\n",
    "```{prf:assumption} Climate Model Basics\n",
    "\n",
    "Our simple climate model can be written as:\n",
    "\n",
    "- **Heat Content Change** = \n",
    "    - $+$ Absorbed solar radiation\n",
    "    - $-$ Outgoing Longwave Radiation\n",
    "    - $+$ Human-caused greenhouse effect\n",
    "\n",
    "These elements represent a global average, hence the term \"zero-dimensional.\"\n",
    "\n",
    "```"
   ]
  },
  {
   "attachments": {},
   "cell_type": "markdown",
   "metadata": {},
   "source": [
    "```{figure} ../exercise/figures/ebm.png\n",
    ":height: 500px\n",
    ":name: energy-balance\n",
    "Planetary Energy Balance\n",
    "```"
   ]
  },
  {
   "cell_type": "markdown",
   "metadata": {},
   "source": [
    "```{note} How to build the model?\n",
    "To make this simple conceptual model quantitative, we need a mathematical formulation for each of these three processes.\n",
    "```\n"
   ]
  },
  {
   "cell_type": "markdown",
   "metadata": {},
   "source": [
    "### 1.1 Absorbed solar radiation\n",
    "\n",
    "At Earth's orbital distance from the Sun, the power of the Sun's rays that intercept the Earth is equal to\n"
   ]
  },
  {
   "cell_type": "code",
   "execution_count": null,
   "metadata": {},
   "outputs": [],
   "source": [
    "S = 1368 # solar insolation [W/m^2]  (energy per unit time per unit area)"
   ]
  },
  {
   "cell_type": "markdown",
   "metadata": {},
   "source": [
    "A small fraction"
   ]
  },
  {
   "cell_type": "code",
   "execution_count": null,
   "metadata": {},
   "outputs": [],
   "source": [
    "alpha = 0.3 # albedo, or planetary reflectivity [unitless]"
   ]
  },
  {
   "attachments": {},
   "cell_type": "markdown",
   "metadata": {},
   "source": [
    "of this incoming solar radiation is reflected back out to space (by reflective surfaces like white clouds, snow, and ice), with the remaining fraction $(1-\\alpha)$ being absorbed.\n",
    "\n",
    "Since the incoming solar rays are all approximately parallel this far from the Sun, the cross-sectional area of the Earth that intercepts them is just a disc of area $\\pi R^{2}$. Since all of the other terms we will consider act on the entire surface area $4\\pi R^{2}$ of the spherical Earth, the absorbed solar radiation *per unit surface area* (averaged over the entire globe) is reduced by a factor of 4."
   ]
  },
  {
   "cell_type": "markdown",
   "metadata": {},
   "source": [
    "```{figure} ../exercise/figures/earth-solar-radiation-diagram.png\n",
    ":height: 400px\n",
    ":name: energy-solar-radiation\n",
    "Earth Solar Radiation\n",
    "```"
   ]
  },
  {
   "cell_type": "markdown",
   "metadata": {},
   "source": [
    "The absorbed solar radiation per unit area is thus\n",
    "```{math}\n",
    "\\text{absorbed solar radiation} \\equiv \\frac{S(1-\\alpha)}{4}\n",
    "```"
   ]
  },
  {
   "cell_type": "code",
   "execution_count": null,
   "metadata": {},
   "outputs": [],
   "source": [
    "def absorbed_solar_radiation():\n",
    "    return"
   ]
  },
  {
   "cell_type": "markdown",
   "metadata": {},
   "source": [
    "- **Heat Content Change** = \n",
    "    - $+$ Absorbed solar radiation ✅\n",
    "    - $-$ Outgoing Longwave Radiation \n",
    "    - $+$ Human-caused greenhouse effect"
   ]
  },
  {
   "cell_type": "markdown",
   "metadata": {},
   "source": [
    "### 1.2 Outgoing Longwave Radiation\n",
    "Assume that the Earth acts similarly to a blackbody radiator. If we consider the Earth's effective global mean emission temperature as $T_e$ then the relation is given by:\n",
    "\n",
    "```{math}\n",
    "OLR = \\sigma T_e^4\n",
    "```\n",
    "\n",
    "In the above equation:\n",
    "- $OLR$ stands for Outgoing Longwave Radiation\n",
    "- $\\sigma$ represents the Stefan-Boltzmann constant and has a value of $5.67\\times 10^{-8} W m^{-2}K^{-4}$\n",
    "\n",
    "From observational data, the average global annual value for $OLR$ is 238.5 W $m^{-2}$.\n",
    "\n",
    "Given this value, we can rearrange the equation to find $T_e$:\n",
    "\n",
    "```{math}\n",
    "T_e = \\left(\\frac{OLR}{\\sigma}\\right)^{0.25}\n",
    "```"
   ]
  },
  {
   "cell_type": "code",
   "execution_count": null,
   "metadata": {},
   "outputs": [],
   "source": [
    "OLR = 238.5  # W/m²\n",
    "sigma = 5.67e-8  # W/m²/K⁴\n",
    "\n",
    "# Calculate Te using the Stefan-Boltzmann law\n",
    "Te = \n",
    "\n",
    "print(f\"Earth's Emission temperature (Te): {Te-273.15:.2f} °C\")"
   ]
  },
  {
   "cell_type": "markdown",
   "metadata": {},
   "source": [
    "The outgoing longwave radiation (blackbody cooling to space), denoted as $G(T)$, represents the combined effects of negative feedbacks that **dampen warming**, such as **blackbody radiation**, and positive feedbacks that **amplify warming**, such as **clouds** that trap heat.\n",
    "\n",
    "Since these physics are too complex to address in full detail here, we linearize the model by approximating the relationship between temperature and radiation.\n",
    "\n",
    "We begin with the assumption that the preindustrial climate existed in energy balance, meaning the equilibrium temperature equals the preindustrial temperature $T_0$.\n",
    "\n",
    "This allows us to simplify our approach by using just the first-order term of a Taylor series expansion:\n",
    "\n",
    "```{math}\n",
    "G(T) \\approx G(T_0) + G^{'}(T_0) (T-T_0)\n",
    "```\n",
    "\n",
    "around the pre-industrial equilibrium temperature $T_0$."
   ]
  },
  {
   "cell_type": "code",
   "execution_count": null,
   "metadata": {},
   "outputs": [],
   "source": [
    "T0 = 14. # preindustrial temperature averaged over the entire planet [°C]"
   ]
  },
  {
   "cell_type": "markdown",
   "metadata": {},
   "source": [
    "By expanding: \n",
    "\n",
    "$$ G(T) \\approx G(T_0) + G'(T_0)T - G'(T_0)T_0 $$\n",
    "\n",
    "\n",
    "To simplify the expression, we define:\n",
    "\n",
    "$$ A \\equiv G(T_0) - G^{'}(T_0)T_0 $$\n",
    "$$B \\equiv - G^{'}(T_0) \\text{       (the climate feedback parameter),}$$\n",
    "\n",
    "which gives\n",
    "\n",
    "$$ \\text{Outgoing Longwave Radiation} \\equiv G(T) \\approx A - BT$$"
   ]
  },
  {
   "cell_type": "code",
   "execution_count": null,
   "metadata": {},
   "outputs": [],
   "source": [
    "def outgoing_longwave_radiation():\n",
    "    return "
   ]
  },
  {
   "cell_type": "markdown",
   "metadata": {},
   "source": [
    "```{important} Value of the climate feedback parameter B\n",
    "$B$ comes from a bottom-up estimate based on the best understanding of the various climate feedbacks (read more [here](https://agupubs.onlinelibrary.wiley.com/doi/full/10.1029/2019rg000678))\n",
    "```"
   ]
  },
  {
   "cell_type": "code",
   "execution_count": null,
   "metadata": {},
   "outputs": [],
   "source": [
    "B = -1.3 # climate feedback parameter [W/m^2/°C],"
   ]
  },
  {
   "cell_type": "markdown",
   "metadata": {},
   "source": [
    "```{note}\n",
    "Since $B<0$, this tells us that the overall climate feedback is negative (i.e., stabilizing). \n",
    "```"
   ]
  },
  {
   "cell_type": "markdown",
   "metadata": {},
   "source": [
    "```{prf:assumption}\n",
    "The value of $A$ is determined by the preindustrial equilibrium condition, which states that before human influence, Earth's energy budget was balanced:\n",
    "\n",
    "$$\\frac{S(1-\\alpha)}{4} = A - BT_0$$\n",
    "\n",
    "Where:\n",
    "- $\\frac{S(1-\\alpha)}{4}$ represents the absorbed solar radiation\n",
    "- $A - BT_0$ is the OLR during the preindustrial equilibrium\n",
    "\n",
    "```\n",
    "\n",
    "By rearanging this equation, we find that the value of $A$ is given by"
   ]
  },
  {
   "cell_type": "code",
   "execution_count": null,
   "metadata": {},
   "outputs": [],
   "source": [
    "A = "
   ]
  },
  {
   "cell_type": "code",
   "execution_count": null,
   "metadata": {},
   "outputs": [],
   "source": [
    "print(A) # W/m^2"
   ]
  },
  {
   "cell_type": "markdown",
   "metadata": {},
   "source": [
    "- **Heat Content Change** = \n",
    "    - $+$ Absorbed solar radiation ✅\n",
    "    - $-$ Outgoing Longwave Radiation ✅\n",
    "    - $+$ Human-caused greenhouse effect"
   ]
  },
  {
   "cell_type": "markdown",
   "metadata": {},
   "source": [
    "### 1.3 Human-caused greenhouse effect\n",
    "\n",
    "The greenhouse effect from carbon dioxide has been empirically determined to follow a logarithmic relationship with atmospheric CO₂ concentrations:\n",
    "\n",
    "```{math}\n",
    "\\text{Human-caused greenhouse effect} = a \\cdot \\ln\\left(\\frac{CO_2}{CO_{2,PI}}\\right)\n",
    "```\n",
    "Where:\n",
    "- $a$ is a constant representing climate sensitivity to $CO_2$ changes\n",
    "- $CO_2$ is the current atmospheric carbon dioxide concentration  \n",
    "- $CO_{2,PI}$ is the preindustrial carbon dioxide concentration"
   ]
  },
  {
   "cell_type": "code",
   "execution_count": null,
   "metadata": {},
   "outputs": [],
   "source": [
    "a = 5 # CO2 forcing coefficient [W/m^2]"
   ]
  },
  {
   "cell_type": "code",
   "execution_count": null,
   "metadata": {},
   "outputs": [],
   "source": [
    "CO2_PI = 280 # preindustrial CO2 concentration [parts per million; ppm];"
   ]
  },
  {
   "cell_type": "code",
   "execution_count": null,
   "metadata": {},
   "outputs": [],
   "source": [
    "def greenhouse_effect(CO2, a=5, CO2_PI=280):\n",
    "    return a * np.log(CO2/CO2_PI)"
   ]
  },
  {
   "cell_type": "code",
   "execution_count": null,
   "metadata": {},
   "outputs": [],
   "source": [
    "co2_present = 420\n",
    "co2_range = 280*2**np.linspace(-1,3,100)\n",
    "\n",
    "plt.plot(co2_range, greenhouse_effect(co2_range), color = \"black\")\n",
    "plt.ylabel('Radiative forcing [$W/m^2$]')\n",
    "plt.xlabel('$CO_2$ concentration [ppm]')\n",
    "plt.plot(CO2_PI, greenhouse_effect(CO2_PI), marker=\".\", markersize = 20, label = \"pre-industrial (PI)\", color = \"blue\")\n",
    "plt.plot(co2_present, greenhouse_effect(co2_present), marker=\".\", markersize = 20, label = \"present day (2020)\", color = \"red\")\n",
    "plt.xticks([280, 280*2, 280*4, 280*8])\n",
    "plt.legend(loc = 4)\n",
    "plt.grid()"
   ]
  },
  {
   "cell_type": "markdown",
   "metadata": {},
   "source": [
    "- **Heat Content Change** = \n",
    "    - $+$ Absorbed solar radiation ✅\n",
    "    - $-$ Outgoing Longwave Radiation ✅\n",
    "    - $+$ Human-caused greenhouse effect ✅ "
   ]
  },
  {
   "cell_type": "markdown",
   "metadata": {},
   "source": [
    "### Observations from Mauna Loa Volcano\n",
    "\n",
    "```{figure} https://i.pinimg.com/originals/df/1a/e7/df1ae72cfd5e6d0d535c0ec99e708f6f.jpg\n",
    ":height: 500px\n",
    ":name: volcano-mauna-loa\n",
    "Mauna Loa Volcano\n",
    "```"
   ]
  },
  {
   "cell_type": "markdown",
   "metadata": {},
   "source": [
    "### 1.4 Change in Heat Content\n",
    "\n",
    "The heat content of the climate system is determined by the temperature $T$ (in Kelvin) and the system's heat capacity. We can express this relationship as:\n",
    "\n",
    "$$C_{temp} = c_p \\cdot T$$\n",
    "\n",
    "Where:\n",
    "- $C_{temp}$ represents the total heat content of the climate system\n",
    "- $c_p$ is the effective heat capacity of the climate system\n",
    "\n",
    "The effective heat capacity of the climate system is primarily dominated by the upper ocean's contribution, which is approximately 51 $\\frac{J}{m^2 K}$"
   ]
  },
  {
   "cell_type": "code",
   "execution_count": null,
   "metadata": {},
   "outputs": [],
   "source": [
    "C = 51 # atmosphere and upper-ocean heat capacity [J/m^2/°K]"
   ]
  },
  {
   "cell_type": "markdown",
   "metadata": {},
   "source": [
    "```{prf:assumption} Constant heat capacity\n",
    "The rate of change in heat content over time is expressed as\n",
    "\n",
    "$$\\frac{d(C_{temp})}{dt}.$$\n",
    "\n",
    "Since the heat capacity of the Earth remains essentially constant, we can simplify this expression in terms of temperature change:\n",
    "\n",
    "$$ \\frac{d(C_{temp})}{dt} = c_p\\frac{dT}{dt} $$\n"
   ]
  },
  {
   "cell_type": "markdown",
   "metadata": {},
   "source": [
    "### 1.5 \"Zero-Dimensional\" Climate Model Equation\n",
    "\n",
    "Combining all the subcomponent models, we can express the governing equation of our \"zero-dimensional\" energy balance climate model as an Ordinary Differential Equation (ODE):\n",
    "\n",
    "$$ c_p\\frac{dT}{dt} = \\frac{S(1-\\alpha)}{4} - (A - BT) + a \\ln\\left(\\frac{CO_2}{CO_{2,PI}}\\right) $$\n",
    "\n",
    "This equation determines the time evolution of Earth's globally averaged surface temperature, where:\n",
    "\n",
    "- $c_p\\frac{dT}{dt}$ represents the rate of heat content change\n",
    "- $\\frac{S(1-\\alpha)}{4}$ is the absorbed solar radiation\n",
    "- $(A - BT)$ is the outgoing longwave radiation\n",
    "- $a \\ln\\left(\\frac{CO_2}{CO_{2,PI}}\\right)$ accounts for the human-caused greenhouse effect"
   ]
  },
  {
   "cell_type": "markdown",
   "metadata": {},
   "source": [
    "## 2) Numerical solution method and data structures"
   ]
  },
  {
   "cell_type": "markdown",
   "metadata": {},
   "source": [
    "### 2.1) Discretization\n",
    "The energy balance model equation above can be discretized in time as\n",
    "\n",
    "$$ C\\frac{T(t+\\Delta t) - T(t)}{\\Delta t} = \\frac{S (1-\\alpha)}{4} - ( A - BT(t)) + a \\cdot ln  \\frac{CO_2}{CO{_2}_{PI}} $$\n",
    "\n",
    "This finite difference equation approximates the exact ordinary differential equation through a first-order truncation of the Taylor series expansion.  The approximation becomes more accurate as $\\Delta t$ $\\rightarrow 0$. In practice, we must select a sufficiently small model timestep $\\Delta t$ to ensure numerical stability and solution convergence while balancing runtime of the model.\n",
    "\n",
    "Using the notation $T_n \\equiv T(t_n)$ to represent the temperature at timestep $n$, and $T_{n+1} \\equiv T(t_{n+1})$ for the temperature at the next timestep $t_{n+1} = t_n + \\Delta t$, we can rearrange the equation to solve for $T_{n+1}$:\n",
    "\n",
    "$$ T_{n+1} = T_n + \\frac{\\Delta t}{C} \\left[\\frac{S(1-\\alpha)}{4} - (A - BT_n) + a \\cdot \\ln\\left(\\frac{CO_2}{CO_{2,PI}}\\right)\\right] $$\n",
    "\n",
    "### 2.2) Timestepping\n",
    "More generally, this equation follows the form of an explicit Euler method:\n",
    "\n",
    "$$ T_{n+1} = T_n + \\Delta t \\cdot \\text{tendency}(T_n; \\ldots) $$\n",
    "\n",
    "which we implement below."
   ]
  },
  {
   "cell_type": "markdown",
   "metadata": {},
   "source": [
    "```{exercise} Calculate the tendency of our Energy Balance Model\n",
    ":label: earth-blackbody\n",
    "\n",
    "- Current temperature $T_n$ = 15°C\n",
    "- Timestep $\\Delta t$ = 1 year\n",
    "\n",
    "Determine whether the temperature will increase, decrease, or remain stable in the next timestep.\n",
    "Explain what this result indicates about Earth's energy balance at this temperature.\n",
    "```"
   ]
  },
  {
   "cell_type": "code",
   "execution_count": null,
   "metadata": {},
   "outputs": [],
   "source": [
    "T_n = 15\n",
    "deltat = 1\n",
    "t = 0\n",
    "\n",
    "tendency = "
   ]
  },
  {
   "cell_type": "markdown",
   "metadata": {},
   "source": [
    "```{admonition} What tendency do you expect?\n",
    ":class: dropdown\n",
    "\n",
    "The tendency is negative because at $T_n$ = 15°C, the outgoing longwave radiation exceeds the sum of absorbed solar radiation and greenhouse effect. This means the Earth is losing more energy than it's gaining at this temperature.\n",
    "\n",
    "```\n",
    "\n"
   ]
  },
  {
   "cell_type": "markdown",
   "metadata": {},
   "source": [
    "For the next timestep, using the equation $T_{n+1} = T_n + \\Delta t \\cdot$ tendency\n",
    "\n"
   ]
  },
  {
   "cell_type": "code",
   "execution_count": null,
   "metadata": {},
   "outputs": [],
   "source": [
    "T_n1 = "
   ]
  },
  {
   "cell_type": "markdown",
   "metadata": {},
   "source": [
    "Now think about how to calculate the temperature change for the next 150 years? What temperature do you expect after 150 years?"
   ]
  },
  {
   "cell_type": "code",
   "execution_count": null,
   "metadata": {},
   "outputs": [],
   "source": [
    "# Initialize an array to store temperature values for 150 years\n",
    "T_n = np.zeros(150)\n",
    "\n",
    "# Set the initial temperature to 15°C\n",
    "T_n[0] = 15\n",
    "\n",
    "# Loop through each year (1 through 149)\n",
    "for year in range(1, 150):\n",
    "    # Calculate the temperature tendency (rate of change) for the current year\n",
    "    # tendency = (1/heat_capacity) * (energy_in - energy_out)\n",
    "    tendency = 1. / C * (\n",
    "            + absorbed_solar_radiation(alpha = alpha, S=S)\n",
    "            - outgoing_longwave_radiation(T_n[year-1], A = A, B=B)\n",
    "            + greenhouse_effect(280, a = a, CO2_PI=CO2_PI)\n",
    "            )\n",
    "    # Calculate the new temperature using the explicit Euler method:\n",
    "    # T(next) = T(current) + (timestep * tendency)\n",
    "    T_n[year] = T_n[year-1] + deltat*tendency"
   ]
  },
  {
   "cell_type": "code",
   "execution_count": null,
   "metadata": {},
   "outputs": [],
   "source": [
    "plt.plot(T_n)\n",
    "plt.ylabel(\"Temperature [°C]\")\n",
    "plt.xlabel(\"Time [years]\")"
   ]
  },
  {
   "cell_type": "markdown",
   "metadata": {},
   "source": [
    "Now we can finally build our Energy Balance Model (EBM)."
   ]
  },
  {
   "cell_type": "code",
   "execution_count": null,
   "metadata": {},
   "outputs": [],
   "source": [
    "class EBM:\n",
    "    \"\"\"\n",
    "    Zero Order Energy Balance Model (EBM)\n",
    "\n",
    "    The Energy Balance Model (EBM) represents the balance between incoming solar radiation and outgoing longwave radiation.\n",
    "    It also considers the greenhouse effect caused by CO2 levels. This model can simulate the temporal evolution of temperature \n",
    "    based on various parameters like albedo, solar constant, and greenhouse effect coefficients.\n",
    "\n",
    "    Attributes:\n",
    "    - T : Temperature (in Kelvin)\n",
    "    - t : Time\n",
    "    - deltat : Time step\n",
    "    - CO2 : Carbon Dioxide function that returns CO2 levels in dependency of time t\n",
    "    - C : Heat capacity\n",
    "    - a : Greenhouse effect coefficient\n",
    "    - A : Outgoing longwave radiation constant\n",
    "    - B : Temperature sensitivity of outgoing radiation\n",
    "    - CO2_PI : Pre-industrial CO2 concentration\n",
    "    - alpha : Albedo\n",
    "    - S : Solar constant\n",
    "    \"\"\"\n",
    "\n",
    "    def __init__(self, T, t, deltat, CO2, C, a, A, B, CO2_PI, alpha, S):\n",
    "        self.T = np.array(T)\n",
    "        self.t = t\n",
    "        self.deltat = deltat\n",
    "        self.C = C\n",
    "        self.a = a\n",
    "        self.A = A\n",
    "        self.B = B\n",
    "        self.co2_pi = CO2_PI\n",
    "        self.alpha = alpha\n",
    "        self.S = S\n",
    "        self.co2 = CO2\n",
    "\n",
    "    def absorbed_solar_radiation(self, S, alpha):\n",
    "        return (S*(1-alpha)/4)\n",
    "\n",
    "    def outgoing_longwave_radiation(self, T, A, B):\n",
    "        return A - B*T\n",
    "\n",
    "    def greenhouse_effect(self, CO2, a=5, CO2_PI = 280):\n",
    "        return a*np.log(CO2/CO2_PI)\n",
    "\n",
    "    def tendency(self):\n",
    "        current_T = self.T[-1] if self.T.size > 1 else self.T\n",
    "        current_t = self.t[-1] if self.T.size > 1 else self.t\n",
    "        \n",
    "        return 1. / self.C * (\n",
    "            + self.absorbed_solar_radiation(S=self.S, alpha=self.alpha)\n",
    "            - self.outgoing_longwave_radiation(current_T, A=self.A, B=self.B)\n",
    "            + self.greenhouse_effect(self.co2(current_t), a=self.a, CO2_PI=self.co2_pi)\n",
    "        )\n",
    "\n",
    "    @property\n",
    "    def timestep(self):\n",
    "        new_T = self.T[-1] + self.deltat * self.tendency() if self.T.size > 1 else self.T + self.deltat * self.tendency()\n",
    "        new_t = self.t[-1] + self.deltat if self.T.size > 1 else self.t + self.deltat\n",
    "        \n",
    "        self.T = np.append(self.T, new_T)\n",
    "        self.t = np.append(self.t, new_t)\n"
   ]
  },
  {
   "cell_type": "markdown",
   "metadata": {},
   "source": [
    "### 2.4) Running simulations of the energy balance model\n",
    "\n",
    "Let's define a function that runs an EBM simulation by timestepping forward until a given end_year.\n",
    "\n"
   ]
  },
  {
   "cell_type": "code",
   "execution_count": null,
   "metadata": {},
   "outputs": [],
   "source": [
    "def run_model(model, end_year):\n",
    "    for year in range(end_year):\n",
    "        model.timestep"
   ]
  },
  {
   "cell_type": "markdown",
   "metadata": {},
   "source": [
    "For example, let us consider the case where CO₂ emissions increase by 1% year-over-year from the preindustrial value [CO$_2$] = $280.0$ ppm, starting at T=T₀=14°C in year t=0 and with a timestep Δt = 1 year."
   ]
  },
  {
   "cell_type": "code",
   "execution_count": null,
   "metadata": {},
   "outputs": [],
   "source": [
    "def CO2_test(t, CO2_PI=280):\n",
    "    return CO2_PI ** (1 + 1/100)**t"
   ]
  },
  {
   "cell_type": "code",
   "execution_count": null,
   "metadata": {},
   "outputs": [],
   "source": [
    "model_parameters = {\n",
    "    \"T\":T0,\n",
    "    \"t\":0,\n",
    "    \"deltat\":1,\n",
    "    \"CO2\":CO2_test,\n",
    "    \"C\":C,\n",
    "    \"a\":a,\n",
    "    \"A\":A,\n",
    "    \"B\":B,\n",
    "    \"CO2_PI\":280,\n",
    "    \"alpha\":alpha,\n",
    "    \"S\":S\n",
    "}"
   ]
  },
  {
   "cell_type": "markdown",
   "metadata": {},
   "source": [
    "```{note}\n",
    "\n",
    "In Python, the ** syntax in a function call is used for unpacking key-value pairs from dictionaries directly into function arguments. This is particularly useful when working with functions that accept a variable number of keyword arguments.\n",
    "\n",
    "In summary, ** in a function call is used to unpack dictionary items as keyword arguments.\n",
    "```"
   ]
  },
  {
   "cell_type": "markdown",
   "metadata": {},
   "source": [
    "## 3) Energy balance model applications\n",
    "### 3.1) Why was Earth's preindustrial climate so stable?\n",
    "Let us consider the simple case where CO₂ concentrations remain at their pre-industrial temperatures."
   ]
  },
  {
   "cell_type": "code",
   "execution_count": null,
   "metadata": {},
   "outputs": [],
   "source": [
    "def CO2_test(t):\n",
    "    return 280\n",
    "\n",
    "model_parameters[\"CO2\"] = CO2_test"
   ]
  },
  {
   "cell_type": "code",
   "execution_count": null,
   "metadata": {},
   "outputs": [],
   "source": [
    "model = EBM(**model_parameters)"
   ]
  },
  {
   "cell_type": "code",
   "execution_count": null,
   "metadata": {},
   "outputs": [],
   "source": [
    "run_model(model, 200) "
   ]
  },
  {
   "cell_type": "code",
   "execution_count": null,
   "metadata": {},
   "outputs": [],
   "source": [
    "t0s = np.arange(0,28,2)\n",
    "\n",
    "for i in t0s:\n",
    "    model_parameters[\"T\"] = i\n",
    "    model = EBM(**model_parameters)\n",
    "    run_model(model, 200) \n",
    "    plt.plot(model.T)\n",
    "\n",
    "plt.grid()\n",
    "plt.xlabel(\"year\")\n",
    "plt.ylabel(\"temperature [°C]\")"
   ]
  },
  {
   "cell_type": "markdown",
   "metadata": {},
   "source": [
    "This figure shows that, no matter where we start out, the overall negative feedbacks ($B<0$) restore the temperature to the preindustrial equilibrum value of $T_0$ = 14.0 °C, over an exponential timescale of about 100 years."
   ]
  },
  {
   "cell_type": "markdown",
   "metadata": {},
   "source": [
    "### 3.2) Historical global warming fueled by greenhouse gas emissions\n",
    "\n",
    "Human greenhouse gas emissions have fundamentally altered Earth's energy balance, moving us away from the stable preindustrial climate of the past few thousand years.\n",
    "\n",
    "Since human CO₂ emissions are the main driver of global warming, we expect that if we plug historical CO₂ increases into our model (\"forcing\" it), we should roughly reproduce the observed historical global warming.\n",
    "\n",
    "The observed increase of CO2 concentrations can be fairly accurately modelled by the simple cubic formula below."
   ]
  },
  {
   "cell_type": "code",
   "execution_count": null,
   "metadata": {},
   "outputs": [],
   "source": [
    "def co2_hist(t):\n",
    "    return 280 * (1+ ((t-1850)/220)**3)"
   ]
  },
  {
   "cell_type": "code",
   "execution_count": null,
   "metadata": {},
   "outputs": [],
   "source": [
    "model_parameters[\"CO2\"] = co2_hist\n",
    "model_parameters[\"T\"] = T0\n",
    "model_parameters[\"t\"] = 1850\n",
    "model = EBM(**model_parameters)\n",
    "\n",
    "run_model(model, 170) "
   ]
  },
  {
   "cell_type": "code",
   "execution_count": null,
   "metadata": {},
   "outputs": [],
   "source": [
    "temp_url = \"https://raw.githubusercontent.com/florianboergel/climateoftheocean/main/data/graph.txt\"\n",
    "try:\n",
    "    temp = pd.read_csv(temp_url, header=None,\n",
    "                      skiprows=5, index_col=0,\n",
    "                      delim_whitespace=True,\n",
    "                      on_bad_lines='skip',  # Skip problematic lines\n",
    "                      engine=\"python\")\n",
    "    temp = temp + 14.15\n",
    "except Exception as e:\n",
    "    print(f\"Error loading temperature data: {e}\")\n",
    "\n",
    "CO2_url = \"https://raw.githubusercontent.com/florianboergel/climateoftheocean/main/data/monthly_in_situ_co2_mlo.csv\"\n",
    "try:\n",
    "    co2_data = pd.read_csv(CO2_url, header = 58,skiprows=8, index_col=0) \n",
    "except Exception as e:\n",
    "    print(f\"Error loading CO2 data: {e}\")\n",
    "co2_data = co2_data.iloc[4:] \n",
    "co2_data = pd.to_numeric(co2_data.iloc[:,5]) \n",
    "co2_data[co2_data<= 0] = np.nan\n",
    "co2_data.index = pd.to_datetime(co2_data.index, format='%Y')\n",
    "co2_data = co2_data.groupby(co2_data.index.year).mean() "
   ]
  },
  {
   "cell_type": "code",
   "execution_count": null,
   "metadata": {},
   "outputs": [],
   "source": [
    "f, (ax, bx) = plt.subplots(1,2, figsize=(8,4))\n",
    "ax.plot(np.arange(1850, 2020), co2_hist(np.arange(1850, 2020)), label = \"EBM model\")\n",
    "ax.plot(co2_data.index, co2_data.values, label=\"Keeling Curve\")\n",
    "ax.set_ylabel(\"$CO_2$ concentration [ppm]\")\n",
    "ax.grid()\n",
    "ax.set_xlabel(\"Year\")\n",
    "ax.legend()\n",
    "\n",
    "\n",
    "bx.plot(np.arange(1850, 2021), model.T, label=\"EBM model\")\n",
    "temp.plot(ax = bx)\n",
    "bx.set_ylabel(\"Temperature [°C]\")\n",
    "bx.grid()\n",
    "bx.legend([\"EBM Model\", \"NASA Observations\", \"NASA Obs roll. mean\"])\n",
    "bx.set_xlabel(\"Year\")\n",
    "\n",
    "f.tight_layout()"
   ]
  },
  {
   "cell_type": "markdown",
   "metadata": {},
   "source": [
    "```{warning} CO<sub>2</sub> Emissions: Beyond Trend Predictions to Climate Noise\n",
    "\n",
    "While CO<sub>2</sub> emissions can be used to predict the overarching trend in climate, we must also consider the inherent climate noise present in observations. This noise doesn't arise from instrumental inaccuracies but represents genuine signals from the Earth's natural variability.\n",
    "\n",
    "Such natural fluctuations are mainly attributed to the turbulent and chaotic fluid dynamics of both the atmosphere and the ocean. We will delve deeper into this topic in **Lecture 4**. The dynamics are visually represented in the following illustrations:\n",
    "```"
   ]
  },
  {
   "cell_type": "markdown",
   "metadata": {},
   "source": [
    "[![Video Thumbnail](https://img.youtube.com/vi/llOh7N_VY7k/maxresdefault.jpg)](https://youtu.be/llOh7N_VY7k?si=f_7iRgEWvMT6pZxk)\n"
   ]
  },
  {
   "cell_type": "markdown",
   "metadata": {},
   "source": [
    "Now that we've convinced ourselves that the model accurately reproduces historical warming, we can use it to project how much warming we might expect due to future CO₂ emissions."
   ]
  },
  {
   "cell_type": "markdown",
   "metadata": {},
   "source": [
    "```{important} What You Learned Today\n",
    "- **Energy Balance Fundamentals**: Built a zero-dimensional climate model based on absorbed solar radiation, outgoing longwave radiation, and greenhouse effects\n",
    "- **Numerical Climate Modeling**: Implemented and solved differential equations using Python, creating a reusable EBM that reproduces historical temperature trends\n",
    "```"
   ]
  },
  {
   "cell_type": "markdown",
   "metadata": {},
   "source": [
    "```{admonition} Additional content: Best- and worst-case projections of future global warming\n",
    ":class: dropdown \n",
    "\n",
    "Consider two divergent hypothetical futures:\n",
    "\n",
    "1) a low-emissions world in which emissions decrease such that CO2 concentrations stay below 500 ppm by 2100 (known in climate circles as \"RCP2.6\") and\n",
    "\n",
    "2) a high-emissions world in which emissions continue increasing and CO2 concentrations soar upwards of 1200 ppm (\"RCP8.5\")."
   ]
  },
  {
   "cell_type": "code",
   "execution_count": null,
   "metadata": {},
   "outputs": [],
   "source": [
    "def CO2_RCP26(t):\n",
    "    return 280 * (1+ ((t-1850)/220)**3 * np.minimum(1., np.exp(-((t-1850)-170)/100)))\n",
    "def CO2_RCP85(t):\n",
    "    return 280 * (1+ ((t-1850)/220)**3 * np.maximum(1., np.exp(((t-1850)-170)/100)))"
   ]
  },
  {
   "cell_type": "markdown",
   "metadata": {},
   "source": [
    "In the low-emissions scenario, the temperature increase stays below $\\Delta T$ = 2 °C by 2100, while in the high-emissions scenario temperatures soar upwards of 3.5ºC above pre-industrial levels."
   ]
  },
  {
   "cell_type": "code",
   "execution_count": null,
   "metadata": {},
   "outputs": [],
   "source": [
    "model_parameters[\"CO2\"] = CO2_RCP26\n",
    "model1 = EBM(**model_parameters)\n",
    "\n",
    "model_parameters[\"CO2\"] = CO2_RCP85\n",
    "model2 = EBM(**model_parameters)\n",
    "\n",
    "run_model(model1, 249) \n",
    "run_model(model2, 249) "
   ]
  },
  {
   "cell_type": "code",
   "execution_count": null,
   "metadata": {},
   "outputs": [],
   "source": [
    "f, (ax, bx) = plt.subplots(1,2, figsize = (8,4))\n",
    "\n",
    "ax.plot(np.arange(1850, 2100), CO2_RCP26(np.arange(1850,2100)), \n",
    "        color = \"Blue\", label = \"RCP 2.6 low emissions\")\n",
    "ax.plot(np.arange(1850, 2100), CO2_RCP85(np.arange(1850,2100)),\n",
    "        color = \"Red\", label = \"RCP 8.5 High emissions\")\n",
    "ax.plot(2023, CO2_RCP26(2025), marker=\".\",\n",
    "        markersize = 20, label = \"we are here\", color = \"black\")\n",
    "ax.set_ylabel(\"$CO_2$ concentration [ppm]\")\n",
    "ax.legend()\n",
    "\n",
    "bx.plot(np.arange(1850, 2100), model1.T, color = \"Blue\")\n",
    "bx.plot(np.arange(1850, 2100), model2.T,  color = \"Red\")\n",
    "bx.axhline(y = 16, label = \"Paris Agreement\\n threshold (2°C warming)\",\n",
    "           ls=\"--\", color = \"black\")\n",
    "bx.set_ylabel(\"Temperature [°C]\")\n",
    "bx.plot(2050, model2.T[200], marker=\".\", \n",
    "         markersize = 20, label = \"we are here\", color = \"black\")\n",
    "bx.legend()\n",
    "\n",
    "f.tight_layout()"
   ]
  },
  {
   "cell_type": "markdown",
   "metadata": {},
   "source": [
    "```{note}\n",
    "A big thank you to [Henri Drake](https://github.com/hdrake) for the insightful lecture!\n",
    "\n",
    "The content is sourced from the MIT course titled [Introduction to Computational Thinking](https://computationalthinking.mit.edu/Fall20/lecture20/). This course is structured around the [Julia programming language](http://www.julialang.org/). \n",
    "\n",
    "The original code corresponding to this lecture is available on GitHub: [simplEarth/1_energy_balance_model.jl](https://github.com/hdrake/simplEarth/blob/master/1_energy_balance_model.jl).\n",
    "\n",
    "Additionally, some content has been adapted from [Brian Rose's Climate Laboratory Book](https://brian-rose.github.io/ClimateLaboratoryBook/courseware/).\n",
    "```\n"
   ]
  },
  {
   "cell_type": "code",
   "execution_count": null,
   "metadata": {},
   "outputs": [],
   "source": [
    "def CO2_RCP26(t):\n",
    "    return 280 * (1+ ((t-1850)/220)**3 * np.minimum(1., np.exp(-((t-1850)-170)/100)))\n",
    "def CO2_RCP85(t):\n",
    "    return 280 * (1+ ((t-1850)/220)**3 * np.maximum(1., np.exp(((t-1850)-170)/100)))"
   ]
  },
  {
   "cell_type": "markdown",
   "metadata": {},
   "source": [
    "In the low-emissions scenario, the temperature increase stays below $\\Delta T$ = 2 °C by 2100, while in the high-emissions scenario temperatures soar upwards of 3.5ºC above pre-industrial levels."
   ]
  },
  {
   "cell_type": "code",
   "execution_count": null,
   "metadata": {},
   "outputs": [],
   "source": [
    "model_parameters[\"CO2\"] = CO2_RCP26\n",
    "model1 = EBM(**model_parameters)\n",
    "\n",
    "model_parameters[\"CO2\"] = CO2_RCP85\n",
    "model2 = EBM(**model_parameters)\n",
    "\n",
    "run_model(model1, 249) \n",
    "run_model(model2, 249) "
   ]
  },
  {
   "cell_type": "code",
   "execution_count": null,
   "metadata": {},
   "outputs": [],
   "source": [
    "f, (ax, bx) = plt.subplots(1,2, figsize = (8,4))\n",
    "\n",
    "ax.plot(np.arange(1850, 2100), CO2_RCP26(np.arange(1850,2100)), \n",
    "        color = \"Blue\", label = \"RCP 2.6 low emissions\")\n",
    "ax.plot(np.arange(1850, 2100), CO2_RCP85(np.arange(1850,2100)),\n",
    "        color = \"Red\", label = \"RCP 8.5 High emissions\")\n",
    "ax.plot(2023, CO2_RCP26(2023), marker=\".\",\n",
    "        markersize = 20, label = \"we are here\", color = \"black\")\n",
    "ax.set_ylabel(\"$CO_2$ concentration [ppm]\")\n",
    "ax.legend()\n",
    "\n",
    "bx.plot(np.arange(1850, 2100), model1.T, color = \"Blue\")\n",
    "bx.plot(np.arange(1850, 2100), model2.T,  color = \"Red\")\n",
    "bx.axhline(y = 16, label = \"Paris Agreement\\n threshold (2°C warming)\",\n",
    "           ls=\"--\", color = \"black\")\n",
    "bx.set_ylabel(\"Temperature [°C]\")\n",
    "bx.plot(2023, model1.T[173], marker=\".\", \n",
    "         markersize = 20, label = \"we are here\", color = \"black\")\n",
    "bx.legend()\n",
    "\n",
    "f.tight_layout()"
   ]
  },
  {
   "cell_type": "markdown",
   "metadata": {},
   "source": [
    "```{note}\n",
    "A big thank you to [Henri Drake](https://github.com/hdrake) for the insightful lecture!\n",
    "\n",
    "The content is sourced from the MIT course titled [Introduction to Computational Thinking](https://computationalthinking.mit.edu/Fall20/lecture20/). This course is structured around the [Julia programming language](http://www.julialang.org/). \n",
    "\n",
    "The original code corresponding to this lecture is available on GitHub: [simplEarth/1_energy_balance_model.jl](https://github.com/hdrake/simplEarth/blob/master/1_energy_balance_model.jl).\n",
    "\n",
    "Additionally, some content has been adapted from [Brian Rose's Climate Laboratory Book](https://brian-rose.github.io/ClimateLaboratoryBook/courseware/).\n",
    "```\n"
   ]
  }
 ],
 "metadata": {
  "kernelspec": {
   "display_name": "Python 3 (ipykernel)",
   "language": "python",
   "name": "python3"
  }
 },
 "nbformat": 4,
 "nbformat_minor": 4
}
