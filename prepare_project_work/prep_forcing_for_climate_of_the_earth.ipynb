{
 "cells": [
  {
   "cell_type": "code",
   "execution_count": 4,
   "metadata": {},
   "outputs": [],
   "source": [
    "import xarray as xr\n",
    "from glob import glob\n",
    "import dask\n",
    "from dask.distributed import Client"
   ]
  },
  {
   "cell_type": "code",
   "execution_count": 8,
   "metadata": {},
   "outputs": [],
   "source": [
    "data3nmHiresaff = \"/silod9/thomas/EXP/3nm/BREC/V01/R06\""
   ]
  },
  {
   "cell_type": "code",
   "execution_count": 9,
   "metadata": {},
   "outputs": [
    {
     "name": "stdout",
     "output_type": "stream",
     "text": [
      "balt-3nm-skag-v01-r06_1850  balt-3nm-skag-v01-r06_1952\n",
      "balt-3nm-skag-v01-r06_1851  balt-3nm-skag-v01-r06_1953\n",
      "balt-3nm-skag-v01-r06_1852  balt-3nm-skag-v01-r06_1954\n",
      "balt-3nm-skag-v01-r06_1853  balt-3nm-skag-v01-r06_1955\n",
      "balt-3nm-skag-v01-r06_1854  balt-3nm-skag-v01-r06_1956\n",
      "balt-3nm-skag-v01-r06_1855  balt-3nm-skag-v01-r06_1957\n",
      "balt-3nm-skag-v01-r06_1856  balt-3nm-skag-v01-r06_1958\n",
      "balt-3nm-skag-v01-r06_1857  balt-3nm-skag-v01-r06_1959\n",
      "balt-3nm-skag-v01-r06_1858  balt-3nm-skag-v01-r06_1960\n",
      "balt-3nm-skag-v01-r06_1859  balt-3nm-skag-v01-r06_1961\n",
      "balt-3nm-skag-v01-r06_1860  balt-3nm-skag-v01-r06_1962\n",
      "balt-3nm-skag-v01-r06_1861  balt-3nm-skag-v01-r06_1963\n",
      "balt-3nm-skag-v01-r06_1862  balt-3nm-skag-v01-r06_1964\n",
      "balt-3nm-skag-v01-r06_1863  balt-3nm-skag-v01-r06_1965\n",
      "balt-3nm-skag-v01-r06_1864  balt-3nm-skag-v01-r06_1966\n",
      "balt-3nm-skag-v01-r06_1865  balt-3nm-skag-v01-r06_1967\n",
      "balt-3nm-skag-v01-r06_1866  balt-3nm-skag-v01-r06_1968\n",
      "balt-3nm-skag-v01-r06_1867  balt-3nm-skag-v01-r06_1969\n",
      "balt-3nm-skag-v01-r06_1868  balt-3nm-skag-v01-r06_1970\n",
      "balt-3nm-skag-v01-r06_1869  balt-3nm-skag-v01-r06_1971\n",
      "balt-3nm-skag-v01-r06_1870  balt-3nm-skag-v01-r06_1972\n",
      "balt-3nm-skag-v01-r06_1871  balt-3nm-skag-v01-r06_1973\n",
      "balt-3nm-skag-v01-r06_1872  balt-3nm-skag-v01-r06_1974\n",
      "balt-3nm-skag-v01-r06_1873  balt-3nm-skag-v01-r06_1975\n",
      "balt-3nm-skag-v01-r06_1874  balt-3nm-skag-v01-r06_1976\n",
      "balt-3nm-skag-v01-r06_1875  balt-3nm-skag-v01-r06_1977\n",
      "balt-3nm-skag-v01-r06_1876  balt-3nm-skag-v01-r06_1978\n",
      "balt-3nm-skag-v01-r06_1877  balt-3nm-skag-v01-r06_1979\n",
      "balt-3nm-skag-v01-r06_1878  balt-3nm-skag-v01-r06_1980\n",
      "balt-3nm-skag-v01-r06_1879  balt-3nm-skag-v01-r06_1981\n",
      "balt-3nm-skag-v01-r06_1880  balt-3nm-skag-v01-r06_1982\n",
      "balt-3nm-skag-v01-r06_1881  balt-3nm-skag-v01-r06_1983\n",
      "balt-3nm-skag-v01-r06_1882  balt-3nm-skag-v01-r06_1984\n",
      "balt-3nm-skag-v01-r06_1883  balt-3nm-skag-v01-r06_1985\n",
      "balt-3nm-skag-v01-r06_1884  balt-3nm-skag-v01-r06_1986\n",
      "balt-3nm-skag-v01-r06_1885  balt-3nm-skag-v01-r06_1987\n",
      "balt-3nm-skag-v01-r06_1886  balt-3nm-skag-v01-r06_1988\n",
      "balt-3nm-skag-v01-r06_1887  balt-3nm-skag-v01-r06_1989\n",
      "balt-3nm-skag-v01-r06_1888  balt-3nm-skag-v01-r06_1990\n",
      "balt-3nm-skag-v01-r06_1889  balt-3nm-skag-v01-r06_1991\n",
      "balt-3nm-skag-v01-r06_1890  balt-3nm-skag-v01-r06_1992\n",
      "balt-3nm-skag-v01-r06_1891  balt-3nm-skag-v01-r06_1993\n",
      "balt-3nm-skag-v01-r06_1892  balt-3nm-skag-v01-r06_1994\n",
      "balt-3nm-skag-v01-r06_1893  balt-3nm-skag-v01-r06_1995\n",
      "balt-3nm-skag-v01-r06_1894  balt-3nm-skag-v01-r06_1996\n",
      "balt-3nm-skag-v01-r06_1895  balt-3nm-skag-v01-r06_1997\n",
      "balt-3nm-skag-v01-r06_1896  balt-3nm-skag-v01-r06_1998\n",
      "balt-3nm-skag-v01-r06_1897  balt-3nm-skag-v01-r06_1999\n",
      "balt-3nm-skag-v01-r06_1898  balt-3nm-skag-v01-r06_2000\n",
      "balt-3nm-skag-v01-r06_1899  balt-3nm-skag-v01-r06_2001\n",
      "balt-3nm-skag-v01-r06_1900  balt-3nm-skag-v01-r06_2002\n",
      "balt-3nm-skag-v01-r06_1901  balt-3nm-skag-v01-r06_2003\n",
      "balt-3nm-skag-v01-r06_1902  balt-3nm-skag-v01-r06_2004\n",
      "balt-3nm-skag-v01-r06_1903  balt-3nm-skag-v01-r06_2005\n",
      "balt-3nm-skag-v01-r06_1904  balt-3nm-skag-v01-r06_2006\n",
      "balt-3nm-skag-v01-r06_1905  balt-3nm-skag-v01-r06_2007\n",
      "balt-3nm-skag-v01-r06_1906  balt-3nm-skag-v01-r06_2008\n",
      "balt-3nm-skag-v01-r06_1907  balt-3nm-skag-v01-r06_2009\n",
      "balt-3nm-skag-v01-r06_1908  balt-3nm-skag-v01-r06_2010\n",
      "balt-3nm-skag-v01-r06_1909  balt-3nm-skag-v01-r06_2011\n",
      "balt-3nm-skag-v01-r06_1910  balt-3nm-skag-v01-r06_2012\n",
      "balt-3nm-skag-v01-r06_1911  balt-3nm-skag-v01-r06_2013\n",
      "balt-3nm-skag-v01-r06_1912  balt-3nm-skag-v01-r06_2014\n",
      "balt-3nm-skag-v01-r06_1913  balt-3nm-skag-v01-r06_2015\n",
      "balt-3nm-skag-v01-r06_1914  balt-3nm-skag-v01-r06_2016\n",
      "balt-3nm-skag-v01-r06_1915  balt-3nm-skag-v01-r06_2017\n",
      "balt-3nm-skag-v01-r06_1916  balt-3nm-skag-v01-r06_2018\n",
      "balt-3nm-skag-v01-r06_1917  balt-3nm-skag-v01-r06_2019\n",
      "balt-3nm-skag-v01-r06_1918  binary\n",
      "balt-3nm-skag-v01-r06_1919  cp_forcing\n",
      "balt-3nm-skag-v01-r06_1920  cp_forcing_1850-2008\n",
      "balt-3nm-skag-v01-r06_1921  init\n",
      "balt-3nm-skag-v01-r06_1922  input\n",
      "balt-3nm-skag-v01-r06_1923  job_driver\n",
      "balt-3nm-skag-v01-r06_1924  job_v02_r01\n",
      "balt-3nm-skag-v01-r06_1925  mk_alkStat.sh\n",
      "balt-3nm-skag-v01-r06_1926  mk_mm_for1900.sh\n",
      "balt-3nm-skag-v01-r06_1927  mk_mm_from1991.sh\n",
      "balt-3nm-skag-v01-r06_1928  mk_mm.sh\n",
      "balt-3nm-skag-v01-r06_1929  prod_driver\n",
      "balt-3nm-skag-v01-r06_1930  rsync_cmd\n",
      "balt-3nm-skag-v01-r06_1931  RUNYEAR01\n",
      "balt-3nm-skag-v01-r06_1932  speed.nc\n",
      "balt-3nm-skag-v01-r06_1933  t1.nc\n",
      "balt-3nm-skag-v01-r06_1934  t2.nc\n",
      "balt-3nm-skag-v01-r06_1935  t3.nc\n",
      "balt-3nm-skag-v01-r06_1936  t4.nc\n",
      "balt-3nm-skag-v01-r06_1937  t_alk_ANHOLT.nc\n",
      "balt-3nm-skag-v01-r06_1938  t_alk_B15.nc\n",
      "balt-3nm-skag-v01-r06_1939  t_alk_B31.nc\n",
      "balt-3nm-skag-v01-r06_1940  t_alk_BY15_am.nc\n",
      "balt-3nm-skag-v01-r06_1941  t_alk_BY15.nc\n",
      "balt-3nm-skag-v01-r06_1942  t_alk_BY1.nc\n",
      "balt-3nm-skag-v01-r06_1943  t_alk_BY31_am.nc\n",
      "balt-3nm-skag-v01-r06_1944  t_alk_BY31.nc\n",
      "balt-3nm-skag-v01-r06_1945  t_alk_BY5_am.nc\n",
      "balt-3nm-skag-v01-r06_1946  t_alk_BY5.nc\n",
      "balt-3nm-skag-v01-r06_1947  t_alk_C3.nc\n",
      "balt-3nm-skag-v01-r06_1948  t_alk_F9.nc\n",
      "balt-3nm-skag-v01-r06_1949  TS_BY15.nc\n",
      "balt-3nm-skag-v01-r06_1950  tt.nc\n",
      "balt-3nm-skag-v01-r06_1951\n"
     ]
    }
   ],
   "source": [
    "!ls {data3nmHiresaff}"
   ]
  },
  {
   "cell_type": "code",
   "execution_count": 10,
   "metadata": {},
   "outputs": [],
   "source": [
    "test = xr.open_dataset(f\"{data3nmHiresaff}/balt-3nm-skag-v01-r06_1949/gauges.nc\")"
   ]
  },
  {
   "cell_type": "code",
   "execution_count": 11,
   "metadata": {},
   "outputs": [],
   "source": [
    "data = sorted(glob(f\"{data3nmHiresaff}/balt-3nm-skag-v01-r06_????/ocean_day3d_1.nc\"))\n",
    "with dask.config.set(**{'array.slicing.split_large_chunks': False}):\n",
    "    ds = xr.open_mfdataset(data[119:], parallel=True)\n",
    "    data = ds.temp.coarsen(yt_ocean=2, xt_ocean=2, st_ocean=2).mean()\n",
    "    data.to_netcdf(\"/silod8/climateoftheearth/temp.nc\")"
   ]
  },
  {
   "cell_type": "code",
   "execution_count": 12,
   "metadata": {},
   "outputs": [],
   "source": [
    "data = sorted(glob(f\"{data3nmHiresaff}/balt-3nm-skag-v01-r06_????/ocean_day3d_1.nc\"))\n",
    "with dask.config.set(**{'array.slicing.split_large_chunks': False}):\n",
    "    ds = xr.open_mfdataset(data[119:], parallel=True)\n",
    "    data = ds.salt.coarsen(yt_ocean=2, xt_ocean=2, st_ocean=2).mean()\n",
    "    data.to_netcdf(\"/silod8/climateoftheearth/salt.nc\")"
   ]
  },
  {
   "cell_type": "code",
   "execution_count": 13,
   "metadata": {},
   "outputs": [],
   "source": [
    "data = sorted(glob(f\"{data3nmHiresaff}/balt-3nm-skag-v01-r06_????/ocean_day3d_2.nc\"))\n",
    "with dask.config.set(**{'array.slicing.split_large_chunks': False}):\n",
    "    ds = xr.open_mfdataset(data[119:], parallel=True)\n",
    "    data = ds[[\"u\",\"v\"]].coarsen(yu_ocean=2, xu_ocean=2, st_ocean=2).mean()\n",
    "    data.to_netcdf(\"/silod8/climateoftheearth/velocity.nc\")\n"
   ]
  },
  {
   "cell_type": "code",
   "execution_count": 14,
   "metadata": {},
   "outputs": [],
   "source": [
    "data = sorted(glob(f\"{data3nmHiresaff}/balt-3nm-skag-v01-r06_????/gauges.nc\"))\n",
    "with dask.config.set(**{'array.slicing.split_large_chunks': False}):\n",
    "\n",
    "    ds = xr.open_mfdataset(data[119:], parallel=True)\n",
    "    ds.to_netcdf(\"/silod8/climateoftheearth/SSH.nc\")"
   ]
  },
  {
   "cell_type": "code",
   "execution_count": 15,
   "metadata": {},
   "outputs": [],
   "source": [
    "data = sorted(glob(f\"{data3nmHiresaff}/balt-3nm-skag-v01-r06_????/ice_day.nc\"))\n",
    "with dask.config.set(**{'array.slicing.split_large_chunks': False}):\n",
    "\n",
    "    ds = xr.open_mfdataset(data[119:], parallel=True)\n",
    "    ds = ds[[\"MI\", \"CN\", \"HI\"]]\n",
    "    ds.to_netcdf(\"/silod8/climateoftheearth/ice.nc\")"
   ]
  },
  {
   "cell_type": "code",
   "execution_count": 16,
   "metadata": {},
   "outputs": [],
   "source": [
    "data = sorted(glob(f\"/data/meteo/ecmwf/era20c/era20c_surface_1_deg_????.nc\"))\n",
    "\n",
    "with dask.config.set(**{'array.slicing.split_large_chunks': False}):\n",
    "    ds = xr.open_mfdataset(data, parallel=True)\n",
    "    ds.msl.to_netcdf(\"/silod8/climateoftheearth/SLP.nc\")\n"
   ]
  },
  {
   "cell_type": "code",
   "execution_count": 17,
   "metadata": {},
   "outputs": [],
   "source": [
    "data = sorted(glob(f\"/data/meteo/ecmwf/era20c/era20c_2m_advection_1_deg_????.nc\"))\n",
    "\n",
    "with dask.config.set(**{'array.slicing.split_large_chunks': False}):\n",
    "    ds = xr.open_mfdataset(data, parallel=True)\n",
    "    ds.t2m.to_netcdf(\"/silod8/climateoftheearth/t2m.nc\")"
   ]
  },
  {
   "cell_type": "code",
   "execution_count": 18,
   "metadata": {},
   "outputs": [
    {
     "ename": "OSError",
     "evalue": "no files to open",
     "output_type": "error",
     "traceback": [
      "\u001b[0;31m---------------------------------------------------------------------------\u001b[0m",
      "\u001b[0;31mOSError\u001b[0m                                   Traceback (most recent call last)",
      "Cell \u001b[0;32mIn [18], line 3\u001b[0m\n\u001b[1;32m      1\u001b[0m data \u001b[38;5;241m=\u001b[39m \u001b[38;5;28msorted\u001b[39m(glob(\u001b[38;5;124mf\u001b[39m\u001b[38;5;124m\"\u001b[39m\u001b[38;5;132;01m{\u001b[39;00mdata3nmHiresaff\u001b[38;5;132;01m}\u001b[39;00m\u001b[38;5;124m/balt-3nm-skag-v01-r04_????/ocean_day3d_3.nc\u001b[39m\u001b[38;5;124m\"\u001b[39m))\n\u001b[1;32m      2\u001b[0m \u001b[38;5;28;01mwith\u001b[39;00m dask\u001b[38;5;241m.\u001b[39mconfig\u001b[38;5;241m.\u001b[39mset(\u001b[38;5;241m*\u001b[39m\u001b[38;5;241m*\u001b[39m{\u001b[38;5;124m'\u001b[39m\u001b[38;5;124marray.slicing.split_large_chunks\u001b[39m\u001b[38;5;124m'\u001b[39m: \u001b[38;5;28;01mFalse\u001b[39;00m}):\n\u001b[0;32m----> 3\u001b[0m     ds \u001b[38;5;241m=\u001b[39m \u001b[43mxr\u001b[49m\u001b[38;5;241;43m.\u001b[39;49m\u001b[43mopen_mfdataset\u001b[49m\u001b[43m(\u001b[49m\u001b[43mdata\u001b[49m\u001b[43m[\u001b[49m\u001b[38;5;241;43m119\u001b[39;49m\u001b[43m:\u001b[49m\u001b[43m]\u001b[49m\u001b[43m,\u001b[49m\u001b[43m \u001b[49m\u001b[43mparallel\u001b[49m\u001b[38;5;241;43m=\u001b[39;49m\u001b[38;5;28;43;01mTrue\u001b[39;49;00m\u001b[43m)\u001b[49m\n\u001b[1;32m      4\u001b[0m     data \u001b[38;5;241m=\u001b[39m ds[\u001b[38;5;124m\"\u001b[39m\u001b[38;5;124mt_o2\u001b[39m\u001b[38;5;124m\"\u001b[39m]\u001b[38;5;241m.\u001b[39mcoarsen(yt_ocean\u001b[38;5;241m=\u001b[39m\u001b[38;5;241m2\u001b[39m, xt_ocean\u001b[38;5;241m=\u001b[39m\u001b[38;5;241m2\u001b[39m, st_ocean\u001b[38;5;241m=\u001b[39m\u001b[38;5;241m2\u001b[39m)\u001b[38;5;241m.\u001b[39mmean()\n\u001b[1;32m      5\u001b[0m     data\u001b[38;5;241m.\u001b[39mto_netcdf(\u001b[38;5;124m\"\u001b[39m\u001b[38;5;124m/silod8/climateoftheearth/o2.nc\u001b[39m\u001b[38;5;124m\"\u001b[39m)\n",
      "File \u001b[0;32m/silos/conda_packages/boergel/miniconda3_4.8.2/OS_42.3/conda_env/xarray/lib/python3.10/site-packages/xarray/backends/api.py:948\u001b[0m, in \u001b[0;36mopen_mfdataset\u001b[0;34m(paths, chunks, concat_dim, compat, preprocess, engine, data_vars, coords, combine, parallel, join, attrs_file, combine_attrs, **kwargs)\u001b[0m\n\u001b[1;32m    945\u001b[0m     paths \u001b[38;5;241m=\u001b[39m [os\u001b[38;5;241m.\u001b[39mfspath(p) \u001b[38;5;28;01mif\u001b[39;00m \u001b[38;5;28misinstance\u001b[39m(p, os\u001b[38;5;241m.\u001b[39mPathLike) \u001b[38;5;28;01melse\u001b[39;00m p \u001b[38;5;28;01mfor\u001b[39;00m p \u001b[38;5;129;01min\u001b[39;00m paths]\n\u001b[1;32m    947\u001b[0m \u001b[38;5;28;01mif\u001b[39;00m \u001b[38;5;129;01mnot\u001b[39;00m paths:\n\u001b[0;32m--> 948\u001b[0m     \u001b[38;5;28;01mraise\u001b[39;00m \u001b[38;5;167;01mOSError\u001b[39;00m(\u001b[38;5;124m\"\u001b[39m\u001b[38;5;124mno files to open\u001b[39m\u001b[38;5;124m\"\u001b[39m)\n\u001b[1;32m    950\u001b[0m \u001b[38;5;28;01mif\u001b[39;00m combine \u001b[38;5;241m==\u001b[39m \u001b[38;5;124m\"\u001b[39m\u001b[38;5;124mnested\u001b[39m\u001b[38;5;124m\"\u001b[39m:\n\u001b[1;32m    951\u001b[0m     \u001b[38;5;28;01mif\u001b[39;00m \u001b[38;5;28misinstance\u001b[39m(concat_dim, (\u001b[38;5;28mstr\u001b[39m, DataArray)) \u001b[38;5;129;01mor\u001b[39;00m concat_dim \u001b[38;5;129;01mis\u001b[39;00m \u001b[38;5;28;01mNone\u001b[39;00m:\n",
      "\u001b[0;31mOSError\u001b[0m: no files to open"
     ]
    }
   ],
   "source": [
    "data = sorted(glob(f\"{data3nmHiresaff}/balt-3nm-skag-v01-r04_????/ocean_day3d_3.nc\"))\n",
    "with dask.config.set(**{'array.slicing.split_large_chunks': False}):\n",
    "    ds = xr.open_mfdataset(data[119:], parallel=True)\n",
    "    data = ds[\"t_o2\"].coarsen(yt_ocean=2, xt_ocean=2, st_ocean=2).mean()\n",
    "    data.to_netcdf(\"/silod8/climateoftheearth/o2.nc\")\n"
   ]
  },
  {
   "cell_type": "code",
   "execution_count": null,
   "metadata": {},
   "outputs": [],
   "source": [
    "data = sorted(glob(f\"/data/meteo/ecmwf/era20c/era20c_total_precip_1_deg_????.nc\"))\n",
    "\n",
    "with dask.config.set(**{'array.slicing.split_large_chunks': False}):\n",
    "    ds = xr.open_mfdataset(data, parallel=True)\n",
    "    ds.to_netcdf(\"/silod8/climateoftheearth/precip.nc\")"
   ]
  },
  {
   "cell_type": "code",
   "execution_count": null,
   "metadata": {},
   "outputs": [],
   "source": []
  }
 ],
 "metadata": {
  "kernelspec": {
   "display_name": "Python 3.10.2",
   "language": "python",
   "name": "python3"
  },
  "language_info": {
   "codemirror_mode": {
    "name": "ipython",
    "version": 3
   },
   "file_extension": ".py",
   "mimetype": "text/x-python",
   "name": "python",
   "nbconvert_exporter": "python",
   "pygments_lexer": "ipython3",
   "version": "3.10.2"
  },
  "orig_nbformat": 4,
  "vscode": {
   "interpreter": {
    "hash": "9be692de9d645bc7c4f02fcb40595cb7c702a348718509c0b480180c61d9ecdd"
   }
  }
 },
 "nbformat": 4,
 "nbformat_minor": 2
}
