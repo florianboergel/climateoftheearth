{
 "cells": [
  {
   "cell_type": "markdown",
   "id": "329b70ac-fb96-46f9-93a5-a935043d835d",
   "metadata": {},
   "source": [
    "<div style=\"background-color: #f0f0f0; border: 1px solid #ccc; padding: 10px; color: black;\">\n",
    "    <strong>Climate of the Earth system</strong>\n",
    "    <p> Prof. Dr. Markus Meier <br>\n",
    "    Leibniz Institute for Baltic Sea Research Warnemünde (IOW) <br>\n",
    "    E-Mail: markus.meier@io-warnemuende.de </p>\n",
    "</div>"
   ]
  },
  {
   "cell_type": "markdown",
   "id": "519b554f-e050-4dc0-9cf9-c8dd075a8033",
   "metadata": {},
   "source": [
    "# Estimation of statistical parameters\n",
    "\n",
    "- lets assume a sample of n independent and identically distributed (iid) random variables ${X_1,~X_2,~...,~X_n}$ and a common probability distribution function $f_X$ with no specific form\n",
    "- discrete conditional samples of continous random variables: frequency histogram - an estimator for the pdf. or phase space (e.g. $\\mathbb{R}$) is divided into K subsets $\\Theta_k$:\n",
    "```{math}\n",
    "\\cup_{k=1}^K \\Theta_k = \\mathbb{R},~~\\mathrm{and}~~ \\Theta_k \\cap \\Theta_j = \\emptyset ~~\\mathrm{for}~~ k \\neq j\n",
    "```\n",
    "- frequeny histogram: nuber of observations that fall into each $\\Theta_k$ divided by the total number of observations:\n",
    "```{math}\n",
    "\\mathbf{H}(\\Theta_k) = \\frac{|\\{\\mathbf{X_k}: \\mathbf{X_k} \\in \\Theta_k\\}|}{n}\n",
    "```\n",
    "- $\\mathbf{H}(\\Theta_k)$ is an estimator of:\n",
    "```{math}\n",
    "P(\\mathbf{X_k} \\in \\Theta_k) = \\int_{\\Theta_k}f_X(x)~dx\n",
    "```\n",
    "- with the empirical pdf:\n",
    "```{math}\n",
    "\\widehat{f_x}(x) = \\frac{\\mathbf{H}(\\Theta_k)}{\\int_{\\Theta_k}dx}~~\\mathrm{if}~~x \\in \\Theta_k\n",
    "```\n",
    "- and the empirical cumulative distribution function\n",
    "```{math}\n",
    "\\widehat{F_x}(x) = \\mathbf{H}([-\\infty,x])\n",
    "```\n"
   ]
  },
  {
   "cell_type": "markdown",
   "id": "476eec83-7f41-4fc7-beba-c231a0dd15d1",
   "metadata": {},
   "source": [
    "- best estimate of the mean $\\mu = \\int_{-\\infty}^{\\infty}xf_X(x)~dx$ is:\n",
    "```{math}\n",
    "\\widehat{\\mu} = \\mathbf{\\bar{X}} = \\frac{1}{n} \\sum_{k=1}^n \\mathbf{X_k}\n",
    "```\n",
    "- estimating the central moments\n",
    "```{math}\n",
    "\\int_{\\Omega} \\widehat{g(x)f_X(x)}~dx = \\frac{1}{n} \\sum_{k=1}^n g(X_k)\n",
    "```\n",
    "- best estimate of the variance is:\n",
    "```{math}\n",
    "\\widehat{\\sigma^2} = \\frac{1}{n-1} \\sum_{k=1}^n(X_k-\\widehat{\\mu})^2\n",
    "```\n",
    "- root mean square error (RSME) with a priori known mean:\n",
    "```{math}\n",
    "\\varepsilon_{RMS} = \\sqrt{\\frac{1}{n} \\sum_{k=1}^n(X_k-\\mu)^2}\n",
    "```\n",
    "- estimating the covariance:\n",
    "```{math}\n",
    "\\widehat{\\sigma^2_{ij}} = \\frac{1}{n-1} \\sum_{k=1}^n (X_{k;i}-\\widehat{\\mu}_i)(X_{k;j}-\\widehat{\\mu}_j)\n",
    "```\n",
    "- estimating the correlation\n",
    "```{math}\n",
    "\\widehat{\\rho}_{ij} = \\frac{\\widehat{Cov}(X_i,X_j)}{\\sqrt{\\widehat{Var}(X_i)\\widehat{Var}(X_j)}}\n",
    "```\n",
    "- pearsons correlation coefficient r:\n",
    "```{math}\n",
    "\\widehat{\\rho}_{ij} = \\frac{\\sum_{k=1}^n(X_{k;i}-\\widehat{\\mu}_i)(X_{k;j}-\\widehat{\\mu}_j)}{\\sqrt{\\sum_{k=1}^n(X_{k;i}-\\widehat{\\mu}_i)^2} \\sqrt{\\sum_{k=1}^n(X_{k;j}-\\widehat{\\mu}_j)^2}}\n",
    "```"
   ]
  }
 ],
 "metadata": {
  "kernelspec": {
   "display_name": "Python 3 (ipykernel)",
   "language": "python",
   "name": "python3"
  },
  "language_info": {
   "codemirror_mode": {
    "name": "ipython",
    "version": 3
   },
   "file_extension": ".py",
   "mimetype": "text/x-python",
   "name": "python",
   "nbconvert_exporter": "python",
   "pygments_lexer": "ipython3",
   "version": "3.11.6"
  }
 },
 "nbformat": 4,
 "nbformat_minor": 5
}