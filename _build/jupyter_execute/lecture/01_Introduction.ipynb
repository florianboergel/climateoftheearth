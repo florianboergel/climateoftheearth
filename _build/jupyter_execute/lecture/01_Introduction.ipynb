{
 "cells": [
  {
   "cell_type": "markdown",
   "id": "5420f9ac-6e4f-4410-a9b1-8baa03262d92",
   "metadata": {
    "slideshow": {
     "slide_type": "skip"
    }
   },
   "source": [
    "<div style=\"background-color: #f0f0f0; border: 1px solid #ccc; padding: 10px; color: black;\">\n",
    "    <strong>Climate of the Earth system</strong>\n",
    "    <p> Prof. Dr. Markus Meier <br>\n",
    "    Leibniz Institute for Baltic Sea Research Warnemünde (IOW) <br>\n",
    "    E-Mail: markus.meier@io-warnemuende.de </p>\n",
    "</div>"
   ]
  },
  {
   "cell_type": "markdown",
   "id": "cbf628d4",
   "metadata": {
    "slideshow": {
     "slide_type": "slide"
    }
   },
   "source": [
    "# Introduction\n",
    "\n",
    "## Earth System Science for the Baltic Sea Region\n",
    "\n",
    "<span style=\"color:red;\">Better way to show figures, so that text can be on the left/right?</span>\n",
    "\n",
    "![](./figures/L1/L1_02_Balticearthlogo.png)\n",
    "\n",
    "\n",
    "- website of the program: [https://baltic.earth](https://baltic.earth/)\n"
   ]
  },
  {
   "cell_type": "markdown",
   "id": "a4a0aae2",
   "metadata": {
    "slideshow": {
     "slide_type": "slide"
    }
   },
   "source": [
    "- the Baltic Sea region:\n",
    "  - Area of the Basin: $2.13*10^6~km^2$ (20% of the European continent)\n",
    "  - Area of the Baltic Sea: $380~000~km^2$\n",
    "  - 85 million people in 14 countries\n",
    "  - Variable climate and topography\n",
    "  - Considerable seasonal, inter-annual, decadal and long-term variations\n",
    "  - Unique, challenging region for climate and environmental studies (data, models and observations, budgets)\n",
    "  - Environmental issues of concern\n",
    "Earth system science treat the Earth as an integrated system and seeks a deeper understanding of the physical, chemical, biological and human interactions that determine the past, current and future states of the Earth."
   ]
  },
  {
   "cell_type": "markdown",
   "id": "aee9e448",
   "metadata": {},
   "source": [
    "![](./figures/L1/L1_01_Baltic_Sea_region.png)\n",
    "<figure>\n",
    "    <figcaption align = \"center\"> <b> Fig. 1: </b> Salinity of the Baltic Sea as an example of its high variability. </figcaption>\n",
    "</figure>  \n",
    "\n",
    "![](./figures/L1/L1_03_sketch_biogeochemistry.png)\n",
    "<figure>\n",
    "    <figcaption align = \"center\"> <b> Fig. 2: </b> Sketch of the Integrated Biogeochemistry Model System as an example of the complexity of the natural process happening. </figcaption>\n",
    "</figure>  "
   ]
  }
 ],
 "metadata": {
  "kernelspec": {
   "display_name": "Python 3 (ipykernel)",
   "language": "python",
   "name": "python3"
  },
  "language_info": {
   "codemirror_mode": {
    "name": "ipython",
    "version": 3
   },
   "file_extension": ".py",
   "mimetype": "text/x-python",
   "name": "python",
   "nbconvert_exporter": "python",
   "pygments_lexer": "ipython3",
   "version": "3.11.6"
  }
 },
 "nbformat": 4,
 "nbformat_minor": 5
}