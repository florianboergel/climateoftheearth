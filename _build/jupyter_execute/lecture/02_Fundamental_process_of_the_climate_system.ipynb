{
 "cells": [
  {
   "cell_type": "markdown",
   "id": "329b70ac-fb96-46f9-93a5-a935043d835d",
   "metadata": {
    "slideshow": {
     "slide_type": "skip"
    }
   },
   "source": [
    "<div style=\"background-color: #f0f0f0; border: 1px solid #ccc; padding: 10px; color: black;\">\n",
    "    <strong>Climate of the Earth system</strong>\n",
    "    <p> Prof. Dr. Markus Meier <br>\n",
    "    Leibniz Institute for Baltic Sea Research Warnemünde (IOW) <br>\n",
    "    E-Mail: markus.meier@io-warnemuende.de </p>\n",
    "</div>"
   ]
  },
  {
   "cell_type": "markdown",
   "id": "246d8c11-8df2-4f67-b31a-b0dee3cf7679",
   "metadata": {
    "slideshow": {
     "slide_type": "slide"
    }
   },
   "source": [
    "# Fundamental processes of the climate system\n",
    "\n",
    "## Earth's climate system and its subsystems\n",
    "\n",
    "```{note} Definition of climate:\\\n",
    "\"Climate in a narrow sense is usually defined as the average weather, or more rigorously, as the statistical description in terms of the mean and variability of relevant quantities over a period of time ranging from month to thousands or millions of years. The classical period is 30 years, as defined by the World Meteorological Organization (WMO).\"\\\n",
    "(Houghton, J. T., et al. (eds.), 2001: Climate Change 2001: The Scientific Basis. Contribution of Working Group I to the Third assessment Report of the Intergovernmental Panel on Climate Change. Cambridge University Press, 881 p.) ```"
   ]
  },
  {
   "attachments": {},
   "cell_type": "markdown",
   "id": "0155b917-7181-449b-803f-f9781e5b232d",
   "metadata": {
    "slideshow": {
     "slide_type": "slide"
    }
   },
   "source": [
    "\n",
    "Atmosphere:\n",
    "- small heat capacity, fast response time to an imposed change\n",
    "- time scales: annual cycle, synoptic activities (days to weeks), decadal variability; variations are called weather\n",
    "\n",
    "Hydrosphere:\n",
    "- covers ocean, lakes, rivers, precipitation, ground water\n",
    "- ocean can be divided into the deep ocean (depth scale of 1000m with time scales of 100-1000 years) and the mixed layer (depth scale of 100m with time scales of weeks-months)\n",
    "- high heat capacity, small albedo\n",
    "\n",
    "Cryosphere:\n",
    "- covers all ice and snow: inland glaciers of Greenland and Antarctica and other continental glaciers, snow fields, sea ice, permafrost\n",
    "- high albedo, small thermal conductivity\n",
    "- largest freshwater reservoir\n",
    "- time scales from 1-10 years (sea ice) to 10$^4$-10$^5$ years (inland ice)\n",
    "\n",
    "Biosphere:\n",
    "- terrestrial bio-geophysical interaction: albedo, evaporation, roughness\n",
    "- terrestrial bio-geochemical interaction: photosynthesis and respiration of carbon, impact on CH$_4$ emissions\n",
    "- time scales ranging from minutes (physiology - reaction of the stomata) to 30-150 years (succession) to 300-1500 years (migration)\n",
    "- marine biosphere acts as biological carbon pump, plays important role in carbon cycle and acts as CO$_2$ sink/source\n",
    "- time sclaes of marine biosphere similar to terrestrial ones\n",
    "\n",
    "Pedosphere:\n",
    "- outermost layer of the Earth composed of soils\n",
    "- time scales of heat and water storage depend on the layer depth: daily cycle for depths of about 10-30cm and annual cycle for depths of a few metres\n",
    "\n",
    "Lithosphere:\n",
    "- crust and the upper Earth mantle\n",
    "- important impact factors: orography, biogeochemistry (volcanoes)\n",
    "- time scales of roughly 10$^7$ years, i.e.  formation of the Himalayas and the Alps ~ 10$^6$ years, continental drift ~ 10$^8$ years\n",
    "\n",
    "*Courtesy: U. Cubasch*\n",
    "\n",
    "Nice illustration of the processes inside the subsystems: [Geomar Website](https://www.geomar.de/en/discover/ocean-and-climate/model-simulations/the-earths-climate-system)"
   ]
  },
  {
   "cell_type": "markdown",
   "id": "c5f0c8a4-3b7d-4254-895e-387900bec41f",
   "metadata": {
    "slideshow": {
     "slide_type": "slide"
    }
   },
   "source": [
    "## Radiation balance: deducing a simple climate model\n",
    "\n",
    "### Zero order model\n",
    "- deduce a simplistic climate model based on a few assumptions and refine it step by step, therefore assuming Earth's surface temperature as a scalar value instead of a scalar field, formulate radiation balance for surface temperature change depending on incoming solar radiation and outgoing thermal radiation\n",
    "\n",
    "```{math}\n",
    ":label: zom\n",
    "\\gamma \\frac{dT_{surf}}{dt} = F_{solar} - F_{thermal}\n",
    "```\n",
    "\n",
    "$\\gamma$ - global surface heat capacity \\[$J/m^2/K$\\]  \n",
    "$T_{surf}$ - global surface temperature \\[$K$\\]  \n",
    "$F_{solar}$ - incoming solar radiation flux \\[$W/m^2$\\]  \n",
    "$F_{thermal}$ - outgoing thermal radiation flux \\[$W/m^2$\\]  \n",
    "- zero order model  for radiation balance (because T scalar), $\\gamma$ is important parameter, can be seen as heat capacity: scales temperature change due to difference in outgoing and incoming radiation, higher gamma means smaller temperature change for given $\\Delta F$ and vice versa\n",
    "- solar constant $S_0$ describes average solar radiation flux hitting earth, part of it is getting reflected due to Earth's albedo. effectively only $\\pi r^2$ of total surface $4\\pi r^2$, so only $\\frac{1}{4}$ receives this radiation:\n",
    "\n",
    "```{math}\n",
    ":label: def_fsolar\n",
    "F_{solar} = \\frac{1}{4}S_0(1-\\alpha_{surf})\n",
    "```"
   ]
  },
  {
   "cell_type": "markdown",
   "id": "ca82b0fe",
   "metadata": {
    "slideshow": {
     "slide_type": "slide"
    }
   },
   "source": [
    "$S_0 = 1368 \\frac{W}{m^2}$ - solar constant  \n",
    "$\\alpha_{surf} \\approx 0.3$ - global surface albedo\n",
    "\n",
    "- with very good approximity Earth can be seen as black body radiator, so outgoing radiation can be described by Stefan-Boltzmann law:\n",
    "\n",
    "```{math}\n",
    ":label: def_fthermal\n",
    "F_{thermal} = \\sigma T^4_{surf}\n",
    "```\n",
    "\n",
    "$\\sigma = 5.67 * 10^{-8} \\frac{W}{m^2K^4}$ - Stefan-Boltzmann constant\n",
    "\n",
    "- now assume balance between incoming and outgoing radiation on long term basis $\\rightarrow \\frac{dT_{surf}}{dt}=0$:\n",
    "```{math}\n",
    "F_{thermal} = F_{solar}\\\\\n",
    "```\n",
    "- using the definitions of $F_{solar}$ [](#def_fsolar) and $F_{thermal}$ [](#def_fthermal):\n",
    "```{math}\n",
    ":label: eq5\n",
    "\\sigma T^4_{surf} = \\frac{1}{4}S_0(1-\\alpha_{surf})\\\\\n",
    "```\n",
    "- obtain expression for surface temperature solely on basis of radiation balance between insolation and thermal radiation\n",
    "```{math}\n",
    "\\Rightarrow T_{surf}^{0} = \\sqrt[4]{\\frac{S_0(1-\\alpha_{surf})}{4 \\sigma}} \\approx 255K = -18°C\n",
    "```"
   ]
  },
  {
   "cell_type": "markdown",
   "id": "49c5d649-0457-4e84-9790-0ba828b8cd7f",
   "metadata": {
    "slideshow": {
     "slide_type": "slide"
    }
   },
   "source": [
    "### Greenhouse effect\n",
    "\n",
    "```{figure} ./figures/L2/L2_3_atmosphere_absorption.png\n",
    "Atmospheric absorption and scattering applied to the blackbody radiation spectra of sun and Earth\n",
    "```\n",
    "\n",
    "- atmosphere is mixture of many gases. main constitutients listed in table below. greenhouse gases are written in bold:\n",
    "\n",
    "| Atmospheric constitutient | Concentration by volume |\n",
    "| --- | --- |\n",
    "| Nitrogen (N$_2$ | 0.7808 |\n",
    "| Oxygen (O$_2$) | 0.2095 |\n",
    "| Argon (Ar) | 0.0093 |\n",
    "| **Carbon dioxide (CO$_2$)** | **420 ppm (2023)** |\n",
    "| Neon (Ne) | 18 ppm |\n",
    "| Helium (He) | 5 ppm |\n",
    "| **Methane (CH$_4$)** | **1.9 ppm** |\n",
    "| Hydrogen (H$_2$) | 0.5 ppm |\n",
    "| **Nitrous oxide (N$_2$O)** | **0.3 ppm** |\n",
    "| **Ozone (O$_3$)** | **0-0.1 ppm** |\n"
   ]
  },
  {
   "cell_type": "markdown",
   "id": "d6952f79",
   "metadata": {
    "slideshow": {
     "slide_type": "slide"
    }
   },
   "source": [
    "- below figure shows the influence of the planetary albedo and the greenhoouse effect happening in the atmosphere. solid line shows the blackbody radiation, meaning that the albedo is zero and all the solar radiation is absorbed and thermal radiation is emitted in an equilibrium. circle markers indicate the surface temperatures of the planets with their respective albedo -- not all the insolation is absorbed, some is reflected , so that temperature is lower. star markers indicate the actual surface temperatures of the planets hich are strongly influenced by the greenhouse effect happening in the atmosphere of the planets. note how strong the effect is on Venus with a thick atmosphere and how weak on Mars with a very thin atmosphere.\n",
    "\n",
    "```{figure} figures/L2/L2_5_venuis.png\n",
    "---\n",
    "width: 50%\n",
    "---\n",
    "<p style=\"text-align: center;\"><b>Figure 4:</b> Thermal radiation of a blackbody (albedo=0) in an equilibrium energy state as function of the distance to the sun (solid line). The filled circles indicate the planetary equilibrium temeratures also considering the planetary albedos. The stars indicate the actually measured surface temperatures. </p>\n",
    "```\n",
    "\n",
    "- actually $T_{surf} \\approx 15°C$, have to consider the role of Earth's atmosphere, because greenhouse effect happens. most incoming solar radiation passes through atmosphere due too its short wavelength. outgoing thermal radiation with higher wavelengths is absorbed by the atmosphere and reemitted in all directions, also back to the surface. this implies that less energy escapes to space than what would be the case without an atmosphere. net effect is warming of the surface."
   ]
  },
  {
   "cell_type": "markdown",
   "id": "62b37a65",
   "metadata": {
    "slideshow": {
     "slide_type": "slide"
    }
   },
   "source": [
    "### Greenhouse shield model\n",
    "\n",
    "```{figure} figures/L2/L2_4_atmospheric_transm.png\n",
    "---\n",
    "width: 50%\n",
    "---\n",
    "<p style=\"text-align: center;\"><b>Figure 5:</b> Sketch for the greenhouse shield model considering the short- and longwave transmissivity of the atmosphere. </p>\n",
    "```\n",
    "\n",
    "- can formulate radiation balances for top of atmosphere and Earth's surface\n",
    "```{math}\n",
    ":label: balances\n",
    "\\begin{align*}\n",
    "F_{solar} &= F_{atm} + \\tau_{lw}F_{thermal}\\\\\n",
    "\\tau_{sw}F_{solar} + F_{atm} &= F_{thermal}\n",
    "\n",
    "\\end{align*}\n",
    "```\n",
    "$\\tau_{sw} \\approx 0.67$ - atmospheric shortwave transmissivity  \n",
    "$\\tau_{lw} \\approx 0.06$ - atmospheric longwave transmissivity  \n",
    "\n",
    "- can quickly eliminate $F_{atm}$  from [](#balances) to obtain:\n",
    "```{math}\n",
    ":label: balance_both\n",
    "F_{solar} - \\tau_{lw}F_{thermal} = F_{thermal} - \\tau_{sw}F_{solar}\n",
    "```\n",
    "- which can be reframed to get:\n",
    "```{math}\n",
    "F_{thermal} = F_{solar} \\frac{1 + \\tau_{sw}}{1 + \\tau_{lw}}\n",
    "```\n",
    "- plugging in the definitions of $F_{solar}$ [](#def_fsolar) and $F_{thermal}$ [](#def_fthermal):\n",
    "```{math}\n",
    "\\sigma T_{surf}^4 = \\frac{1}{4}S_0(1-\\alpha_{surf}) \\frac{1 + \\tau_{sw}}{1 + \\tau_{lw}}\n",
    "```\n",
    "- now we can get an expression for the surface temperature including the greenhouse effect:\n",
    "```{math}\n",
    "T_{surf}^1 = \\sqrt[4]{\\frac{1}{4\\sigma}S_0(1-\\alpha_{surf}) \\frac{1 + \\tau_{sw}}{1 + \\tau_{lw}}} \\approx 285K = 12°C\n",
    "```"
   ]
  },
  {
   "cell_type": "markdown",
   "id": "08531b9d",
   "metadata": {
    "slideshow": {
     "slide_type": "slide"
    }
   },
   "source": [
    "\n",
    "```{figure} figures/L2/L2_6_global_energy.png\n",
    "---\n",
    "width: 50%\n",
    "---\n",
    "<p style=\"text-align: center;\"><b>Figure 6:</b> Quantitative sketch of the global energy flows (2000-2005 global mean).</p>\n",
    "```\n",
    "- albedo = solar incoming/solar reflected = 100/340 = 0.29\n",
    "- imbalance = 0.7 $\\frac{W}{m^2}$\n",
    "- absorbed by surface = absorbed surface/solar incoming = 160/340 = 0.47\n",
    "- atmospheric shortwave transmissivity $\\tau_{sw}$ = absorbed surface/(solar incoming - solar reflected) = 160/(340-100) = 0.67\n",
    "- atmospheric longwave transmissivity $\\tau_{lw} \\approx$ 0.06, see atmospheric window "
   ]
  },
  {
   "cell_type": "markdown",
   "id": "29af204f-e3da-4365-8b40-40a6a85b7320",
   "metadata": {
    "slideshow": {
     "slide_type": "slide"
    }
   },
   "source": [
    "### Greenhouse model with ice-albedo feedback\n",
    "\n",
    "- net absorbed energy of $0.7\\frac{W}{m^2}$ -> warming. warming means melting of ice and snow -> albedo decreases (see below values, difference from ice and snow to water): this is the ice-albedo feedback\n",
    "\n",
    "| Properties of the ground | Albedo [%] |\n",
    "| --- | --- |\n",
    "| Snow | 75-95 |\n",
    "| Old snow | 50-70 |\n",
    "| Ice | 30-40 |\n",
    "| Sand | 20-30 |\n",
    "| Grass | 15-20 |\n",
    "| Forest | 5-20 |\n",
    "| Water | 3-10 |\n",
    "| Water (with sun close to the horizon) | 10-100 |\n",
    "\n"
   ]
  },
  {
   "cell_type": "markdown",
   "id": "fd747465",
   "metadata": {
    "slideshow": {
     "slide_type": "slide"
    }
   },
   "source": [
    "- idea of Budyko 1969 to implement ice-albedo feedback into the zero order model with thee greenhouse effect. start from zero order model [](#zom):\n",
    "```{math}\n",
    ":label: start_albedo_model\n",
    "\\gamma \\frac{dT_{surf}}{dt} = \\frac{S_0}{4}(1-\\alpha_{feedback}) - F_{thermal}\n",
    "```\n",
    "-  adapt two things: 1. linearize earths thermal radiation $F_{thermal}$ and include the greenhouse effect in the parameters and 2. formulate earths albedo $\\alpha$ as a function of T_surf\n",
    "- 1: linearize thermal radiation as a function of surface temperature:\n",
    "```{math}\n",
    ":label: albedo_fthermal\n",
    "F_{thermal} = A + B*(T_{surf} - 273.15K)\n",
    "```\n",
    "$A = 203.3 \\frac{W}{m^2}$  \n",
    "$B = 2.09 \\frac{W}{m^2K}$\n",
    "- values for A and B taken from observations so they include the greenhouse effect\n",
    "\n",
    "```{figure} figures/L2/L2_7_plot_fthermal.png\n",
    "---\n",
    "width: 50%\n",
    "---\n",
    "<p style=\"text-align: center;\"><b>Figure 7:</b> Thermal radiation. left: blackbody radiation, right: blackbody radiation for a narrower temperature range and the linearization of the thermal radiation by Budyko. </p>\n",
    "```\n",
    "- see that linearization in red is a good approach and see that linearization parameter B includes greenhouse effect as red slope is smaller than black slope\n",
    "- 2: now we want to describe albedo $\\alpha$ as a function of $T_{surf}$ instead of setting a constant value"
   ]
  },
  {
   "cell_type": "markdown",
   "id": "4a32142e-dd88-4ff9-b96d-759f1e0dd7ac",
   "metadata": {
    "slideshow": {
     "slide_type": "slide"
    }
   },
   "source": [
    "- there are two extremes: a totally ice-covered world with the albedo $\\alpha_{ice} = 0.62$, we assign that to be the case for temperatures lower than $T_{ice}=-10°C$. or a totally ice free world with an albedo of $\\alpha_{noice} = 0.30$ for temperatures over $T_{noice}=0°C$. for temperatures in between assume a linear decrease of the albedo:\n",
    "```{math}\n",
    ":label: albedo\n",
    "\\alpha_{feedback}(T_{surf})=  \\left\\{\n",
    "\\begin{array}{ll}\n",
    "      \\alpha_{ice} & T_{surf}<T_{ice} \\\\\n",
    "      \\alpha_{ice} - \\frac{0.32}{10K}(T_{surf}-T_{ice}) & T_{ice} < T_{surf} < T_{noice}\\\\\n",
    "      \\alpha_{noice} & T_{noice} < T_{surf}\\\\\n",
    "\\end{array} \\right.\n",
    "```\n",
    "\n",
    "```{figure} figures/L2/L2_8_plot_albedo.png\n",
    "---\n",
    "width: 50%\n",
    "---\n",
    "<p style=\"text-align: center;\"><b>Figure 8:</b> Graphic representation of the assumed albedo as a function of the surface temperature. </p>\n",
    "```\n",
    "\n"
   ]
  },
  {
   "cell_type": "markdown",
   "id": "d30fee0a",
   "metadata": {
    "slideshow": {
     "slide_type": "slide"
    }
   },
   "source": [
    "- in order to get equilibrium surface temperatures we set $\\frac{dT_{surf}}{dt}=0$ and insert [](#albedo_fthermal), and [](#albedo) into [](#start_albedo_model). this yields:\n",
    "```{math}\n",
    ":label: equilibrium_albedo\n",
    "\\frac{S_0}{4}(1-\\alpha_{feedback}) = A + B*(T_{surf} - 273.15K)\n",
    "```\n",
    "- equation has three solutions all representing an equilibrium state for the surface temperature:\n",
    "```{math}\n",
    "\\begin{align*}\n",
    "  &\\textrm{1. fully ice covered Earth:}~~~~~~~~~~T_{surf} = \\frac{(1-\\alpha_{ice})S_0/4-A}{B} +273.15K= -35.4°C\\\\\n",
    "  &\\textrm{2. partially ice covered Earth:}~~~T_{surf} = \\frac{\\frac{S_0}{4} \\left( 1-\\alpha_{ice} -\\frac{0.32}{10°C}T_{ice}\\right)-A}{B-\\frac{S_0}{4}\\frac{0.32}{10K}} +273.15K = -4.0°C\\\\\n",
    "  &\\textrm{3. Earth without ice cover:}~~~~~~~~T_{surf} = \\frac{(1-\\alpha_{noice})S_0/4-A}{B} +273.15K = 16.7°C \n",
    "\\end{align*}\n",
    "```\n",
    "\n",
    "```{figure} figures/L2/L2_9_plot_equilibria.png\n",
    "---\n",
    "width: 50%\n",
    "---\n",
    "<p style=\"text-align: center;\"><b>Figure 9:</b> Solar and thermal radiative forcing. The surface temperature is at an equilibrium point at the intersections. </p>\n",
    "```"
   ]
  },
  {
   "cell_type": "markdown",
   "id": "bb8ae7ae-9b8d-406e-97c2-8e862fd79000",
   "metadata": {
    "slideshow": {
     "slide_type": "slide"
    }
   },
   "source": [
    "## Climate stability and sensitivity\n",
    "### Climate potential\n",
    "- what happens when deviation from these equilibrium temperatures? in general there are two types of equilibria: if adding a small perturbation to a stable equilibrium it returns to its initial state. if adding a small perturbation to an unstable equilibrium the perturbation starts growing and the system will not return to equilibrium state- it will drift away\n",
    "- for climate science a climate potential P describes these behaviours. P is defined as:\n",
    "```{math}\n",
    ":label: potential_def\n",
    "P(\\chi) = - \\int F_{total}(\\chi)~d\\chi,\n",
    "```\n",
    "- in our case of the greenhouse model with ice-albedo feedback: $\\chi$ the variable of interest that the potential depends on, $T_{surf}$; and $F_{total}$ the forcing on the system, for us $F_{solar}-F_{thermal}$. insert into [](#potential_def):\n",
    "```{math}\n",
    ":label: substitutions\n",
    "\\chi \\rightarrow T_{surf}\\\\\n",
    "F_{total}(\\chi) \\rightarrow F_{solar}(T_{surf})~-~F_{thermal}(T_{surf})\\\\\n",
    "P(T_{surf}) = -\\int F_{solar}-F_{thermal} ~dT_{surf}\n",
    "```\n"
   ]
  },
  {
   "cell_type": "markdown",
   "id": "73f2db6d",
   "metadata": {
    "slideshow": {
     "slide_type": "slide"
    }
   },
   "source": [
    "- recalling the definitions of $F_{solar}$ and $F_{thermal}$ yields formula for the climate potential of the greenhouse model with ice-albedo feedback:\n",
    "```{math}\n",
    ":label: potential\n",
    "\\begin{align*}\n",
    "P(T_{surf}) &= -\\int \\left( \\frac{S_0}{4}(1-\\alpha_{feedback}(T_{surf})) - (A + B(T_{surf}-273.15K)) \\right)~ dT_{surf}\\\\\n",
    "&= AT_{surf} + B \\left( \\frac{1}{2}T_{surf}^2- T_{surf}*273.15K\\right)-\\frac{S_0}{4} \\int (1-\\alpha_{feedback}(T_{surf}))~dT_{surf}\n",
    "\\end{align*}\n",
    "```\n",
    "```{figure} figures/L2/L2_10_plot_potential_albedo.png\n",
    "---\n",
    "width: 50%\n",
    "---\n",
    "<p style=\"text-align: center;\"><b>Figure 10:</b> Climate potential for the greenhouse model with albedo-feedback and its equilibrium states. </p>\n",
    "```\n",
    "- recalling the definition of the potential [](#potential_def) we can describe the forcing of our climate system if the climate potential is known as:\n",
    "```{math}\n",
    ":label: forcing\n",
    "F_{total}(T_{surf}) = -\\frac{dP(T_{surf})}{dT_{surf}}\n",
    "```\n",
    "- apply this definition to climate potential shown in Figure 10. in point 1: perturbation to left/right cause force in opposite direction, back to equilibrium. same for point 3. but perturbing the system from point 2 causes a force in the same direction, away from the equilibrium.\n",
    "  1. Totally  ice covered earth is stable.\n",
    "  2. Partially ice covered earth is unstable.\n",
    "  3. Earth without ice cover is stable."
   ]
  },
  {
   "cell_type": "markdown",
   "id": "cfc452a1-9c82-4b45-b825-cdbbc20a4c27",
   "metadata": {
    "slideshow": {
     "slide_type": "slide"
    }
   },
   "source": [
    "### Tipping points of the climate system\n",
    "- tipping point is a criticial threshold beyond which a small change can cause strong and **often times irreversible** changes to the climate system. figure 11 shows the most important known tipping points of our climate system.\n",
    "\n",
    "```{figure} figures/L2/L2_11_tipping_points.png\n",
    "---\n",
    "width: 50%\n",
    "---\n",
    "<p style=\"text-align: center;\"><b>Figure 11:</b> Tipping points of the Earth's climate system Earth and under which warming scenarios they may be reached. </p>\n",
    "```"
   ]
  },
  {
   "cell_type": "markdown",
   "id": "7a4b1342",
   "metadata": {
    "slideshow": {
     "slide_type": "slide"
    }
   },
   "source": [
    "- tipping point is described by a local maximum of the climate potential. if an additional constant forcing $C$ is added to the total forcing in equation [](#substitutions):\n",
    "```{math}\n",
    ":label: add_forcing\n",
    "P(T_{surf}) = -\\int (F_{solar} - F_{thermal} + C)~dT_{surf},\n",
    "```\n",
    "- we obtain\n",
    "```{math}\n",
    "P(T_{surf}) = P_0(T_{surf}) - CT_{surf},\n",
    "```\n",
    "- with the original potential\n",
    "```{math}\n",
    ":label: p0\n",
    "P_0(T_{surf}) = -\\int (F_{solar}-F_{thermal}) ~dT_{surf}.\n",
    "```"
   ]
  },
  {
   "cell_type": "markdown",
   "id": "49d2245c",
   "metadata": {
    "slideshow": {
     "slide_type": "slide"
    }
   },
   "source": [
    "- constant additional forcing effectively rotates the potential clockwise\n",
    "- imagine ball in the modified potential rolling into new equilibrium\n",
    "```{figure} figures/L2/L2_12_plot_tipping_points.png\n",
    "---\n",
    "width: 70%\n",
    "---\n",
    "<p style=\"text-align: center;\"><b>Figure 12:</b> Climate potential of the greenhouse model with ice-albedo feedback for different additional external forcings C. After reaching the tipping point the ball rolls into a new equilibrium. </p>\n",
    "```\n",
    "- after removing the additional forcing to return to the potential $P_0$: system is still in new equilibrum state -> climate change is irreversible!\n",
    "```{figure} figures/L2/L2_13_plot_tipping_points_back.png\n",
    "---\n",
    "width: 70%\n",
    "---\n",
    "<p style=\"text-align: center;\"><b>Figure 13:</b> Decreasing the additional forcing for the climate potential of the greenhouse model with ice-albedo feedback after it reached the tipping point. The system stays in the new equilibrium. </p>\n",
    "```"
   ]
  },
  {
   "cell_type": "markdown",
   "id": "e09b1a5b-f140-4779-a2e6-4f183c6bd301",
   "metadata": {
    "slideshow": {
     "slide_type": "slide"
    }
   },
   "source": [
    "### Climate sensitivity\n",
    "\n",
    "- describes the change of temperature or any other variable of interest per change in forcing. forcing can be different things, such as forcing through carbon emissions, a change in solar forcing, volcanic eruptions, many more. we look at\n",
    "```{math}\n",
    ":label: sensitivity_def\n",
    "\\lambda = \\frac{\\Delta T}{\\Delta Q}\n",
    "```\n",
    "- for our different climate models from *2.2*.\n",
    "- 1. IPCC AR6 from 2021 gives different climate change scenarios called SSP... (Shared Socioeconomic Pathways), shown in figure 14. last number of these pathways indicate the additional radiative forcing. for SSP1-2.6: $\\Delta Q = 2.6 \\frac{W}{m^2}$ with a temperature change relative to preindustrial time of $\\Delta T = 2K$. inserting these 2 values into [](#sensitivity_def):\n",
    "```{math}\n",
    ":label: sensitivity_ipcc\n",
    "\\lambda_1 = \\frac{2.0K}{2.6 \\frac{W}{m^2}} = 0.77 \\frac{m^2K}{W}\n",
    "```\n",
    "```{figure} figures/L2/L2_14_ipcc_sensitivity.png\n",
    "---\n",
    "width: 40%\n",
    "---\n",
    "<p style=\"text-align: center;\"><b>Figure 14:</b> Global temperature change for different warming scenarios based on an increase in radiative forcing. </p>\n",
    "```\n",
    "- 2. zero order model. use equation [](#eq5). Q is absorbed solar radiation $Q=F_{solar}$.\n",
    "  ```{math}\n",
    "  \\lambda_2 = \\frac{dT_{surf}}{dQ} = \\frac{d}{dQ} \\left[ \\left( \\frac{Q}{\\sigma} \\right)^{\\frac{1}{4}} \\right] = \\frac{1}{4\\sigma} \\left( \\frac{Q}{\\sigma} \\right)^{\\frac{-3}{4}} = \\frac{\\left( \\frac{Q}{\\sigma} \\right)^{\\frac{1}{4}}}{4Q} = \\frac{T_{surf}}{4Q} = \\frac{255K}{4*239.4\\frac{W}{m^2}} = 0.27 \\frac{m^2K}{W}\n",
    "  ```\n",
    "- 3. Greenhouse shield model. using [](#equilibrium_albedo) and noting that the left side is just $F_{solar}$, which is our Q:\n",
    "  ```{math}\n",
    "  \\lambda_3 = \\frac{dT_{surf}}{dQ} = \\frac{d}{dQ} \\left( \\frac{Q -A}{B} -273.15K \\right) = \\frac{1}{B} = 0.48 \\frac{m^2K}{W}\n",
    "  ```\n",
    "- 4. Greenhouse model with ice-albedo feedback. interesting part is where the world is partially ice covered and the feedback mechanism happens. but previous calculations revealed unstable equlibrium in this area. it doesnt make sense to analyse cliate sensititvity around unstable points. small perturbations cause high temperature changes which are not actually caused by the change in forcing but by the system falling into a new equilibrium. if we reduce the albedo gradient from $-0.032\\frac{1}{K}$ to $-0.003\\frac{1}{K}$. furthermore we assume $Q = \\frac{S_0}{4}$, so that the effects of the albedo feedback can be noticed. we can rewrite [](#equilibrium_albedo):\n",
    "  ```{math}\n",
    "  Q(1-\\alpha_{ice} + 0.003\\frac{1}{K}(T_{surf}-T_{ice}) = A + B(T_{surf} +273.15K)\n",
    "  ```\n",
    "- rewriting this expression for $T_{surf}(Q)$ (can be done as homework) yields:\n",
    "  ```{math}\n",
    "  \\lambda_4 = \\frac{dT}{dQ} = 0.66 \\frac{m^2K}{W}\n",
    "  ```\n",
    "- ice-albedo feedback increases climate sensitivity drastically.\n",
    "\n"
   ]
  },
  {
   "cell_type": "markdown",
   "id": "8c8e62bf",
   "metadata": {
    "slideshow": {
     "slide_type": "slide"
    }
   },
   "source": [
    "### Feedback mechanisms\n",
    "- in general we have climate system Earth and look at the temperature. change in temperature can trigger two different kinds of feedback. first a positive feedback, which is a reaction of the system to the change in temperature, that further increases the trend. negative feedback is the opposite: the system reacts to a change in temperature in a way opposing the original trend thus decreasing it. lets go through a few examples:\n",
    "1. ice-albedo feedback: temperature increases which causes the melting of surface ice, which increases the planetary albedo which leads to an increase in absorbed solar radiation.\n",
    "\n",
    "```{figure} figures/L2/L2_15_icealbedo_feedback.png\n",
    "---\n",
    "width: 30%\n",
    "---\n",
    "<p style=\"text-align: center;\"><b>Figure 15:</b> Scheme of the ice-albedo feedback. </p>\n",
    "```\n",
    "```{figure} figures/L2/L2_16_blackbody_feedback.png\n",
    "---\n",
    "width: 30%\n",
    "---\n",
    "<p style=\"text-align: center;\"><b>Figure 16:</b> Scheme of the blackbody radiation feedback. </p>\n",
    "```\n",
    "```{figure} figures/L2/L2_17_watervapor_feedback.png\n",
    "---\n",
    "width: 30%\n",
    "---\n",
    "<p style=\"text-align: center;\"><b>Figure 17:</b> Scheme of the water vapor feedback. </p>\n",
    "```\n",
    "```{figure} figures/L2/L2_18_cloudssolar_feedback.png\n",
    "---\n",
    "width: 30%\n",
    "---\n",
    "<p style=\"text-align: center;\"><b>Figure 18:</b> Scheme of the solar cloud feedback. </p>\n",
    "```\n",
    "```{figure} figures/L2/L2_19_cloudsthermal_feedback.png\n",
    "---\n",
    "width: 30%\n",
    "---\n",
    "<p style=\"text-align: center;\"><b>Figure 19:</b> Scheme of the thermal cloud feedback. </p>\n",
    "```\n",
    "*Courtesy: D. Dommenget*"
   ]
  },
  {
   "cell_type": "markdown",
   "id": "5cf311b8-fdcc-4c67-8189-81858d460278",
   "metadata": {
    "slideshow": {
     "slide_type": "slide"
    }
   },
   "source": [
    "## Questions:\n",
    "1. Explain what an Earth system approach is. Which are the five components of the Earth climate system? Provide brief characteristics.\n",
    "2. List three important greenhouse gases.\n",
    "3. Explain the greenhouse effect in detail.\n",
    "4. Define climate feedbacks and climate sensitivity and relate the two quantities to each other. Explain at least one example of a climate feedback.\n",
    "5. What is a tipping point of the climate system? (Hint: draw a sketch of a climate potential and explain in words why changing climate might be irreversible.)"
   ]
  },
  {
   "cell_type": "markdown",
   "id": "82e5f812-bec9-4e95-a98f-231243c4b6b8",
   "metadata": {
    "slideshow": {
     "slide_type": "skip"
    }
   },
   "source": [
    "## Table of figures\n",
    "\n",
    "Figure 1: FAQ 1.2, Figure 1 in IPCC, 2007: Chapter 1. In Climate Change 2007: The Physical Science Basis. Contribution of Working group I to the Fourth Assessment Report of the Intergovernmental Panel on Climate Change [Core Writing Team, Pachauri, R.K. and Reisinger, A. (eds.)]. IPCC, Geneva, Switzerland, 104pp.\n",
    "Figure 2: https://www.geomar.de/en/discover/ocean-and-climate/model-simulations/the-earths-climate-system, access on 22.02.2024\n",
    "Figure 3: Robert A. Rohde, https://commons.wikimedia.org/wiki/File:Atmospheric_Transmission.png, access on 24.02.2024, GNU Free Documentation License\n",
    "Figure 6: IPCC, AR6 Climate Change 2021: The Physical Science Basis. Contribution of Working Group I to the Sixth Assessment Report of the Intergovernmental Panel on Climate Change [Forster, P., T. Storelvmo, K. Armour, W. Collins, J.-L. Dufresne, D. Frame, D.J. Lunt, T. Mauritsen, M.D. Palmer, M. Watanabe, M. Wild, and H. Zhang, 2021: The Earth’s Energy Budget, Climate Feedbacks, and Climate Sensitivity. In Climate Change 2021: The Physical Science Basis. Contribution of Working Group I to the Sixth Assessment Report of the Intergovernmental Panel on Climate Change [Masson-Delmotte, V., P. Zhai, A. Pirani, S.L. Connors, C. Péan, S. Berger, N. Caud, Y. Chen, L. Goldfarb, M.I. Gomis, M. Huang, K. Leitzell, E. Lonnoy, J.B.R. Matthews, T.K. Maycock, T. Waterfield, O. Yelekçi, R. Yu, and B. Zhou (eds.)]. Cambridge University Press, Cambridge, United Kingdom and New York, NY, USA, pp. 923–1054, doi: 10.1017/9781009157896.009 .]  \n",
    "Figure 11: D. I. Armstrong McKay et. al.. Exceeding 1.5°C global warming could trigger multiple climate tipping points. Science, Vol. 377, Issue 6611, 2022. https://doi.org/10.1126/science.abn7950\n",
    "Figure 14: Figure 1.16 in IPCC, 2021: Chapter 1. In: Climate Change 2021: The Physical Science Basis. Contribution of Working Group I to the Sixth Assessment Report of the Intergovernmental Panel on Climate Change [Chen, D., M. Rojas, B.H. Samset, K. Cobb, A. Diongue Niang, P. Edwards, S. Emori, S.H. Faria, E. Hawkins, P. Hope, P. Huybrechts, M. Meinshausen, S.K. Mustafa, G.-K. Plattner, and A.-M. Tréguier, 2021: Framing, Context, and Methods. In Climate Change 2021: The Physical Science Basis. Contribution of Working Group I to the Sixth Assessment Report of the Intergovernmental Panel on Climate Change [Masson-Delmotte, V., P. Zhai, A. Pirani, S.L. Connors, C. Péan, S. Berger, N. Caud, Y. Chen, L. Goldfarb, M.I. Gomis, M. Huang, K. Leitzell, E. Lonnoy, J.B.R. Matthews, T.K. Maycock, T. Waterfield, O. Yelekçi, R. Yu, and B. Zhou (eds.)]. Cambridge University Press, Cambridge, United Kingdom and New York, NY, USA, pp. 147–286, doi: 10.1017/9781009157896.003 .]"
   ]
  }
 ],
 "metadata": {
  "kernelspec": {
   "display_name": "Python 3 (ipykernel)",
   "language": "python",
   "name": "python3"
  }
 },
 "nbformat": 4,
 "nbformat_minor": 5
}