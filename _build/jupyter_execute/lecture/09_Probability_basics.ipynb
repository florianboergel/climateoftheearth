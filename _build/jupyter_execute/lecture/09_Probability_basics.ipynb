{
 "cells": [
  {
   "cell_type": "markdown",
   "id": "329b70ac-fb96-46f9-93a5-a935043d835d",
   "metadata": {},
   "source": [
    "<div style=\"background-color: #f0f0f0; border: 1px solid #ccc; padding: 10px; color: black;\">\n",
    "    <strong>Climate of the Earth system</strong>\n",
    "    <p> Prof. Dr. Markus Meier <br>\n",
    "    Leibniz Institute for Baltic Sea Research Warnemünde (IOW) <br>\n",
    "    E-Mail: markus.meier@io-warnemuende.de </p>\n",
    "</div>"
   ]
  },
  {
   "cell_type": "markdown",
   "id": "519b554f-e050-4dc0-9cf9-c8dd075a8033",
   "metadata": {},
   "source": [
    "# Probability basics\n",
    "- examples of uncertain, stochastic events: coin tossing, lottery numbers, rainfall at a certain time and place, any physical quantity of a stochastic or thermodynamic process\n",
    "- examples of certain, deterministic events. length of a body (table, room or ship), time of the sun rise, wave propagation, any kind of physical quantity of a deterministic process (with well-defined initial values)\n",
    "\n",
    "- 1. definitions for probability P, events A and B, sample space S:\n",
    "  - probability of A: $P(A) ~\\epsilon~ [0,1]$\n",
    "  \n",
    "  - probability of not A: $P(A') = 1-P(A)$\n",
    "  - $P(A \\cup A') = P(A) + P(A') =1$\n",
    "  - $P(A \\cap A') = 0$\n",
    "  - $P(A \\cup B) + P(A \\cap B) = P(A) + P(B)$\n",
    "  \n",
    "  - probability of any event of the sample space happening $P(S) = 1$\n",
    "  \n",
    "- 2. exapmles\n",
    "  - When you flip a coin twice, what's the probability of a) getting the same side twice, b) getting each side once, c) first heads (H) then tails (T)? What is the sample space S?  \n",
    "    Answer: a) $P = \\frac{1}{2}$,  b) $P = \\frac{1}{2}$,  c) $P = \\left( \\frac{1}{2}\\right)^2 = \\frac{1}{4}$, S={HT, TH, HH, TT}\n",
    "  - When rolling a dice: event A = even number, event B = number < 3. What are $P(A \\cup B)$ and $P(A) + P(B)$?\n",
    "    Answer: $P(A \\cup B)=\\frac{5}{6}$ and $P(A \\cap B)=\\frac{1}{6}$\n",
    "  - Whats the probability of tossing the number 6 at least once with 3 dices?  \n",
    "    Answer: $P = 1 - P' = 1 - \\left( \\frac{5}{6} \\right)^3 \\approx 0.42$\n",
    "\n",
    "- conditional probability\n",
    "  - if two events are stochastically independent, i.e. the result of a coin flip and dice toss at the same time: $P(A \\cap B)=P(A) + P(B)$\n",
    "  - if two events are stochastically dependent, i.e. A = storm, B = winter, probability of A happening under the condition that B has already happened $P(A|B) = \\frac{P(A \\cap B)}{P(B)}$\n",
    "  - stochastical dependence implies a causality direction, i.e. weather and the weather forecast. the weather forecast depends on the weather but vice versa the weather does not depend on the forecast\n",
    "  \n",
    "  \n",
    "    "
   ]
  }
 ],
 "metadata": {
  "kernelspec": {
   "display_name": "Python 3 (ipykernel)",
   "language": "python",
   "name": "python3"
  },
  "language_info": {
   "codemirror_mode": {
    "name": "ipython",
    "version": 3
   },
   "file_extension": ".py",
   "mimetype": "text/x-python",
   "name": "python",
   "nbconvert_exporter": "python",
   "pygments_lexer": "ipython3",
   "version": "3.11.6"
  }
 },
 "nbformat": 4,
 "nbformat_minor": 5
}