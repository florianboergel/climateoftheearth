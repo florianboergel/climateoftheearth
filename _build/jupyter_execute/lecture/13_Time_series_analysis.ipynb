{
 "cells": [
  {
   "cell_type": "markdown",
   "id": "329b70ac-fb96-46f9-93a5-a935043d835d",
   "metadata": {},
   "source": [
    "<div style=\"background-color: #f0f0f0; border: 1px solid #ccc; padding: 10px; color: black;\">\n",
    "    <strong>Climate of the Earth system</strong>\n",
    "    <p> Prof. Dr. Markus Meier <br>\n",
    "    Leibniz Institute for Baltic Sea Research Warnemünde (IOW) <br>\n",
    "    E-Mail: markus.meier@io-warnemuende.de </p>\n",
    "</div>"
   ]
  },
  {
   "cell_type": "markdown",
   "id": "519b554f-e050-4dc0-9cf9-c8dd075a8033",
   "metadata": {},
   "source": [
    "# Time series analysis - basic definitions and examples\n",
    "\n",
    "- decomposition of a time series into deterministic parts and noise\n",
    "```{figure} figures/L13/L13_1_timeseries.PNG\n",
    "---\n",
    "width: 25%\n",
    "---\n",
    "<p style=\"text-align: center;\"><b>Figure 1:</b> A time series (blue line) deconstructed into a deterministic cycle (green line), a deterministic non.linear trend (red line) and into the residual red noise variability (black line). </p>\n",
    "```\n",
    "\n",
    "- exmaples of the volatility of different temperature time series\n",
    "```{figure} figures/L13/L13_2_temperature_series.PNG\n",
    "---\n",
    "width: 30%\n",
    "---\n",
    "<p style=\"text-align: center;\"><b>Figure 2:</b> 50 years long time series of monthly mean temperatures of the atmosphere in 2mter height at location in northern Asia (upper), of the sea surface in the North Atlantic (middle) and in 180meters depth in the North Atlantic Ocean (lower). </p>\n",
    "```\n",
    "\n",
    "- the El Nino time series spectrum:\n",
    "```{figure} figures/L13/L13_3_elnino.PNG\n",
    "---\n",
    "width: 60%\n",
    "---\n",
    "<p style=\"text-align: center;\"><b>Figure 3:</b> El Nino SST time series (left) and an estimate of the spectrum together with a theoretical spectrum (right). The theoretical spectrum is that of an auto-regressive process of the first order, where the parameters of the process have been fitted to those of the El Nino SST time series. </p>\n",
    "```\n",
    "\n",
    "- correlation of time series does depend on their time frame\n",
    "```{figure} figures/L13/L13_4_ts_correlation.PNG\n",
    "---\n",
    "width: 25%\n",
    "---\n",
    "<p style=\"text-align: center;\"><b>Figure 4:</b> Two time series (upper lines) that are uncorrelated, but are correlated on longer time scales (lower lines). </p>\n",
    "```\n",
    "\n",
    "- definition of a stationary process: a stochastic process $X_t: t \\in \\mathbb{Z}$ is said to be stationary if all stochastic properties are independent of $t$ (index of time or space):\n",
    "  1. $\\mathbf{X_t}$ has the same distribution function F for all $t$, and\n",
    "  2. for all $t$ and $s$ the parameters of the joint distribution function of $\\mathbf{X_t}$ and $\\mathbf{X_s}$ depend only on $|t-s|$.\n",
    "- most climate variables are not stationary, mostly due to externally forced deterministic cycles such as he diurnal or annual cycles\n",
    "\n",
    "- cyclo-stationary processes:\n",
    "  1. $\\varepsilon(\\mathbf{X_t}) = \\mu_{t|m}$. The mean is a function of the time within the external cycle, where $t|m$ refers to the phase in the external cycle.\n",
    "  2. $\\forall t,s$ is $f_{X_t X_s} = f_{X_tX_s}(|t-s|,~t|m)$. For all $t$ and $s$ the parameters of the joint distribution function, $f_{X_tX_s}$ of $\\mathbf{X_t}$ and $\\mathbf{X_s}$ depend only on $|t-s|$ and the phase $t|m$ in the external cycle.\n",
    "- stationarity does not apply to climate variables due to long-term trends in the boundary conditions (e.g. atmospheric carbon increase) -> remove trend and assume cycle-stationarity\n",
    "\n",
    "- ergodicity: a physical system is ergodic if the average in time:\n",
    "```{math}\n",
    " \\widehat{\\mu_t} = \\frac{1}{n}\\sum_{t=1}^n g(X_t)\n",
    "```\n",
    "- and the ensemble mean\n",
    "```{math}\n",
    " \\widehat{\\mu_i} = \\frac{1}{n}\\sum_{i=1}^n g(X_i)\n",
    "```\n",
    "- are equal to another\n",
    "```{math}\n",
    " \\widehat{\\mu_t} = \\widehat{\\mu_i}.\n",
    "```\n",
    "- have to take into account that we cannot observe ensembles of the climate system\n",
    "- hypotheses testing: Does the climate chage?, insert explanation -> take home message?"
   ]
  }
 ],
 "metadata": {
  "kernelspec": {
   "display_name": "Python 3 (ipykernel)",
   "language": "python",
   "name": "python3"
  },
  "language_info": {
   "codemirror_mode": {
    "name": "ipython",
    "version": 3
   },
   "file_extension": ".py",
   "mimetype": "text/x-python",
   "name": "python",
   "nbconvert_exporter": "python",
   "pygments_lexer": "ipython3",
   "version": "3.11.6"
  }
 },
 "nbformat": 4,
 "nbformat_minor": 5
}