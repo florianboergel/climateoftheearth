{
 "cells": [
  {
   "cell_type": "markdown",
   "id": "329b70ac-fb96-46f9-93a5-a935043d835d",
   "metadata": {},
   "source": [
    "<div style=\"background-color: #f0f0f0; border: 1px solid #ccc; padding: 10px; color: black;\">\n",
    "    <strong>Climate of the Earth system</strong>\n",
    "    <p> Prof. Dr. Markus Meier <br>\n",
    "    Leibniz Institute for Baltic Sea Research Warnemünde (IOW) <br>\n",
    "    E-Mail: markus.meier@io-warnemuende.de </p>\n",
    "</div>"
   ]
  },
  {
   "cell_type": "markdown",
   "id": "519b554f-e050-4dc0-9cf9-c8dd075a8033",
   "metadata": {},
   "source": [
    "# Cross-covariance function\n",
    "\n",
    "```{math}\n",
    "\\rho_{xy}(\\tau) = \\frac{\\gamma_{xy}(\\tau)}{\\sigma_X\\sigma_y},\n",
    "```\n",
    "- where $\\gamma_{xy}(\\tau)$ is the sample cross-covariance function for $\\tau \\geq 0$:\n",
    "```{math}\n",
    "\\gamma_{xy}(\\tau) = \\frac{1}{T} \\sum_{t=1}^{T-\\tau}\\mathbf{X'_t}\\mathbf{Y'_{t+\\tau}},\n",
    "```\n",
    "- and for $\\tau < 0$:\n",
    "```{math}\n",
    "\\gamma_{xy}(\\tau) = \\frac{1}{T} \\sum_{t=1-\\tau}^{T}\\mathbf{X'_t}\\mathbf{Y'_{t+\\tau}}\n",
    "```\n",
    "- the sample cross-covariance function is set to be zero for $|\\tau| \\geq T$\n",
    "- $\\tau > 0 \\Rightarrow$ the time evolution of $\\mathbf{X_t}$ leads those of $\\mathbf{Y_t}$ and vice versa for $|\\tau| \\leq T$\n",
    "- $\\gamma_{xy}$ can be asymmetric\n",
    "- $\\gamma_{xy}(\\tau)$ can be larger than $\\gamma_{xy}(0)$\n",
    "- $|\\rho_{xy}(\\tau)| \\leq 1$\n",
    "- \n",
    "#### Examples\n",
    "- $\\mathbf{Y_t} = \\alpha \\mathbf{X_t} ~~\\Rightarrow ~~\\gamma_{yy}=\\varepsilon(\\mathbf{Y_tY_t}) = \\alpha^2 \\gamma_{xx}(\\tau)$; cross-covariance $\\gamma_{xy}  =\\varepsilon(\\mathbf{X_tY_t}) = \\alpha\\gamma_{xx}(\\tau)$\n",
    "- cross-correlation function $\\rho_{xy}(\\tau) = \\frac{\\gamma_{xy}(\\tau)}{\\sigma_x\\sigma_y} = \\frac{\\alpha \\gamma_{xx}(\\tau)}{\\sigma_x \\alpha \\sigma_x} \\rho_{xx}(\\tau)$\n",
    "\n",
    "#### Cross spectrum\n",
    "Let $\\mathbf{X_t}$ and $\\mathbf{Y_t}$ be two weakly stationary stochastic processes with covariance functions $\\gamma_{xx}$ and $\\gamma_{yy}$, and a cross-covariance function $\\gamma_{xy}$. Then the cross-spectrum $\\Gamma_{xy}$ is defined as the Fourier transform of $\\gamma_{xy}$:\n",
    "```{math}\n",
    "\\begin{align*}\n",
    "\\Gamma_{xy} &= \\cal{F}\\{\\gamma_{xy}\\}(\\omega)\\\\\n",
    " &= \\sum_{t=-\\infty}^{\\infty} \\gamma_{xy}(\\tau)e^{-2\\pi i\\tau\\omega}\n",
    "\\end{align*}\n",
    "```\n",
    "- for all $\\omega \\in [-0.5, 0.5]$. The cross-spectrum is generally a complex-valued function since the cross-covariance function is, in general, neither strictly symmetric nor anti-symmetric."
   ]
  }
 ],
 "metadata": {
  "kernelspec": {
   "display_name": "Python 3 (ipykernel)",
   "language": "python",
   "name": "python3"
  },
  "language_info": {
   "codemirror_mode": {
    "name": "ipython",
    "version": 3
   },
   "file_extension": ".py",
   "mimetype": "text/x-python",
   "name": "python",
   "nbconvert_exporter": "python",
   "pygments_lexer": "ipython3",
   "version": "3.11.6"
  }
 },
 "nbformat": 4,
 "nbformat_minor": 5
}