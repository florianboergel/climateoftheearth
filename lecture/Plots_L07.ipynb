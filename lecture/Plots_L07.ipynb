{
 "cells": [
  {
   "cell_type": "code",
   "execution_count": 1,
   "id": "1549b0eb-79a9-4733-83d1-c98a9880b96b",
   "metadata": {},
   "outputs": [],
   "source": [
    "import matplotlib.pyplot as plt\n",
    "from matplotlib.image import imread"
   ]
  },
  {
   "cell_type": "markdown",
   "id": "e4422b37-d9ce-4bab-910c-d47d75d0e0dc",
   "metadata": {},
   "source": [
    "# Plots_L7"
   ]
  },
  {
   "cell_type": "markdown",
   "id": "169abc31-61ce-4193-8814-b292c778893a",
   "metadata": {},
   "source": [
    "## Initial state Advection"
   ]
  },
  {
   "cell_type": "code",
   "execution_count": null,
   "id": "c849643a-4616-4d88-8850-baeac53db21e",
   "metadata": {},
   "outputs": [],
   "source": [
    "image1 = imread('figures/L7/L7_10_1_initial.png')\n",
    "image2 = imread('figures/L7/L7_10_2_rotation.png')\n",
    "\n",
    "fig, axs = plt.subplots(1, 2, figsize=(12.5,6))\n",
    "axs[0].imshow(image1)\n",
    "axs[0].axis('off')\n",
    "axs[0].set_title('Initial value of the tracer', fontsize=15)\n",
    "axs[1].imshow(image2)\n",
    "axs[1].axis('off')\n",
    "axs[1].set_title('Fixed rotation', fontsize=15)\n",
    "\n",
    "#plt.tight_layout()\n",
    "plt.savefig('figures/L7/L7_10_initial', bbox_inches=\"tight\", dpi=500)"
   ]
  },
  {
   "cell_type": "markdown",
   "id": "4defa255-8b54-471a-be67-7980dee81c6d",
   "metadata": {},
   "source": [
    "## Advection after one rotation"
   ]
  },
  {
   "cell_type": "code",
   "execution_count": null,
   "id": "fba18b25-e70b-4999-a785-2489af2b0466",
   "metadata": {},
   "outputs": [],
   "source": [
    "image1 = imread('figures/L7/L7_11_1_upstream.png')\n",
    "image2 = imread('figures/L7/L7_11_2_centraldiff.png')\n",
    "image3 = imread('figures/L7/L7_11_3_incremental.png')\n",
    "\n",
    "fig, axs = plt.subplots(1, 3, figsize=(15,7))\n",
    "axs[0].imshow(image1)\n",
    "axs[0].axis('off')\n",
    "axs[0].set_title('Upstream method', fontsize=15)\n",
    "axs[1].imshow(image2)\n",
    "axs[1].axis('off')\n",
    "axs[1].set_title('Central difference scheme', fontsize=15)\n",
    "axs[2].imshow(image3)\n",
    "axs[2].axis('off')\n",
    "axs[2].set_title('Inremental remapping', fontsize=15)\n",
    "\n",
    "#plt.tight_layout()\n",
    "plt.savefig('figures/L7/L7_11_rotation', bbox_inches=\"tight\", dpi=500)"
   ]
  },
  {
   "cell_type": "markdown",
   "id": "84736e66-68b8-4892-9f65-bee446f1823d",
   "metadata": {},
   "source": [
    "## Grids"
   ]
  },
  {
   "cell_type": "code",
   "execution_count": null,
   "id": "a339ea96-0a68-492a-8291-23a7c3296ed5",
   "metadata": {},
   "outputs": [],
   "source": [
    "image1 = imread('figures/L7/L7_12_1_orca.PNG')\n",
    "image2 = imread('figures/L7/L7_12_2_mpiom.PNG')\n",
    "\n",
    "fig, axs = plt.subplots(1, 2, figsize=(15,7), gridspec_kw={'width_ratios': [1, 2]})\n",
    "axs[0].imshow(image1)\n",
    "axs[0].axis('off')\n",
    "axs[0].set_title('ORCA', fontsize=15)\n",
    "axs[1].imshow(image2)\n",
    "axs[1].axis('off')\n",
    "axs[1].set_title('MPI-OM', fontsize=15)\n",
    "\n",
    "#plt.tight_layout()\n",
    "plt.savefig('figures/L7/L7_12_grids', bbox_inches=\"tight\", dpi=500)"
   ]
  },
  {
   "cell_type": "markdown",
   "id": "978386ab-ce37-4827-b41c-79753ae9fd7d",
   "metadata": {},
   "source": [
    "## Gulf Stream SST"
   ]
  },
  {
   "cell_type": "code",
   "execution_count": null,
   "id": "4166a556-0a11-4979-a073-69f0a04cd81d",
   "metadata": {},
   "outputs": [],
   "source": [
    "image1 = imread('figures/L7/L7_16_res1.png')\n",
    "image2 = imread('figures/L7/L7_17_res2.png')\n",
    "image3 = imread('figures/L7/L7_18_res3.png')\n",
    "image4 = imread('figures/L7/L7_15_satellite.png')\n",
    "\n",
    "fig, axs = plt.subplots(2, 2, figsize=(13,13))\n",
    "axs[0,0].imshow(image1)\n",
    "axs[0,0].axis('off')\n",
    "axs[0,0].set_title('OCCAM 1°', fontsize=15)\n",
    "axs[0,1].imshow(image2)\n",
    "axs[0,1].axis('off')\n",
    "axs[0,1].set_title('OCCAM 1/4°', fontsize=15)\n",
    "axs[1,0].imshow(image3)\n",
    "axs[1,0].axis('off')\n",
    "axs[1,0].set_title('OCCAM 1/12°', fontsize=15)\n",
    "axs[1,1].imshow(image4)\n",
    "axs[1,1].axis('off')\n",
    "axs[1,1].set_title('Satellite observations', fontsize=15)\n",
    "\n",
    "#plt.tight_layout()\n",
    "plt.savefig('figures/L7/L7_19_SST', bbox_inches=\"tight\", dpi=500)"
   ]
  },
  {
   "cell_type": "markdown",
   "id": "1e26129f-ada4-431a-9ef5-9633f247ad42",
   "metadata": {},
   "source": [
    "## Sea level variability"
   ]
  },
  {
   "cell_type": "code",
   "execution_count": null,
   "id": "b6644867-ef02-4ee4-aae9-0a83c40bc73d",
   "metadata": {},
   "outputs": [],
   "source": [
    "image1 = imread('figures/L7/L7_20_1_model.PNG')\n",
    "image2 = imread('figures/L7/L7_20_2_satellite.PNG')\n",
    "\n",
    "fig, axs = plt.subplots(1, 2, figsize=(12.5,6))\n",
    "axs[0].imshow(image1)\n",
    "axs[0].axis('off')\n",
    "axs[0].set_title('POP-model 0.1°', fontsize=15)\n",
    "axs[1].imshow(image2)\n",
    "axs[1].axis('off')\n",
    "axs[1].set_title('Satellite observations', fontsize=15)\n",
    "\n",
    "#plt.tight_layout()\n",
    "plt.savefig('figures/L7/L7_20_sealevel', bbox_inches=\"tight\", dpi=500)"
   ]
  },
  {
   "cell_type": "markdown",
   "id": "76f95f3b-184c-41d3-8107-bfa4961ef381",
   "metadata": {},
   "source": [
    "## Velocity at 100m depth"
   ]
  },
  {
   "cell_type": "code",
   "execution_count": null,
   "id": "cfab74a4-6360-40bb-9199-bc939dcafe43",
   "metadata": {},
   "outputs": [],
   "source": [
    "image1 = imread('figures/L7/L7_21_1_res1.PNG')\n",
    "image2 = imread('figures/L7/L7_21_2_res2.PNG')\n",
    "\n",
    "fig, axs = plt.subplots(1, 2, figsize=(12.5,6))\n",
    "axs[0].imshow(image1)\n",
    "axs[0].axis('off')\n",
    "axs[0].set_title('FLAME model 1/3°', fontsize=15)\n",
    "axs[1].imshow(image2)\n",
    "axs[1].axis('off')\n",
    "axs[1].set_title('FLAME model 1/3°', fontsize=15)\n",
    "\n",
    "#plt.tight_layout()\n",
    "plt.savefig('figures/L7/L7_21_flame', bbox_inches=\"tight\", dpi=500)"
   ]
  },
  {
   "cell_type": "markdown",
   "id": "4b6cd54c-31b7-4ed1-862f-21accaedfb68",
   "metadata": {},
   "source": [
    "## Vertical coordinate systems"
   ]
  },
  {
   "cell_type": "code",
   "execution_count": null,
   "id": "cc7c5fb3-ed49-4d25-83fd-d904c9ad5eca",
   "metadata": {},
   "outputs": [],
   "source": [
    "image1 = imread('figures/L7/L7_22_1_original.png')\n",
    "image2 = imread('figures/L7/L7_22_2_level.png')\n",
    "image3 = imread('figures/L7/L7_22_3_isopycnal.png')\n",
    "image4 = imread('figures/L7/L7_22_4_terrainfollowing.png')\n",
    "\n",
    "fig, axs = plt.subplots(2, 2, figsize=(13,13))\n",
    "axs[0,0].imshow(image1)\n",
    "axs[0,0].axis('off')\n",
    "axs[0,0].set_title('Original topography', fontsize=15)\n",
    "axs[0,1].imshow(image2)\n",
    "axs[0,1].axis('off')\n",
    "axs[0,1].set_title('Level coordinates', fontsize=15)\n",
    "axs[1,0].imshow(image3)\n",
    "axs[1,0].axis('off')\n",
    "axs[1,0].set_title('Isopycnal coordinates', fontsize=15)\n",
    "axs[1,1].imshow(image4)\n",
    "axs[1,1].axis('off')\n",
    "axs[1,1].set_title('Terrain following coordinates', fontsize=15)\n",
    "\n",
    "#plt.tight_layout()\n",
    "plt.savefig('figures/L7/L7_22_verticalcoords', bbox_inches=\"tight\", dpi=500)"
   ]
  },
  {
   "cell_type": "markdown",
   "id": "79e71519-6c02-48b3-a82c-82d49db73c50",
   "metadata": {},
   "source": [
    "## Bottom flows"
   ]
  },
  {
   "cell_type": "code",
   "execution_count": null,
   "id": "fe7e5089-a9f5-495d-89f1-b8fa7031caa1",
   "metadata": {},
   "outputs": [],
   "source": [
    "image1 = imread('figures/L7/L7_23_1.PNG')\n",
    "image2 = imread('figures/L7/L7_23_2.PNG')\n",
    "image3 = imread('figures/L7/L7_23_3.PNG')\n",
    "image4 = imread('figures/L7/L7_23_4.PNG')\n",
    "image5 = imread('figures/L7/L7_23_5.PNG')\n",
    "image6 = imread('figures/L7/L7_23_6.PNG')\n",
    "\n",
    "fig, axs = plt.subplots(2, 3, figsize=(18,13))\n",
    "\n",
    "axs[0,0].imshow(image1)\n",
    "axs[0,0].axis('off')\n",
    "axs[0,1].imshow(image2)\n",
    "axs[0,1].axis('off')\n",
    "axs[0,2].imshow(image3)\n",
    "axs[0,2].axis('off')\n",
    "axs[1,0].imshow(image4)\n",
    "axs[1,0].axis('off')\n",
    "axs[1,1].imshow(image5)\n",
    "axs[1,1].axis('off')\n",
    "axs[1,2].imshow(image6)\n",
    "axs[1,2].axis('off')\n",
    "\n",
    "#plt.tight_layout()\n",
    "plt.savefig('figures/L7/L7_23_bottomflows', bbox_inches=\"tight\", dpi=500)"
   ]
  },
  {
   "cell_type": "markdown",
   "id": "0316f956-21e8-42f4-9115-4a1ed8975593",
   "metadata": {},
   "source": [
    "## Natural variability"
   ]
  },
  {
   "cell_type": "code",
   "execution_count": null,
   "id": "9b9a9f75-cda8-4c36-bbad-02373ae10c50",
   "metadata": {},
   "outputs": [],
   "source": [
    "image1 = imread('figures/L7/L7_29_1_2mtemp.png')\n",
    "image2 = imread('figures/L7/L7_29_2_mslp.png')\n",
    "\n",
    "fig, axs = plt.subplots(2, 1, figsize=(12.5,10))\n",
    "axs[0].imshow(image1)\n",
    "axs[0].axis('off')\n",
    "#axs[0].set_title('FLAME model 1/3°', fontsize=15)\n",
    "axs[1].imshow(image2)\n",
    "axs[1].axis('off')\n",
    "#axs[1].set_title('FLAME model 1/3°', fontsize=15)\n",
    "\n",
    "#plt.tight_layout()\n",
    "plt.savefig('figures/L7/L7_29_natvar', bbox_inches=\"tight\", dpi=500)"
   ]
  },
  {
   "cell_type": "markdown",
   "id": "61e69bd1-ffd8-4b07-8df9-133528a3f7a0",
   "metadata": {},
   "source": [
    "## Model regions"
   ]
  },
  {
   "cell_type": "code",
   "execution_count": null,
   "id": "9cb94706-acda-4a5c-b286-d69ddae7ffdd",
   "metadata": {},
   "outputs": [],
   "source": [
    "image1 = imread('figures/L7/L7_30_1_left.png')\n",
    "image2 = imread('figures/L7/L7_30_2_right.png')\n",
    "\n",
    "fig, axs = plt.subplots(1, 2, figsize=(12.5,6))\n",
    "axs[0].imshow(image1)\n",
    "axs[0].axis('off')\n",
    "axs[0].set_title('2m temperature map', fontsize=15)\n",
    "axs[1].imshow(image2)\n",
    "axs[1].axis('off')\n",
    "axs[1].set_title('10m wind map', fontsize=15)\n",
    "\n",
    "plt.tight_layout()\n",
    "plt.savefig('figures/L7/L7_30_map', bbox_inches=\"tight\", dpi=500)"
   ]
  },
  {
   "cell_type": "markdown",
   "id": "22b562fc-70a9-4d85-83b6-dfce3ce093d1",
   "metadata": {},
   "source": []
  }
 ],
 "metadata": {
  "kernelspec": {
   "display_name": "base",
   "language": "python",
   "name": "python3"
  },
  "language_info": {
   "codemirror_mode": {
    "name": "ipython",
    "version": 3
   },
   "file_extension": ".py",
   "mimetype": "text/x-python",
   "name": "python",
   "nbconvert_exporter": "python",
   "pygments_lexer": "ipython3",
   "version": "3.8.8"
  }
 },
 "nbformat": 4,
 "nbformat_minor": 5
}
