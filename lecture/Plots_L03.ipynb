{
 "cells": [
  {
   "cell_type": "code",
   "execution_count": 1,
   "id": "1549b0eb-79a9-4733-83d1-c98a9880b96b",
   "metadata": {},
   "outputs": [],
   "source": [
    "import matplotlib.pyplot as plt\n",
    "from matplotlib.image import imread"
   ]
  },
  {
   "cell_type": "markdown",
   "id": "e4422b37-d9ce-4bab-910c-d47d75d0e0dc",
   "metadata": {},
   "source": [
    "# Plots_L3"
   ]
  },
  {
   "cell_type": "markdown",
   "id": "b9bca977-ab0b-4795-a5e9-10aa3b63b405",
   "metadata": {},
   "source": [
    "### Net radiation"
   ]
  },
  {
   "cell_type": "code",
   "execution_count": null,
   "id": "312013bf-ccec-470b-9bef-1ccbb6146211",
   "metadata": {},
   "outputs": [],
   "source": [
    "image1 = imread('figures/L3/L3_2_1_absorbed_rad.png')\n",
    "image2 = imread('figures/L3/L3_2_2_emitted_rad.png')\n",
    "image3 = imread('figures/L3/L3_2_3_net_rad.png')\n",
    "\n",
    "fig, axs = plt.subplots(1, 3, figsize=(15,7))\n",
    "axs[0].imshow(image1)\n",
    "axs[0].axis('off')\n",
    "axs[0].set_title('Absorbed shortwave radiation\\n')\n",
    "axs[1].imshow(image2)\n",
    "axs[1].axis('off')\n",
    "axs[1].set_title('Emitted longwave radiation\\n')\n",
    "axs[2].imshow(image3)\n",
    "axs[2].axis('off')\n",
    "axs[2].set_title('Net radiation\\n')\n",
    "plt.savefig('figures/L3/L3_2_radiations', bbox_inches=\"tight\", dpi=500)"
   ]
  },
  {
   "cell_type": "markdown",
   "id": "bfd619c9-1b1c-4308-9c35-4fce4ee9fb1a",
   "metadata": {},
   "source": [
    "## Ocean profiles"
   ]
  },
  {
   "cell_type": "code",
   "execution_count": null,
   "id": "9a010dec-e5f7-4385-a459-c60ac90e7bc3",
   "metadata": {},
   "outputs": [],
   "source": [
    "image1 = imread('figures/L3/L3_8_1_sst.PNG')\n",
    "image2 = imread('figures/L3/L3_8_2_salinity.PNG')\n",
    "image3 = imread('figures/L3/L3_8_3_density.PNG')\n",
    "\n",
    "fig, axs = plt.subplots(1, 3, figsize=(15,7))\n",
    "axs[0].imshow(image1)\n",
    "axs[0].axis('off')\n",
    "axs[0].set_title('Sea surface temperature [°C]\\n', fontsize=10)\n",
    "\n",
    "axs[1].imshow(image2)\n",
    "axs[1].axis('off')\n",
    "axs[1].set_title('Salinity [p.s.u.]\\n', fontsize=10)\n",
    "axs[2].imshow(image3)\n",
    "axs[2].axis('off')\n",
    "axs[2].set_title('Density [g/cm$^3$ above 1]\\n', fontsize=10)\n",
    "\n",
    "\n",
    "plt.savefig('figures/L3/L3_8_ocean_profiles', bbox_inches=\"tight\", dpi=500)"
   ]
  },
  {
   "cell_type": "markdown",
   "id": "169abc31-61ce-4193-8814-b292c778893a",
   "metadata": {},
   "source": [
    "## Coveyor belt"
   ]
  },
  {
   "cell_type": "code",
   "execution_count": null,
   "id": "c849643a-4616-4d88-8850-baeac53db21e",
   "metadata": {},
   "outputs": [],
   "source": [
    "image1 = imread('figures/L3/L3_10_1_simple.png')\n",
    "image2 = imread('figures/L3/L3_10_2_complex.png')\n",
    "\n",
    "fig, axs = plt.subplots(1, 2, figsize=(15,7))\n",
    "axs[0].imshow(image1)\n",
    "axs[0].axis('off')\n",
    "#axs[0].set_title('Atlantic Ocean\\n')\n",
    "axs[1].imshow(image2)\n",
    "axs[1].axis('off')\n",
    "#axs[1].set_title('Pacific Ocean\\n')\n",
    "\n",
    "plt.tight_layout()\n",
    "plt.savefig('figures/L3/L3_10_conveyorbelt', bbox_inches=\"tight\", dpi=500)"
   ]
  },
  {
   "cell_type": "markdown",
   "id": "e12719a5-ca66-4978-b722-02ac95e26ece",
   "metadata": {},
   "source": [
    "## Ocean circulations"
   ]
  },
  {
   "cell_type": "code",
   "execution_count": null,
   "id": "729b6233-61bf-4f3e-899e-715446290df6",
   "metadata": {},
   "outputs": [],
   "source": [
    "image1 = imread('figures/L3/L3_13_1_atlantic.png')\n",
    "image2 = imread('figures/L3/L3_13_2_pacific.png')\n",
    "\n",
    "\n",
    "fig, axs = plt.subplots(1, 2, figsize=(15,7))\n",
    "axs[0].imshow(image1)\n",
    "axs[0].axis('off')\n",
    "axs[0].set_title('Atlantic Ocean\\n')\n",
    "axs[1].imshow(image2)\n",
    "axs[1].axis('off')\n",
    "axs[1].set_title('Pacific Ocean\\n')\n",
    "\n",
    "plt.tight_layout()\n",
    "plt.savefig('figures/L3/L3_13_ocean_circulations', bbox_inches=\"tight\", dpi=500)"
   ]
  },
  {
   "cell_type": "markdown",
   "id": "57e14f13-0ea5-404e-86c4-5b77e969ab48",
   "metadata": {},
   "source": [
    "## Up- and downwelling"
   ]
  },
  {
   "cell_type": "code",
   "execution_count": null,
   "id": "70f30ab9-2177-4a25-8222-97d90ee208d3",
   "metadata": {},
   "outputs": [],
   "source": [
    "image1 = imread('figures/L3/L3_15_1_upwelling.PNG')\n",
    "image2 = imread('figures/L3/L3_15_2_downwelling.PNG')\n",
    "\n",
    "\n",
    "fig, axs = plt.subplots(1, 2, figsize=(15,7))\n",
    "axs[0].imshow(image1)\n",
    "axs[0].axis('off')\n",
    "axs[1].imshow(image2)\n",
    "axs[1].axis('off')\n",
    "\n",
    "plt.tight_layout()\n",
    "plt.savefig('figures/L3/L3_15_updownwelling', bbox_inches=\"tight\", dpi=500)"
   ]
  },
  {
   "cell_type": "markdown",
   "id": "df543aec-17b2-44e0-848f-7b286cf767aa",
   "metadata": {},
   "source": [
    "## Meridional circulation"
   ]
  },
  {
   "cell_type": "code",
   "execution_count": null,
   "id": "d87e3351-6ad7-4315-b2a0-09f559ce548d",
   "metadata": {},
   "outputs": [],
   "source": [
    "image1 = imread('figures/L3/L3_19_1_left.PNG')\n",
    "image2 = imread('figures/L3/L3_19_2_right.PNG')\n",
    "\n",
    "\n",
    "fig, axs = plt.subplots(1, 2, figsize=(15,7))\n",
    "axs[0].imshow(image1)\n",
    "axs[0].axis('off')\n",
    "axs[1].imshow(image2)\n",
    "axs[1].axis('off')\n",
    "\n",
    "plt.tight_layout()\n",
    "plt.savefig('figures/L3/L3_19_meridional_ocean', bbox_inches=\"tight\", dpi=500)"
   ]
  },
  {
   "cell_type": "markdown",
   "id": "d749dd42-d850-4715-b831-6edf1c07d3cf",
   "metadata": {},
   "source": []
  }
 ],
 "metadata": {
  "kernelspec": {
   "display_name": "base",
   "language": "python",
   "name": "python3"
  },
  "language_info": {
   "codemirror_mode": {
    "name": "ipython",
    "version": 3
   },
   "file_extension": ".py",
   "mimetype": "text/x-python",
   "name": "python",
   "nbconvert_exporter": "python",
   "pygments_lexer": "ipython3",
   "version": "3.8.8"
  }
 },
 "nbformat": 4,
 "nbformat_minor": 5
}
