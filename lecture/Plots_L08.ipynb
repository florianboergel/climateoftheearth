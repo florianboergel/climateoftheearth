{
 "cells": [
  {
   "cell_type": "code",
   "execution_count": 1,
   "id": "1549b0eb-79a9-4733-83d1-c98a9880b96b",
   "metadata": {},
   "outputs": [],
   "source": [
    "import matplotlib.pyplot as plt\n",
    "from matplotlib.image import imread"
   ]
  },
  {
   "cell_type": "markdown",
   "id": "e4422b37-d9ce-4bab-910c-d47d75d0e0dc",
   "metadata": {},
   "source": [
    "# Plots_L8"
   ]
  },
  {
   "cell_type": "markdown",
   "id": "169abc31-61ce-4193-8814-b292c778893a",
   "metadata": {},
   "source": [
    "## Temperature gaps World War II"
   ]
  },
  {
   "cell_type": "code",
   "execution_count": null,
   "id": "c849643a-4616-4d88-8850-baeac53db21e",
   "metadata": {},
   "outputs": [],
   "source": [
    "image1 = imread('figures/L8/L8_05_1_timeseries.PNG')\n",
    "image2 = imread('figures/L8/L8_05_2_wargaps.PNG')\n",
    "\n",
    "fig, axs = plt.subplots(1, 2, figsize=(20,10))\n",
    "axs[0].imshow(image1)\n",
    "axs[0].axis('off')\n",
    "#axs[0].set_title('Initial value of the tracer', fontsize=15)\n",
    "axs[1].imshow(image2)\n",
    "axs[1].axis('off')\n",
    "#axs[1].set_title('Fixed rotation', fontsize=15)\n",
    "\n",
    "#plt.tight_layout()\n",
    "plt.savefig('figures/L8/L8_05_ww2', bbox_inches=\"tight\", dpi=500)"
   ]
  },
  {
   "cell_type": "markdown",
   "id": "2533906e-5980-4f0e-be48-ecd81df4769e",
   "metadata": {},
   "source": [
    "## Temperature last 2ky"
   ]
  },
  {
   "cell_type": "code",
   "execution_count": null,
   "id": "8db4bbd1-8a52-4abc-a440-6b444f7b263c",
   "metadata": {},
   "outputs": [],
   "source": [
    "image1 = imread('figures/L8/L8_12_1_graph.png')\n",
    "image2 = imread('figures/L8/L8_12_2_stripes.png')\n",
    "\n",
    "fig, axs = plt.subplots(1, 2, figsize=(20,8))\n",
    "axs[0].imshow(image1)\n",
    "axs[0].axis('off')\n",
    "#axs[0].set_title('Initial value of the tracer', fontsize=15)\n",
    "axs[1].imshow(image2)\n",
    "axs[1].axis('off')\n",
    "#axs[1].set_title('Fixed rotation', fontsize=15)\n",
    "\n",
    "#plt.tight_layout()\n",
    "plt.savefig('figures/L8/L8_12_tempseries', bbox_inches=\"tight\", dpi=500)"
   ]
  },
  {
   "cell_type": "markdown",
   "id": "04b85ea2-9ae6-4339-b9f3-f2023b758d22",
   "metadata": {},
   "source": [
    "## Ice Age Delta T"
   ]
  },
  {
   "cell_type": "code",
   "execution_count": null,
   "id": "a60df5ac-1b18-4cfc-9328-932f75fc83ce",
   "metadata": {},
   "outputs": [],
   "source": [
    "image1 = imread('figures/L8/L8_22_1_deltaSST.PNG')\n",
    "image2 = imread('figures/L8/L8_22_2_deltaSAT.PNG')\n",
    "\n",
    "fig, axs = plt.subplots(1, 2, figsize=(20,8))\n",
    "axs[0].imshow(image1)\n",
    "axs[0].axis('off')\n",
    "#axs[0].set_title('Initial value of the tracer', fontsize=15)\n",
    "axs[1].imshow(image2)\n",
    "axs[1].axis('off')\n",
    "#axs[1].set_title('Fixed rotation', fontsize=15)\n",
    "\n",
    "#plt.tight_layout()\n",
    "plt.savefig('figures/L8/L8_22_deltatemp', bbox_inches=\"tight\", dpi=500)"
   ]
  }
 ],
 "metadata": {
  "kernelspec": {
   "display_name": "base",
   "language": "python",
   "name": "python3"
  },
  "language_info": {
   "codemirror_mode": {
    "name": "ipython",
    "version": 3
   },
   "file_extension": ".py",
   "mimetype": "text/x-python",
   "name": "python",
   "nbconvert_exporter": "python",
   "pygments_lexer": "ipython3",
   "version": "3.8.8"
  }
 },
 "nbformat": 4,
 "nbformat_minor": 5
}
