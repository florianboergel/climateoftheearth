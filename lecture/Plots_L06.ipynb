{
 "cells": [
  {
   "cell_type": "code",
   "execution_count": 1,
   "id": "1549b0eb-79a9-4733-83d1-c98a9880b96b",
   "metadata": {},
   "outputs": [],
   "source": [
    "import matplotlib.pyplot as plt\n",
    "from matplotlib.image import imread"
   ]
  },
  {
   "cell_type": "markdown",
   "id": "e4422b37-d9ce-4bab-910c-d47d75d0e0dc",
   "metadata": {},
   "source": [
    "# Plots_L6"
   ]
  },
  {
   "cell_type": "markdown",
   "id": "169abc31-61ce-4193-8814-b292c778893a",
   "metadata": {},
   "source": [
    "## Coveyor belt"
   ]
  },
  {
   "cell_type": "code",
   "execution_count": null,
   "id": "c849643a-4616-4d88-8850-baeac53db21e",
   "metadata": {},
   "outputs": [],
   "source": [
    "image2 = imread('figures/L6/L6_01_1_conv.png')\n",
    "image1 = imread('figures/L6/L6_01_2_winddriven.png')\n",
    "\n",
    "fig, axs = plt.subplots(1, 2, figsize=(15,7))\n",
    "axs[0].imshow(image1)\n",
    "axs[0].axis('off')\n",
    "axs[1].imshow(image2)\n",
    "axs[1].axis('off')\n",
    "\n",
    "#plt.tight_layout()\n",
    "plt.savefig('figures/L6/L6_1_circulations', bbox_inches=\"tight\", dpi=500)"
   ]
  },
  {
   "cell_type": "markdown",
   "id": "28cda747-b3fa-42f6-b510-8b750d6d22e8",
   "metadata": {},
   "source": [
    "## Forcings"
   ]
  },
  {
   "cell_type": "code",
   "execution_count": null,
   "id": "0f89e6e1-5136-4cbc-b366-afd53fb854cd",
   "metadata": {},
   "outputs": [],
   "source": [
    "image1 = imread('figures/L6/L6_02_1_zonalwinds.png')\n",
    "image2 = imread('figures/L6/L6_02_2_radiation_latitudes.png')\n",
    "\n",
    "fig, axs = plt.subplots(1, 2, figsize=(15,7))\n",
    "axs[0].imshow(image1)\n",
    "axs[0].axis('off')\n",
    "axs[1].imshow(image2)\n",
    "axs[1].axis('off')\n",
    "\n",
    "#plt.tight_layout()\n",
    "plt.savefig('figures/L6/L6_2_forcings', bbox_inches=\"tight\", dpi=500)"
   ]
  },
  {
   "cell_type": "markdown",
   "id": "a848a857-ea4a-42ad-a7cf-bd2dd25afad7",
   "metadata": {},
   "source": []
  }
 ],
 "metadata": {
  "kernelspec": {
   "display_name": "base",
   "language": "python",
   "name": "python3"
  },
  "language_info": {
   "codemirror_mode": {
    "name": "ipython",
    "version": 3
   },
   "file_extension": ".py",
   "mimetype": "text/x-python",
   "name": "python",
   "nbconvert_exporter": "python",
   "pygments_lexer": "ipython3",
   "version": "3.8.8"
  }
 },
 "nbformat": 4,
 "nbformat_minor": 5
}
