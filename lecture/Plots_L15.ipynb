{
 "cells": [
  {
   "cell_type": "code",
   "execution_count": 1,
   "id": "2e9e71ca-2c3d-4313-be55-83bfdcbccffb",
   "metadata": {},
   "outputs": [],
   "source": [
    "import matplotlib.pyplot as plt\n",
    "from matplotlib.image import imread"
   ]
  },
  {
   "cell_type": "markdown",
   "id": "b979d98c-2340-4316-ada1-0f13ba9f5293",
   "metadata": {},
   "source": [
    "## AR1 processes"
   ]
  },
  {
   "cell_type": "code",
   "execution_count": null,
   "id": "e28d3d99-c643-4d5b-b8c6-f98408757839",
   "metadata": {},
   "outputs": [],
   "source": [
    "image1 = imread('figures/L15/L15_4_1_AR1.PNG')\n",
    "image2 = imread('figures/L15/L15_4_2_AR1.PNG')\n",
    "\n",
    "fig, axs = plt.subplots(1, 2, figsize=(15,7), gridspec_kw={'width_ratios': [1.2, 1]})\n",
    "axs[0].imshow(image1)\n",
    "axs[0].axis('off')\n",
    "axs[1].imshow(image2)\n",
    "axs[1].axis('off')\n",
    "\n",
    "plt.tight_layout()\n",
    "plt.savefig('figures/L15/L15_4_AR1', bbox_inches=\"tight\", dpi=500)"
   ]
  },
  {
   "cell_type": "markdown",
   "id": "6c9e473d-45b6-40bd-96a6-cecbe6eb4418",
   "metadata": {},
   "source": [
    "## AR2 processes"
   ]
  },
  {
   "cell_type": "code",
   "execution_count": null,
   "id": "904ea653-2643-4025-b34a-49a607bee229",
   "metadata": {},
   "outputs": [],
   "source": [
    "image1 = imread('figures/L15/L15_5_1_AR2.PNG')\n",
    "image2 = imread('figures/L15/L15_5_2_AR2.PNG')\n",
    "\n",
    "fig, axs = plt.subplots(1, 2, figsize=(15,7), gridspec_kw={'width_ratios': [1, 1.3]})\n",
    "axs[0].imshow(image1)\n",
    "axs[0].axis('off')\n",
    "axs[1].imshow(image2)\n",
    "axs[1].axis('off')\n",
    "\n",
    "plt.tight_layout()\n",
    "plt.savefig('figures/L15/L15_5_AR2', bbox_inches=\"tight\", dpi=500)"
   ]
  },
  {
   "cell_type": "markdown",
   "id": "ee7e043b-64fe-4f43-ab5a-8761bf3afb10",
   "metadata": {},
   "source": []
  }
 ],
 "metadata": {
  "kernelspec": {
   "display_name": "base",
   "language": "python",
   "name": "python3"
  },
  "language_info": {
   "codemirror_mode": {
    "name": "ipython",
    "version": 3
   },
   "file_extension": ".py",
   "mimetype": "text/x-python",
   "name": "python",
   "nbconvert_exporter": "python",
   "pygments_lexer": "ipython3",
   "version": "3.8.8"
  }
 },
 "nbformat": 4,
 "nbformat_minor": 5
}
