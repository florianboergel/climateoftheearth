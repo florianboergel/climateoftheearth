{
 "cells": [
  {
   "cell_type": "code",
   "execution_count": 1,
   "id": "4dd963c9-f7aa-4e4a-ac91-024e9c06806f",
   "metadata": {
    "jupyter": {
     "source_hidden": true
    }
   },
   "outputs": [],
   "source": [
    "import numpy as np\n",
    "import matplotlib.pyplot as plt\n",
    "from scipy.integrate import trapz"
   ]
  },
  {
   "cell_type": "markdown",
   "id": "b28fed7f-ed2a-45c8-929e-36eed25d30c7",
   "metadata": {},
   "source": [
    "### Planets radiation temperature"
   ]
  },
  {
   "cell_type": "code",
   "execution_count": null,
   "id": "5de3de84-9377-405e-8119-960338b939c1",
   "metadata": {
    "jupyter": {
     "source_hidden": true
    }
   },
   "outputs": [],
   "source": [
    "d_venus = 108208930\n",
    "d_earth = 149597871\n",
    "d_mars =  212900000\n",
    "T_venus = (-43,464)\n",
    "T_earth = (-18,15)\n",
    "T_mars = (-63,-58)\n",
    "\n",
    "# computing the solid line, assuming a d^-2 relation for the solar radiation reaching the planets, should be correct\n",
    "C_0 = 1368/4*(d_earth)**2/(5.67e-08)\n",
    "d = np.linspace(0.01,3e08,500)\n",
    "T_blackbody = (C_0/(d)**2)**0.25-273.15\n",
    "\n",
    "plt.figure(figsize=(4,4))\n",
    "plt.plot(d,T_blackbody, color='black',label='')\n",
    "plt.plot(d_venus, T_venus[0],'o',color='black',markersize=5)\n",
    "plt.plot(d_venus, T_venus[1],'*',color='black',markersize=5)\n",
    "plt.text(d_venus, T_venus[1]+5, 'Venus', fontsize=10, verticalalignment='bottom')\n",
    "plt.plot(d_earth, T_earth[0],'o',color='black',markersize=5)\n",
    "plt.plot(d_earth, T_earth[1],'*',color='black',markersize=5)\n",
    "plt.text(d_earth, T_earth[1]+5, 'Earth', fontsize=10, verticalalignment='bottom')\n",
    "plt.plot(d_mars, T_mars[0],'o',color='black',markersize=5)\n",
    "plt.plot(d_mars, T_mars[1],'*',color='black',markersize=5)\n",
    "plt.text(d_mars, T_mars[0]-8, 'Mars', fontsize=10, verticalalignment='top')\n",
    "plt.xlabel('Distance to the sun [km]')\n",
    "plt.ylabel('Temperature [°C]')\n",
    "plt.xlim(0,3e08)\n",
    "plt.ylim(-100,600)\n",
    "plt.grid()\n",
    "plt.axvline(d_venus, color='black', linestyle=':', ymin=(T_venus[0]+100)/700, ymax=(T_venus[1]+100)/700)\n",
    "plt.axvline(d_earth, color='black', linestyle=':', ymin=(T_earth[0]+100)/700, ymax=(T_earth[1]+100)/700)\n",
    "plt.axvline(d_mars, color='black', linestyle=':', ymin=(T_mars[0]+100)/700, ymax=(T_mars[1]+100)/700)\n",
    "\n",
    "plt.savefig('figures/L2/L2_5_venuis', bbox_inches=\"tight\", dpi=500)"
   ]
  },
  {
   "cell_type": "markdown",
   "id": "fd7097fa-9236-4173-a89c-c1b8a15c506b",
   "metadata": {},
   "source": [
    "### Black body radiation F_thermal(T)"
   ]
  },
  {
   "cell_type": "code",
   "execution_count": 3,
   "id": "dfb423a0-c8cd-4791-9678-5992e7d348d8",
   "metadata": {
    "jupyter": {
     "source_hidden": true
    }
   },
   "outputs": [],
   "source": [
    "T_big = np.linspace(0,300,100)\n",
    "F_bb_big = 5.67*1e-08*T_big**4\n",
    "\n",
    "T_small = np.linspace(270,300,100)\n",
    "F_bb_small = 5.67*1e-08*T_small**4\n",
    "F_budyko_small = 203.3 + 2.09*(T_small - 273.15)\n",
    "\n",
    "T_earth = 288\n",
    "F_bb_earth = 5.67*1e-08*T_earth**4"
   ]
  },
  {
   "cell_type": "code",
   "execution_count": null,
   "id": "5465654d-508c-4aaf-992f-56eac0ab2e67",
   "metadata": {
    "jupyter": {
     "source_hidden": true
    }
   },
   "outputs": [],
   "source": [
    "fig, ax = plt.subplots(1,2,figsize=(8,4))\n",
    "ax[0].plot(T_big, F_bb_big, linewidth=0.8, color='black', label='Black body')\n",
    "ax[0].plot(T_earth,F_bb_earth,'.', markersize=10, color='black', label='Earth')\n",
    "ax[0].set_xlabel('Temperature [K]')\n",
    "ax[0].set_ylabel('$F_{thermal}$ [W/m$^2$]')\n",
    "ax[0].set_xlim(0,300)\n",
    "ax[0].set_ylim(0,500)\n",
    "ax[0].grid()\n",
    "ax[0].legend()\n",
    "ax[1].plot(T_small, F_bb_small, linewidth=0.8, color='black', label='Black body')\n",
    "ax[1].plot(T_small, F_budyko_small, linewidth=0.8, color='red', label='Budyko linearization')\n",
    "ax[1].set_xlabel('Temperature [K]')\n",
    "ax[1].set_ylabel('$F_{thermal}$ [W/m$^2$]')\n",
    "ax[1].set_xlim(270,300)\n",
    "ax[1].set_ylim(200,500)\n",
    "ax[1].grid()\n",
    "ax[1].legend()\n",
    "\n",
    "plt.tight_layout()\n",
    "plt.savefig('figures/L2/L2_7_plot_fthermal', bbox_inches=\"tight\", dpi=500)"
   ]
  },
  {
   "cell_type": "markdown",
   "id": "70c29c2a-71f8-4dc2-b40b-557cdb92d5c3",
   "metadata": {},
   "source": []
  },
  {
   "cell_type": "markdown",
   "id": "87d3cba0-597e-4c03-8fa6-f733c979d08c",
   "metadata": {},
   "source": [
    "### Albedo piecewise function"
   ]
  },
  {
   "cell_type": "code",
   "execution_count": null,
   "id": "7b560fee-e122-4a2f-ab85-e62f903307af",
   "metadata": {
    "jupyter": {
     "source_hidden": true
    }
   },
   "outputs": [],
   "source": [
    "T_surf = np.linspace(-100,100,300)\n",
    "albedo = np.zeros(len(T_surf))\n",
    "\n",
    "for i in range (len(T_surf)):\n",
    "    if T_surf[i] < -10:\n",
    "        albedo[i] = 0.62\n",
    "    elif T_surf[i] > 0:\n",
    "        albedo[i] = 0.3\n",
    "    else:\n",
    "        albedo[i] = 0.62 - 0.32/10 * (T_surf[i] + 10)\n",
    "\n",
    "plt.figure(figsize=(6,3))\n",
    "plt.plot(T_surf, albedo)\n",
    "plt.ylim(0.2,0.8)\n",
    "plt.xlim(-15,5)\n",
    "plt.xlabel(r'Surface temperature $T_{surf}$ [°C]')\n",
    "plt.ylabel(r'Albedo $\\alpha_{feedback}$')\n",
    "plt.axvline(-10, linestyle=':', linewidth=1, color='gray')\n",
    "plt.axvline(0, linestyle=':', linewidth=1, color='gray')\n",
    "plt.savefig('figures/L2/L2_8_plot_albedo', bbox_inches=\"tight\", dpi=500)"
   ]
  },
  {
   "cell_type": "markdown",
   "id": "45844ec7-495c-4e4a-b002-80739e1300bd",
   "metadata": {},
   "source": [
    "### Albedo feedback equilibria"
   ]
  },
  {
   "cell_type": "code",
   "execution_count": null,
   "id": "de4bc047-27ec-4fd6-9e0d-5b2b38a030a2",
   "metadata": {
    "jupyter": {
     "source_hidden": true
    }
   },
   "outputs": [],
   "source": [
    "f_solar = 1361/ 4*(1-albedo)\n",
    "f_thermal = 203.3 + 2.09*T_surf\n",
    "\n",
    "plt.figure(figsize=(6,3))\n",
    "plt.plot(T_surf,f_solar, label='$F_{solar}$')\n",
    "plt.plot(T_surf,f_thermal, color='red', label='$F_{thermal}$')\n",
    "plt.plot(-35.5,129.4,'.',markersize=10, color='black')\n",
    "plt.plot(-4.0,195.2,'.',markersize=10, color='black')\n",
    "plt.plot(16.6,238,'.',markersize=10, color='black')\n",
    "plt.axvline(-10, linestyle=':', linewidth=1, color='gray')\n",
    "plt.axvline(0, linestyle=':', linewidth=1, color='gray')\n",
    "plt.xlim(-45,25)\n",
    "plt.ylim(100,260)\n",
    "plt.xlabel('Surface temperature $T_{surf}$')\n",
    "plt.ylabel('Radiative forcing')\n",
    "plt.yticks([])\n",
    "plt.text(-36.0, 130.4, '1', fontsize=12, ha='right', va='bottom')\n",
    "plt.text(-4.5, 195.7, '2', fontsize=12, ha='right', va='bottom')\n",
    "plt.text(16.6, 239.5, '3', fontsize=12, ha='right', va='bottom')\n",
    "plt.legend()\n",
    "plt.savefig('figures/L2/L2_9_plot_equilibria', bbox_inches=\"tight\", dpi=500)"
   ]
  },
  {
   "cell_type": "markdown",
   "id": "e299176a-5dbe-4caa-acbf-6e9d82c20731",
   "metadata": {},
   "source": [
    "### Plot a potential for the radiative forcing"
   ]
  },
  {
   "cell_type": "code",
   "execution_count": null,
   "id": "44caf06d-e3ad-4bff-b6cb-866779cd847c",
   "metadata": {
    "jupyter": {
     "source_hidden": true
    }
   },
   "outputs": [],
   "source": [
    "delta_f = f_solar-f_thermal\n",
    "T = np.zeros_like(T_surf)\n",
    "for i in range(1, len(T_surf)):\n",
    "    T[i] = trapz(delta_f[:i+1], x=T_surf[:i+1])\n",
    "\n",
    "plt.figure(figsize=(6,3))\n",
    "plt.plot(T_surf, -T)\n",
    "plt.plot(-35.5,-4358,'.',markersize=10, color='black')\n",
    "plt.plot(-4.0,-3525,'.',markersize=10, color='black')\n",
    "plt.plot(16.6,-3880,'.',markersize=10, color='black')\n",
    "plt.xlabel('Surface temperature')\n",
    "plt.ylabel('Climate potential')\n",
    "plt.xlim(-45,25)\n",
    "plt.text(-34.8, -4300, '1', fontsize=12, ha='right', va='bottom')\n",
    "plt.text(-3.2, -3470, '2', fontsize=12, ha='right', va='bottom')\n",
    "plt.text(17.4, -3820, '3', fontsize=12, ha='right', va='bottom')\n",
    "plt.ylim(-4600,-3200)\n",
    "plt.yticks([]);\n",
    "\n",
    "plt.savefig('figures/L2/L2_10_plot_potential_albedo', bbox_inches=\"tight\", dpi=500)"
   ]
  },
  {
   "cell_type": "markdown",
   "id": "7385920a-118f-4bd9-9eb0-4882509b348c",
   "metadata": {},
   "source": [
    "### Plot tipping points"
   ]
  },
  {
   "cell_type": "code",
   "execution_count": null,
   "id": "87098e72-f3e4-4e95-a4d7-dea6aa121d76",
   "metadata": {
    "jupyter": {
     "source_hidden": true
    }
   },
   "outputs": [],
   "source": [
    "fig, ax = plt.subplots(1,3,figsize=(10,3))\n",
    "\n",
    "ax[0].plot(T_surf, -T)\n",
    "ax[0].plot(-35.7,-4233,'.',markersize='40', color='black')\n",
    "ax[0].set_xlabel('Surface temperature', fontsize=12)\n",
    "ax[0].set_ylabel('Climate potential', fontsize=12)\n",
    "ax[0].set_xlim(-60,60)\n",
    "ax[0].set_ylim(-4600,-3000)\n",
    "ax[0].set_title('$C=0$', fontsize=12)\n",
    "ax[0].set_xticks([])\n",
    "ax[0].set_yticks([]);\n",
    "\n",
    "C = 20\n",
    "T_withC = np.zeros_like(T_surf)\n",
    "for i in range(1, len(T_surf)):\n",
    "    T_withC[i] = trapz(delta_f[:i+1] +C, x=T_surf[:i+1])\n",
    "\n",
    "ax[1].plot(T_surf, -T_withC)\n",
    "ax[1].plot(-26,-5460,'.',markersize='40', color='black')\n",
    "ax[1].set_xlabel('Surface temperature', fontsize=12)\n",
    "ax[1].set_xlim(-65,65)\n",
    "ax[1].set_title(f'$C={C}$', fontsize=12)\n",
    "ax[1].set_ylim(-6700,-3000)\n",
    "ax[1].set_xticks([])\n",
    "ax[1].set_yticks([]);\n",
    "\n",
    "C = 55\n",
    "T_withC = np.zeros_like(T_surf)\n",
    "for i in range(1, len(T_surf)):\n",
    "    T_withC[i] = trapz(delta_f[:i+1] +C, x=T_surf[:i+1])\n",
    "\n",
    "ax[2].plot(T_surf, -T_withC)\n",
    "ax[2].plot(42,-10330,'.',markersize='40', color='black')\n",
    "ax[2].arrow(*(-10, -7500), *(20, -1500), head_width=9, head_length=700, fc='black', ec='black')\n",
    "ax[2].set_xlabel('Surface temperature', fontsize=12)\n",
    "ax[2].set_xlim(-90,90)\n",
    "ax[2].set_ylim(-12000,-3000)\n",
    "ax[2].set_title(f'$C={C}$', fontsize=12)\n",
    "ax[2].set_xticks([])\n",
    "ax[2].set_yticks([]);\n",
    "\n",
    "plt.tight_layout()\n",
    "plt.savefig('figures/L2/L2_12_plot_tipping_points', bbox_inches=\"tight\", dpi=500)"
   ]
  },
  {
   "cell_type": "markdown",
   "id": "2c5277de-d614-45c4-acde-ddd948924db8",
   "metadata": {},
   "source": [
    "### Plot 2 tipping points"
   ]
  },
  {
   "cell_type": "code",
   "execution_count": null,
   "id": "0b077817-42bf-4fa1-9396-415da1411133",
   "metadata": {
    "jupyter": {
     "source_hidden": true
    }
   },
   "outputs": [],
   "source": [
    "fig, ax = plt.subplots(1,3,figsize=(10,3))\n",
    "\n",
    "ax[2].plot(T_surf, -T)\n",
    "ax[2].plot(16.44,-3760,'.',markersize='40', color='black')\n",
    "ax[2].set_xlabel('Surface temperature', fontsize=12)\n",
    "ax[2].set_xlim(-60,60)\n",
    "ax[2].set_ylim(-4600,-3000)\n",
    "ax[2].set_title('$C=0$', fontsize=12)\n",
    "ax[2].set_xticks([])\n",
    "ax[2].set_yticks([]);\n",
    "\n",
    "C = 20\n",
    "T_withC = np.zeros_like(T_surf)\n",
    "for i in range(1, len(T_surf)):\n",
    "    T_withC[i] = trapz(delta_f[:i+1] +C, x=T_surf[:i+1])\n",
    "\n",
    "ax[1].plot(T_surf, -T_withC)\n",
    "ax[1].plot(26,-6020,'.',markersize='40', color='black')\n",
    "ax[1].set_xlabel('Surface temperature', fontsize=12)\n",
    "ax[1].set_xlim(-65,65)\n",
    "ax[1].set_title(f'$C={C}$', fontsize=12)\n",
    "ax[1].set_ylim(-6700,-3000)\n",
    "ax[1].set_xticks([])\n",
    "ax[1].set_yticks([]);\n",
    "\n",
    "C = 55\n",
    "T_withC = np.zeros_like(T_surf)\n",
    "for i in range(1, len(T_surf)):\n",
    "    T_withC[i] = trapz(delta_f[:i+1] +C, x=T_surf[:i+1])\n",
    "\n",
    "ax[0].plot(T_surf, -T_withC)\n",
    "ax[0].plot(42,-10310,'.',markersize='40', color='black')\n",
    "ax[0].arrow(*(-10, -7500), *(20, -1500), head_width=9, head_length=700, fc='black', ec='black')\n",
    "ax[0].set_xlabel('Surface temperature', fontsize=12)\n",
    "ax[0].set_ylabel('Climate potential', fontsize=12)\n",
    "ax[0].set_xlim(-90,90)\n",
    "ax[0].set_ylim(-12000,-3000)\n",
    "ax[0].set_title(f'$C={C}$', fontsize=12)\n",
    "ax[0].set_xticks([])\n",
    "ax[0].set_yticks([]);\n",
    "\n",
    "plt.tight_layout()\n",
    "plt.savefig('figures/L2/L2_13_plot_tipping_points_back', bbox_inches=\"tight\", dpi=500)"
   ]
  },
  {
   "cell_type": "markdown",
   "id": "762d05cd-e80f-484b-b91d-2f178ea08e05",
   "metadata": {},
   "source": []
  },
  {
   "cell_type": "markdown",
   "id": "efbeb1f4-bcdb-4341-b345-cbf9db9f5caa",
   "metadata": {},
   "source": []
  },
  {
   "cell_type": "markdown",
   "id": "55c0c243-213e-4bc9-86f1-02a685bded15",
   "metadata": {},
   "source": []
  }
 ],
 "metadata": {
  "kernelspec": {
   "display_name": "base",
   "language": "python",
   "name": "python3"
  },
  "language_info": {
   "codemirror_mode": {
    "name": "ipython",
    "version": 3
   },
   "file_extension": ".py",
   "mimetype": "text/x-python",
   "name": "python",
   "nbconvert_exporter": "python",
   "pygments_lexer": "ipython3",
   "version": "3.8.8"
  }
 },
 "nbformat": 4,
 "nbformat_minor": 5
}
