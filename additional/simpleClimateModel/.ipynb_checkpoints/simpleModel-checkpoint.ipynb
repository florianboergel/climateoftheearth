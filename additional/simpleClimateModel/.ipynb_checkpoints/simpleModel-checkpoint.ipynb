{
 "cells": [
  {
   "cell_type": "code",
   "execution_count": null,
   "metadata": {},
   "outputs": [],
   "source": [
    "import numpy as np\n",
    "import matplotlib\n",
    "import matplotlib.pyplot as plt\n",
    "from IPython.display import clear_output\n",
    "from tqdm import tqdm\n",
    "%matplotlib qt5"
   ]
  },
  {
   "cell_type": "code",
   "execution_count": null,
   "metadata": {},
   "outputs": [],
   "source": [
    "DAY=60*60*24\n",
    "INSOLATION=1370\n",
    "SIGMA=5.67E-8\n",
    "EPSILON=0.75\n",
    "AIR_DENSITY=1.3\n",
    "SPECIFIC_GAS_AIR=287\n",
    "PLANET_RADIUS=6.4E6\n",
    "NU=1.5E-5\n",
    "\n",
    "THERMAL_DIFFUSIVITY=2.14E-5\n",
    "CIRCUMFERENCE=2*np.pi*PLANET_RADIUS\n",
    "CIRCLE=np.pi*PLANET_RADIUS**2\n",
    "SPHERE=4*np.pi*PLANET_RADIUS**2"
   ]
  },
  {
   "cell_type": "code",
   "execution_count": null,
   "metadata": {},
   "outputs": [
    {
     "name": "stdout",
     "output_type": "stream",
     "text": [
      "Solar Irradiance (Single Time): 526.68 W/m²\n"
     ]
    }
   ],
   "source": [
    "import numpy as np\n",
    "\n",
    "def solar_radiation(insolation, lat, lon, t):\n",
    "    \"\"\"\n",
    "    Calculate the solar irradiance based on insolation, latitude, longitude, and time.\n",
    "\n",
    "    Parameters:\n",
    "    insolation (float): Incoming solar radiation per unit area at the top of the atmosphere.\n",
    "    lat (float): Latitude of the location in degrees.\n",
    "    lon (float): Longitude of the location in degrees.\n",
    "    t (float or array-like): Time parameter in seconds, representing the time of day.\n",
    "\n",
    "    Returns:\n",
    "    float or list: Computed solar irradiance. Returns 0 if the sun is below the horizon for each time point.\n",
    "\n",
    "    Note:\n",
    "    - A day is assumed to be 86400 seconds.\n",
    "    - The model accounts for Earth's orbit eccentricity.\n",
    "    \"\"\"\n",
    "    DAY = 86400\n",
    "    days_in_year = 365.25\n",
    "\n",
    "    # Earth's orbital eccentricity correction factor\n",
    "    def eccentricity_correction(day_of_year):\n",
    "        return 1.00011 + 0.034221 * np.cos(2 * np.pi * day_of_year / days_in_year) + 0.00128 * np.sin(2 * np.pi * day_of_year / days_in_year) + 0.000719 * np.cos(2 * (2 * np.pi * day_of_year / days_in_year)) + 0.000077 * np.sin(2 * (2 * np.pi * day_of_year / days_in_year))\n",
    "\n",
    "    # Function to calculate irradiance for a single time point\n",
    "    def calculate_irradiance(t):\n",
    "        adjusted_time = (t + lon * 240) % DAY\n",
    "        hour_angle = (adjusted_time / DAY * 360 - 180)\n",
    "\n",
    "        day_of_year = t / DAY\n",
    "        declination = np.deg2rad(23.45) * np.sin(np.deg2rad(360 / days_in_year * (day_of_year - 81)))\n",
    "\n",
    "        sin_lat = np.sin(np.deg2rad(lat))\n",
    "        cos_lat = np.cos(np.deg2rad(lat))\n",
    "        sin_declination = np.sin(declination)\n",
    "        cos_declination = np.cos(declination)\n",
    "        sin_hour_angle = np.sin(np.deg2rad(hour_angle))\n",
    "        cos_hour_angle = np.cos(np.deg2rad(hour_angle))\n",
    "\n",
    "        solar_altitude = np.arcsin(sin_lat * sin_declination + cos_lat * cos_declination * cos_hour_angle)\n",
    "\n",
    "        if solar_altitude <= 0:\n",
    "            return 0\n",
    "\n",
    "        insolation_corrected = insolation * eccentricity_correction(day_of_year)\n",
    "        irradiance = insolation_corrected * np.sin(solar_altitude)\n",
    "        return max(irradiance, 0)\n",
    "\n",
    "    return calculate_irradiance(t)\n",
    "        \n",
    "irradiance_single = solar_radiation(1361, 45, 0, 43200)  # Noon at 45° latitude\n",
    "print(f\"Solar Irradiance (Single Time): {irradiance_single:.2f} W/m²\")"
   ]
  },
  {
   "cell_type": "code",
   "execution_count": null,
   "metadata": {},
   "outputs": [],
   "source": [
    "resolution = 3\n",
    "dt = 60\n",
    "\n",
    "lat = np.arange(-90, 91, resolution)\n",
    "lon = np.arange(0,360, resolution)\n",
    "\n",
    "nlat = len(lat)\n",
    "nlon = len(lon)\n",
    "coriolis = np.zeros(nlat)\n",
    "\n",
    "heatCapacityEarth= 1E5\n",
    "heatCapacityAtmosphere= 1E3\n",
    "\n",
    "# we assume a sphere, hence\n",
    "dy = CIRCUMFERENCE/nlat\n",
    "dx = CIRCUMFERENCE/nlat*np.cos(lat*np.pi/180)\n",
    "\n",
    "for i in range(nlat):\n",
    "    coriolis[i] = 1.45842E-4*np.sin(lat[i]*np.pi/180)\n",
    "\n",
    "t=0"
   ]
  },
  {
   "cell_type": "code",
   "execution_count": null,
   "metadata": {},
   "outputs": [
    {
     "data": {
      "text/plain": [
       "1440.0"
      ]
     },
     "execution_count": null,
     "metadata": {},
     "output_type": "execute_result"
    }
   ],
   "source": [
    "86400/60"
   ]
  },
  {
   "cell_type": "code",
   "execution_count": null,
   "metadata": {},
   "outputs": [],
   "source": [
    "TemperaturePlanet = np.zeros((nlat, nlon)) + 273.15\n",
    "TemperatureAtmosphere = np.zeros((nlat, nlon)) + 250\n",
    "AirPressure = np.zeros((nlat, nlon))\n",
    "u = np.zeros((nlat, nlon))\n",
    "v = np.zeros((nlat, nlon))"
   ]
  },
  {
   "cell_type": "code",
   "execution_count": null,
   "metadata": {},
   "outputs": [],
   "source": [
    "lonPlot, latPlot = np.meshgrid(lon, lat)"
   ]
  },
  {
   "cell_type": "code",
   "execution_count": null,
   "metadata": {},
   "outputs": [],
   "source": [
    "def first_derivative_lon(x, lat, lon, dx):\n",
    "    if lon == 0:\n",
    "        return (x[lat, lon+1] - x[lat, -1]) / (2*dx)\n",
    "    elif lon == x.shape[1] - 1:\n",
    "        return (x[lat, 0] - x[lat, lon-1]) / (2*dx)\n",
    "    else:\n",
    "        return (x[lat, lon+1] - x[lat, lon-1]) / (2*dx)\n",
    "\n",
    "def second_derivative_lon(x, lat, lon, dx):\n",
    "    if lon == 0:\n",
    "        return (x[lat, lon+1] - 2*x[lat, lon] + x[lat, -1]) / dx**2\n",
    "    elif lon == x.shape[1] - 1:\n",
    "        return (x[lat, 0] - 2*x[lat, lon] + x[lat, lon-1]) / dx**2\n",
    "    else:\n",
    "        return (x[lat, lon+1] - 2*x[lat, lon] + x[lat, lon-1]) / dx**2\n",
    "\n",
    "def first_derivative_lat(x, lat, lon, dy):\n",
    "    if lat == 0 or lat == x.shape[0] - 1:\n",
    "        return 0  # Or implement a different scheme\n",
    "    return (x[lat+1, lon] - x[lat-1, lon]) / (2*dy)\n",
    "\n",
    "def second_derivative_lat(x, lat, lon, dy):\n",
    "    if lat == 0 or lat == x.shape[-2] - 1:\n",
    "        return 0  # Handle the boundary conditions\n",
    "    return (x[lat+1, lon] - 2 * x[lat, lon] + x[lat-1, lon]) / (dy**2)"
   ]
  },
  {
   "cell_type": "markdown",
   "metadata": {},
   "source": [
    "For the velocity we have the NSE:\n",
    "\n",
    "$$ du/dt + (u \\cdot \\nabla)u +\\nu \\nabla^2 u = -1/\\rho \\nabla p + g $$\n",
    "\n"
   ]
  },
  {
   "cell_type": "markdown",
   "metadata": {},
   "source": [
    "$$ \\partial_t u = - u\\cdot\\partial_x u - v\\cdot \\partial_y u - \\nu \\partial_{xx}u - 1/\\rho \\partial_x p + f v$$\n",
    "$$ \\partial_t v = - u\\cdot\\partial_x v - v\\cdot \\partial_y v - \\nu \\partial_{yy}v - 1/\\rho \\partial_y p - f u$$"
   ]
  },
  {
   "cell_type": "code",
   "execution_count": null,
   "metadata": {},
   "outputs": [],
   "source": [
    "plot=False"
   ]
  },
  {
   "cell_type": "code",
   "execution_count": null,
   "metadata": {},
   "outputs": [
    {
     "ename": "NameError",
     "evalue": "name 'ax' is not defined",
     "output_type": "error",
     "traceback": [
      "\u001b[0;31m---------------------------------------------------------------------------\u001b[0m",
      "\u001b[0;31mNameError\u001b[0m                                 Traceback (most recent call last)",
      "Cell \u001b[0;32mIn[10], line 4\u001b[0m\n\u001b[1;32m      1\u001b[0m \u001b[38;5;28;01mif\u001b[39;00m plot\u001b[38;5;241m==\u001b[39m\u001b[38;5;28;01mTrue\u001b[39;00m: fig, ax \u001b[38;5;241m=\u001b[39m plt\u001b[38;5;241m.\u001b[39msubplots(\u001b[38;5;241m2\u001b[39m, figsize\u001b[38;5;241m=\u001b[39m(\u001b[38;5;241m10\u001b[39m, \u001b[38;5;241m8\u001b[39m))  \u001b[38;5;66;03m# Adjust figure size as needed\u001b[39;00m\n\u001b[1;32m      3\u001b[0m \u001b[38;5;66;03m# Initial plots for temperature with colorbars\u001b[39;00m\n\u001b[0;32m----> 4\u001b[0m contour_plot_temp \u001b[38;5;241m=\u001b[39m \u001b[43max\u001b[49m[\u001b[38;5;241m0\u001b[39m]\u001b[38;5;241m.\u001b[39mcontourf(lonPlot, latPlot, TemperaturePlanet, cmap\u001b[38;5;241m=\u001b[39m\u001b[38;5;124m'\u001b[39m\u001b[38;5;124mviridis\u001b[39m\u001b[38;5;124m'\u001b[39m, levels\u001b[38;5;241m=\u001b[39mnp\u001b[38;5;241m.\u001b[39mlinspace(\u001b[38;5;241m273.15\u001b[39m,\u001b[38;5;241m280\u001b[39m,\u001b[38;5;241m10\u001b[39m))\n\u001b[1;32m      5\u001b[0m cb_temp \u001b[38;5;241m=\u001b[39m fig\u001b[38;5;241m.\u001b[39mcolorbar(contour_plot_temp, ax\u001b[38;5;241m=\u001b[39max[\u001b[38;5;241m0\u001b[39m], orientation\u001b[38;5;241m=\u001b[39m\u001b[38;5;124m'\u001b[39m\u001b[38;5;124mvertical\u001b[39m\u001b[38;5;124m'\u001b[39m, label\u001b[38;5;241m=\u001b[39m\u001b[38;5;124m'\u001b[39m\u001b[38;5;124mTemperature (K)\u001b[39m\u001b[38;5;124m'\u001b[39m)\n\u001b[1;32m      6\u001b[0m contour_plot_atmos \u001b[38;5;241m=\u001b[39m ax[\u001b[38;5;241m1\u001b[39m]\u001b[38;5;241m.\u001b[39mcontourf(lonPlot, latPlot, TemperatureAtmosphere, cmap\u001b[38;5;241m=\u001b[39m\u001b[38;5;124m'\u001b[39m\u001b[38;5;124mviridis\u001b[39m\u001b[38;5;124m'\u001b[39m)\n",
      "\u001b[0;31mNameError\u001b[0m: name 'ax' is not defined"
     ]
    }
   ],
   "source": [
    "if plot==True:\n",
    "    fig, ax = plt.subplots(2, figsize=(10, 8))  # Adjust figure size as needed\n",
    "    \n",
    "    # Initial plots for temperature with colorbars\n",
    "    contour_plot_temp = ax[0].contourf(lonPlot, latPlot, TemperaturePlanet, cmap='viridis', levels=np.linspace(273.15,280,10))\n",
    "    cb_temp = fig.colorbar(contour_plot_temp, ax=ax[0], orientation='vertical', label='Temperature (K)')\n",
    "    contour_plot_atmos = ax[1].contourf(lonPlot, latPlot, TemperatureAtmosphere, cmap='viridis')\n",
    "    cb_atmos = fig.colorbar(contour_plot_atmos, ax=ax[1], orientation='vertical', label='Temperature (K)')\n",
    "\n",
    "for iterater in tqdm(range(0, 30000)):\n",
    "    for latPoint in np.arange(nlat):\n",
    "        for lonPoint in np.arange(nlon):\n",
    "\n",
    "            TemperaturePlanet[latPoint, lonPoint] += dt*(CIRCLE*solar_radiation(insolation=INSOLATION, lat=lat[latPoint], lon=lon[lonPoint], t=t)+SPHERE*EPSILON*SIGMA*TemperatureAtmosphere[latPoint, lonPoint]**4-SPHERE*EPSILON*SIGMA*TemperaturePlanet[latPoint, lonPoint]**4)/(heatCapacityEarth*SPHERE)\n",
    "            TemperatureAtmosphere[latPoint, lonPoint] += dt*(\n",
    "                - SPHERE*EPSILON*SIGMA*TemperatureAtmosphere[latPoint, lonPoint]**4\n",
    "                + SPHERE*EPSILON*SIGMA*TemperaturePlanet[latPoint, lonPoint]**4\n",
    "                )/(heatCapacityAtmosphere*SPHERE) \n",
    "            \n",
    "    AirPressure = AIR_DENSITY*TemperaturePlanet*SPECIFIC_GAS_AIR\n",
    "    for latPoint in np.arange(nlat):\n",
    "        for lonPoint in np.arange(nlon):\n",
    "\n",
    "            u[latPoint, lonPoint] += -dt*(\n",
    "                + u[latPoint, lonPoint]*first_derivative_lon(u, latPoint, lonPoint, dx[latPoint])\n",
    "                + v[latPoint, lonPoint]*first_derivative_lat(u, latPoint, lonPoint, dy)\n",
    "                + NU*second_derivative_lon(u, latPoint, lonPoint, dx[latPoint])\n",
    "                + 1/AIR_DENSITY*first_derivative_lon(AirPressure, latPoint, lonPoint, dx[latPoint])\n",
    "                - coriolis[latPoint]*v[latPoint, lonPoint])\n",
    "            v[latPoint, lonPoint] += -dt*(\n",
    "                + u[latPoint, lonPoint]*first_derivative_lon(v, latPoint, lonPoint, dx[latPoint])\n",
    "                + v[latPoint, lonPoint]*first_derivative_lat(v, latPoint, lonPoint, dy)\n",
    "                + NU*second_derivative_lat(v, latPoint, lonPoint, dx[latPoint])\n",
    "                + 1/AIR_DENSITY*first_derivative_lat(AirPressure, latPoint, lonPoint, dy)\n",
    "                + coriolis[latPoint]*u[latPoint, lonPoint])                                                     \n",
    "\n",
    "    for latPoint in np.arange(3, nlat-3):\n",
    "        for lonPoint in np.arange(nlon):\n",
    "            \n",
    "            TemperaturePlanet[latPoint, lonPoint] += -dt * (\n",
    "                u[latPoint, lonPoint] * first_derivative_lon(TemperaturePlanet, latPoint, lonPoint, dx[latPoint]) +\n",
    "                v[latPoint, lonPoint] * first_derivative_lat(TemperaturePlanet, latPoint, lonPoint, dy)\n",
    "            )\n",
    "\n",
    "            TemperatureAtmosphere[latPoint, lonPoint] += -dt * (\n",
    "                u[latPoint, lonPoint] * first_derivative_lon(TemperatureAtmosphere, latPoint, lonPoint, dx[latPoint]) +\n",
    "                v[latPoint, lonPoint] * first_derivative_lat(TemperatureAtmosphere, latPoint, lonPoint, dy)\n",
    "            )\n",
    "            \n",
    "            TemperaturePlanet[latPoint, lonPoint] += THERMAL_DIFFUSIVITY * dt * (\n",
    "                second_derivative_lon(TemperaturePlanet, latPoint, lonPoint, dx[latPoint]) +\n",
    "                second_derivative_lat(TemperaturePlanet, latPoint, lonPoint, dy)\n",
    "            )\n",
    "            \n",
    "            TemperatureAtmosphere[latPoint, lonPoint] += THERMAL_DIFFUSIVITY * dt * (\n",
    "                second_derivative_lon(TemperatureAtmosphere, latPoint, lonPoint, dx[latPoint]) +\n",
    "                second_derivative_lat(TemperatureAtmosphere, latPoint, lonPoint, dy)\n",
    "            )\n",
    " \n",
    "    t += dt       \n",
    "\n",
    "    if plot==True:\n",
    "        \n",
    "        for c in ax[0].collections:\n",
    "            c.remove()  # Remove old contours\n",
    "        for c in ax[1].collections:\n",
    "            c.remove()\n",
    "    \n",
    "        contour_plot_temp = ax[0].contourf(lonPlot, latPlot, TemperaturePlanet, cmap='viridis')\n",
    "        contour_plot_atmos = ax[1].contourf(lonPlot, latPlot, TemperatureAtmosphere, cmap='viridis')\n",
    "    \n",
    "    \n",
    "    \n",
    "            # Reduce the density of arrows for visibility\n",
    "        quiver_plot = ax[0].quiver(lonPlot[::3], latPlot[::3], u[::3], v[::3], color='white')\n",
    "    \n",
    "        # Set titles and labels\n",
    "        ax[0].set_title('Temperature on Planet Surface')\n",
    "        ax[1].set_title('Temperature in Atmosphere')\n",
    "        for a in ax:\n",
    "            a.set_xlabel('Longitude')\n",
    "            a.set_ylabel('Latitude')\n",
    "    \n",
    "        plt.pause(0.1)  # Adjust for update speed\n",
    "        plt.show()\n",
    "    #plt.pause(0.1)  # Adjust this for the speed of the update\n",
    "    #plt.show() \n",
    "    #fig.clea\n",
    "    #a#x[0].cla()\n",
    "    #ax[1].cla()\n",
    "\n"
   ]
  },
  {
   "cell_type": "code",
   "execution_count": null,
   "metadata": {},
   "outputs": [],
   "source": [
    "%matplotlib qt\n"
   ]
  }
 ],
 "metadata": {
  "kernelspec": {
   "display_name": "Python 3 (ipykernel)",
   "language": "python",
   "name": "python3"
  }
 },
 "nbformat": 4,
 "nbformat_minor": 4
}
