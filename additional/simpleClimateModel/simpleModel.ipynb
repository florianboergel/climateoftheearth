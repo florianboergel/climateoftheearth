{
 "cells": [
  {
   "cell_type": "code",
   "execution_count": 11,
   "metadata": {},
   "outputs": [],
   "source": [
    "import numpy as np\n",
    "import matplotlib\n",
    "import matplotlib.pyplot as plt\n",
    "from IPython.display import clear_output\n",
    "from tqdm import tqdm\n",
    "from datetime import datetime, timedelta\n",
    "import cartopy.crs as ccrs\n",
    "\n",
    "from derivatives import first_derivative_lon, first_derivative_lat, second_derivative_lon, second_derivative_lat\n",
    "from derivatives import laplacian\n",
    "\n",
    "from planet import Planet"
   ]
  },
  {
   "cell_type": "code",
   "execution_count": 12,
   "metadata": {},
   "outputs": [],
   "source": [
    "# DAY=60*60*24\n",
    "# INSOLATION=1370\n",
    "# SIGMA=5.67E-8\n",
    "# EPSILON=0.75\n",
    "# AIR_DENSITY=1.3\n",
    "# SPECIFIC_GAS_AIR=287\n",
    "# PLANET_RADIUS=6.4E6\n",
    "# NU=1.5E-5\n",
    "\n",
    "# THERMAL_DIFFUSIVITY=2.14E-5\n",
    "# CIRCUMFERENCE=2*np.pi*PLANET_RADIUS\n",
    "# CIRCLE=np.pi*PLANET_RADIUS**2\n",
    "# SPHERE=4*np.pi*PLANET_RADIUS**2"
   ]
  },
  {
   "cell_type": "code",
   "execution_count": 13,
   "metadata": {},
   "outputs": [],
   "source": [
    "configuration = {\n",
    "    \"planetRadius\": 6.4E6,\n",
    "    \"insolation\": 1370,\n",
    "    \"sigma\": 5.67E-8,\n",
    "    \"epsilon\": 0.75,\n",
    "    \"airDensity\": 1.3,\n",
    "    \"specificGasAir\": 287,\n",
    "    \"heatCapacityEarth\": 2.093E8,\n",
    "    \"heatCapacityAtmosphere\": 1.02E7,\n",
    "    \"thermalDiffusivityAir\": 20E-6,\n",
    "    \"thermalDiffusivityOcean\": 1.5E-6,\n",
    "    \"nu\":1.5E-5,\n",
    "    \"resolution\":3\n",
    "}"
   ]
  },
  {
   "cell_type": "code",
   "execution_count": 14,
   "metadata": {},
   "outputs": [],
   "source": [
    "def solar_radiation(insolation, lat, lon, t, reference_start_time):\n",
    "    \"\"\"\n",
    "    Calculate the solar irradiance based on insolation, latitude, longitude, and time.\n",
    "\n",
    "    Parameters:\n",
    "    insolation (float): Maximum solar radiation at the top of the atmosphere (e.g., solar constant ~1361 W/m²).\n",
    "    lat (array-like): Array of latitudes in degrees.\n",
    "    lon (array-like): Array of longitudes in degrees (0 to 360, positive east).\n",
    "    t (float): Time parameter in seconds since reference_start_time.\n",
    "    reference_start_time (datetime): The reference start time.\n",
    "\n",
    "    Returns:\n",
    "    ndarray: Solar irradiance in W/m² for each latitude and longitude point.\n",
    "    \"\"\"\n",
    "    # Constants\n",
    "    \n",
    "    t = 60000\n",
    "    DEG_TO_RAD = np.pi / 180\n",
    "    SECONDS_PER_DAY = 86400  # Number of seconds in a day\n",
    "\n",
    "    # Calculate the current time from seconds since the reference\n",
    "    current_time = reference_start_time + timedelta(seconds=t)\n",
    "    day_of_year = current_time.timetuple().tm_yday\n",
    "    time_of_day_seconds = current_time.hour * 3600 + current_time.minute * 60 + current_time.second\n",
    "\n",
    "    # Calculate solar declination (approximate formula)\n",
    "    declination = 23.45 * np.sin(DEG_TO_RAD * (360 / 365 * (day_of_year - 81))) * DEG_TO_RAD  # in radians\n",
    "\n",
    "    # Convert latitude to radians\n",
    "    lat_rad = np.deg2rad(lat)\n",
    "\n",
    "    # Ensure longitude ranges from 0° to 360°\n",
    "    lon_deg = np.mod(lon, 360)\n",
    "\n",
    "    # Create meshgrid for latitudes and longitudes\n",
    "    lat_rad_mesh, lon_deg_mesh = np.meshgrid(lat_rad, lon_deg, indexing='ij')\n",
    "\n",
    "    # Calculate local solar time for each point\n",
    "    time_hours = (time_of_day_seconds % SECONDS_PER_DAY) / 3600.0  # Convert time to hours (0 to 24)\n",
    "    solar_time = (time_hours + lon_deg_mesh / 15.0) % 24  # Local solar time in hours\n",
    "\n",
    "    # Calculate hour angle in radians\n",
    "    hour_angle = DEG_TO_RAD * 15 * (solar_time - 12)  # Hour angle in radians\n",
    "\n",
    "    # Calculate solar zenith angle\n",
    "    zenith_angle = np.arccos(\n",
    "        np.sin(lat_rad_mesh) * np.sin(declination) +\n",
    "        np.cos(lat_rad_mesh) * np.cos(declination) * np.cos(hour_angle)\n",
    "    )\n",
    "\n",
    "    # Solar irradiance proportional to cos(zenith_angle)\n",
    "    solar_irradiance = insolation * np.cos(zenith_angle)\n",
    "\n",
    "    # Set nighttime irradiance to zero\n",
    "    solar_irradiance[solar_irradiance < 0] = 0\n",
    "\n",
    "    return solar_irradiance\n"
   ]
  },
  {
   "cell_type": "code",
   "execution_count": 15,
   "metadata": {},
   "outputs": [],
   "source": [
    "def update_or_create_plot(model, fig=None, spinCoord=0):\n",
    "    \"\"\"\n",
    "    Update or create a plot for the atmospheric model.\n",
    "\n",
    "    Parameters:\n",
    "    model: The atmospheric model object.\n",
    "    fig: A matplotlib figure instance to update. If None, a new figure is created.\n",
    "    axes: A list of axes instances to update. If None, new axes are created.\n",
    "    \"\"\"\n",
    "\n",
    "    if fig is None:\n",
    "        # Create new figure and axes if not provided\n",
    "        fig, axes = plt.subplots(2, 2, figsize=(12, 12), \n",
    "                                 subplot_kw={'projection': ccrs.Orthographic(-10, spinCoord%360)})\n",
    "\n",
    "    lonPlot, latPlot = np.meshgrid(model.lon, model.lat)\n",
    "\n",
    "    fig.clf() \n",
    "\n",
    "    ax0 = fig.add_subplot(2, 2, 1, projection=ccrs.Orthographic(spinCoord%360,30))\n",
    "    ax1 = fig.add_subplot(2, 2, 2, projection=ccrs.Orthographic(spinCoord%360,30))\n",
    "    ax2 = fig.add_subplot(2, 2, 3)\n",
    "    ax3 = fig.add_subplot(2, 2, 4)\n",
    "\n",
    "    axes = fig.get_axes()\n",
    "    \n",
    "    for ax in axes:\n",
    "        ax.clear()  # Clear existing content\n",
    "\n",
    "    # Update contour plots\n",
    "    axes[0].contourf(lonPlot, latPlot, model.temperaturePlanet, cmap='viridis', transform=ccrs.PlateCarree())\n",
    "    axes[1].contourf(lonPlot, latPlot, model.temperatureAtmosphere, cmap='viridis', transform=ccrs.PlateCarree())\n",
    "\n",
    "    # Update quiver plot for wind vectors\n",
    "    axes[1].quiver(lonPlot[::3,::3], latPlot[::3,::3], model.u[::3, ::3], \n",
    "                      model.v[::3, ::3], color='white', transform=ccrs.PlateCarree())\n",
    "\n",
    "    # Update line plots for zonal averages\n",
    "    axes[2].plot(np.mean(model.temperaturePlanet, axis=1),model.lat, 'k-')\n",
    "    axes[3].plot(np.mean(model.temperatureAtmosphere, axis=1),model.lat, 'k-')\n",
    "\n",
    "    # Set titles and labels\n",
    "    axes[0].set_title(f'Temperature on Planet Surface: Time {model.time}, {model.t}')\n",
    "    axes[1].set_title('Temperature in Atmosphere')\n",
    "    axes[2].set_title('Zonal Average Temperature on Planet Surface')\n",
    "    axes[3].set_title('Zonal Average Temperature in Atmosphere')\n",
    "\n",
    "    for ax in [axes[0], axes[1]]:\n",
    "        ax.set_xlabel('Longitude')\n",
    "        ax.set_ylabel('Latitude')\n",
    "        ax.coastlines()\n",
    "\n",
    "    plt.pause(0.1) \n",
    "    plt.draw()\n",
    "    plt.show()\n"
   ]
  },
  {
   "cell_type": "code",
   "execution_count": 21,
   "metadata": {},
   "outputs": [],
   "source": [
    "class atmosphericModel(Planet):\n",
    "\n",
    "    def __init__(self, configuration):\n",
    "        super().__init__(configuration)\n",
    "        self.initTracers()\n",
    "\n",
    "        self.dt = 60*5\n",
    "        self.t = 0\n",
    "        self.reference_start_time = datetime(2023, 1, 1, 0, 0, 0)\n",
    "        self.day = 86400\n",
    "        print(f\"dt set to {self.dt}. Use <model name>['dt'] = <timestep> to change it.\")\n",
    "\n",
    "    def initTracers(self):\n",
    "        self.temperaturePlanet = np.zeros((self.nlat, self.nlon)) + 273.15 + np.random.uniform(-1, 1,size=(self.nlat, self.nlon))\n",
    "        self.temperatureAtmosphere = np.zeros((self.nlat, self.nlon)) + 273.15 + np.random.uniform(-1, 1,size=(self.nlat, self.nlon))\n",
    "        self.airPressure = np.zeros((self.nlat, self.nlon))\n",
    "        self.airDensity = np.zeros_like(self.airPressure) + 1.3\n",
    "        self.u = np.zeros((self.nlat, self.nlon)) + np.random.uniform(-0.02, 0.02,size=(self.nlat, self.nlon))\n",
    "        self.v = np.zeros((self.nlat, self.nlon)) + np.random.uniform(-0.02, 0.02,size=(self.nlat, self.nlon))\n",
    "        self.albedo = (np.zeros_like(self.u) + 0.3) #* np.random.uniform(-0.02, 0.02,size=(self.nlat, self.nlon))\n",
    "        print(\"Initialized tracers\")\n",
    "        \n",
    "    def updateSolarRadiation(self):\n",
    "\n",
    "        self.temperaturePlanet += self.dt * (\n",
    "            + (\n",
    "                (1-self.albedo)\n",
    "                * solar_radiation(\n",
    "                    insolation=self.insolation,\n",
    "                    lat=self.lat,\n",
    "                    lon=self.lon,\n",
    "                    t=self.t,\n",
    "                    reference_start_time=self.reference_start_time\n",
    "                )\n",
    "            )\n",
    "            + self.epsilon*self.sigma*self.temperatureAtmosphere**4\n",
    "            - self.sigma*self.temperaturePlanet**4\n",
    "            ) / (self.heatCapacityEarth)\n",
    "\n",
    "        self.temperatureAtmosphere += self.dt*(\n",
    "            - (\n",
    "                2 * self.epsilon\n",
    "                * self.sigma\n",
    "                * self.temperatureAtmosphere**4\n",
    "            )\n",
    "            + (\n",
    "                self.epsilon\n",
    "                * self.sigma\n",
    "                * self.temperaturePlanet**4\n",
    "            )\n",
    "            ) / (self.heatCapacityAtmosphere) \n",
    "    \n",
    "    def updateVelocityGeostrophic(self):\n",
    "        self.u += -self.dt*(\n",
    "            + (1/self.airDensity)*first_derivative_lon(self.airPressure, self.dx)\n",
    "            - self.coriolis*self.v)\n",
    "        self.v += -self.dt*(\n",
    "            + (1/self.airDensity)*first_derivative_lat(self.airPressure, self.dy)\n",
    "            + self.coriolis*self.u)\n",
    "\n",
    "    def updateVelocity(self):\n",
    "\n",
    "        self.u += -self.dt*(\n",
    "            + self.u*first_derivative_lon(self.u, self.dx)\n",
    "            + self.v*first_derivative_lat(self.u, self.dy)\n",
    "            + self.nu*laplacian(self.u, self.dx, self.dy)\n",
    "            + (1/self.airDensity)*first_derivative_lon(self.airPressure, self.dx)\n",
    "            - self.coriolis*self.v\n",
    "          )\n",
    "\n",
    "        self.v += -self.dt*(\n",
    "            + self.u*first_derivative_lon(self.v, self.dx)\n",
    "            + self.v*first_derivative_lat(self.v, self.dy)\n",
    "            + self.nu*laplacian(self.v, self.dx, self.dy)\n",
    "            + (1/self.airDensity)*first_derivative_lat(self.airPressure, self.dy)\n",
    "            + self.coriolis*self.u\n",
    "          )\n",
    "\n",
    "    def advectField(self, field):\n",
    "        field += -self.dt * (\n",
    "        + first_derivative_lon(field*self.u, self.dx) \n",
    "        + first_derivative_lat(field*self.v, self.dy)\n",
    "        )\n",
    "        return field\n",
    "\n",
    "    def heatEquation(self, tField, thermalDiffusivity):\n",
    "        tField += self.dt * (\n",
    "            + second_derivative_lon(tField, self.dx)\n",
    "            + second_derivative_lat(tField, self.dy)\n",
    "        )\n",
    "        return tField\n",
    "  \n",
    "    def apply_neumann_bc_lat_ghosts(self, var):\n",
    "        \"\"\"\n",
    "        Imposes zero-gradient boundary conditions in lat direction\n",
    "        with 1 ghost cell on top (index 0) and bottom (index -1).\n",
    "        Physical domain is var[1 : -1, :].\n",
    "\n",
    "        Enforces var[1] = var[2] for top boundary,\n",
    "        and var[-2] = var[-3] for bottom boundary.\n",
    "        Then ghost rows (0, -1) can copy from the boundary (or do something else).\n",
    "        \"\"\"\n",
    "\n",
    "        # Fill ghost rows from the boundary or interior\n",
    "        var[1, :] = var[2, :]    # top ghost = top boundary\n",
    "        var[0, :] = var[2, :]     # top ghost = top boundary\n",
    "        var[-2, :] = var[-3, :]  # bottom ghost = bottom boundary\n",
    "        var[-1, :] = var[-3, :]  # bottom ghost = bottom boundary\n",
    "        return var\n",
    "\n",
    "\n",
    "    def timeStep(self):\n",
    "\n",
    "        if self.t < (10*86400):\n",
    "            self.dt = 60\n",
    "        else:\n",
    "            self.dt = 120\n",
    "    \n",
    "        self.updateSolarRadiation()\n",
    "\n",
    "        self.airPressure = self.airDensity*self.temperatureAtmosphere*self.specificGasAir\n",
    "\n",
    "        self.updateVelocity()\n",
    "        \n",
    "        self.u[-5:,:] = 0\n",
    "        self.v[-5:,:] = 0\n",
    "        self.u[:5,:] = 0\n",
    "        self.v[:5,:] = 0\n",
    "        \n",
    "        for i in range(0,5):\n",
    "            self.temperaturePlanet[i,:] =  self.temperaturePlanet[5,0]\n",
    "            self.temperaturePlanet[-i,:] =  self.temperaturePlanet[-5,0]\n",
    "            self.temperatureAtmosphere[i,:] =  self.temperatureAtmosphere[5,0]\n",
    "            self.temperatureAtmosphere[-i,:] =  self.temperatureAtmosphere[-5,0]\n",
    "\n",
    "\n",
    "        # self.u = self.apply_neumann_bc_lat_ghosts(self.u)\n",
    "        # self.v = self.apply_neumann_bc_lat_ghosts(self.v)\n",
    "        \n",
    "        ### Advection and diffusion\n",
    "        ## Advect\n",
    "        \n",
    "        # self.temperaturePlanet = self.advectField(self.temperaturePlanet)\n",
    "        # The atmosphere is advected by wind\n",
    "\n",
    "        self.temperatureAtmosphere = self.advectField(self.temperatureAtmosphere)\n",
    "        \n",
    "        #self.airPressure = self.advectField(self.airPressure)\n",
    "        \n",
    "        # Diffusion occurs in the ocean\n",
    "\n",
    "        self.temperaturePlanet = self.heatEquation(self.temperaturePlanet, self.thermalDiffusivityOcean)\n",
    "        self.temperatureAtmosphere = self.heatEquation(self.temperatureAtmosphere, self.thermalDiffusivityAir)\n",
    "\n",
    "        self.temperaturePlanet = self.apply_neumann_bc_lat_ghosts(self.temperaturePlanet)\n",
    "        self.temperatureAtmosphere = self.apply_neumann_bc_lat_ghosts(self.temperatureAtmosphere)\n",
    "        self.airPressure = self.apply_neumann_bc_lat_ghosts(self.airPressure)\n",
    "        \n",
    "        self.t += self.dt  \n",
    "        self.time = self.reference_start_time + timedelta(seconds=self.t)"
   ]
  },
  {
   "cell_type": "code",
   "execution_count": 22,
   "metadata": {},
   "outputs": [
    {
     "data": {
      "text/plain": [
       "True"
      ]
     },
     "execution_count": 22,
     "metadata": {},
     "output_type": "execute_result"
    }
   ],
   "source": [
    "1968000 > 20*86400"
   ]
  },
  {
   "cell_type": "code",
   "execution_count": 23,
   "metadata": {},
   "outputs": [
    {
     "name": "stdout",
     "output_type": "stream",
     "text": [
      "Initialized tracers\n",
      "dt set to 300. Use <model name>['dt'] = <timestep> to change it.\n"
     ]
    }
   ],
   "source": [
    "model = atmosphericModel(configuration=configuration)"
   ]
  },
  {
   "cell_type": "code",
   "execution_count": 24,
   "metadata": {},
   "outputs": [],
   "source": [
    "model.timeStep()"
   ]
  },
  {
   "cell_type": "code",
   "execution_count": 25,
   "metadata": {},
   "outputs": [
    {
     "name": "stdout",
     "output_type": "stream",
     "text": [
      "4872480 3.186867\r"
     ]
    },
    {
     "name": "stderr",
     "output_type": "stream",
     "text": [
      "/var/folders/38/z0l88jxs5cxc27_d0dp0r78c0000gn/T/ipykernel_55559/2704614366.py:49: RuntimeWarning: overflow encountered in power\n",
      "  * self.temperaturePlanet**4\n",
      "/Users/boergel/Documents/work/climateoftheearth/additional/simpleClimateModel/derivatives.py:17: RuntimeWarning: invalid value encountered in subtract\n",
      "  return (x_shifted_plus_one - x_shifted_minus_one) / (2 * dx)\n",
      "/Users/boergel/Documents/work/climateoftheearth/additional/simpleClimateModel/derivatives.py:33: RuntimeWarning: invalid value encountered in subtract\n",
      "  derivative = (x_shifted_plus_one - x_shifted_minus_one) / (2 * dy)\n",
      "/var/folders/38/z0l88jxs5cxc27_d0dp0r78c0000gn/T/ipykernel_55559/2704614366.py:72: RuntimeWarning: invalid value encountered in add\n",
      "  + self.u*first_derivative_lon(self.v, self.dx)\n",
      "/var/folders/38/z0l88jxs5cxc27_d0dp0r78c0000gn/T/ipykernel_55559/2704614366.py:81: RuntimeWarning: overflow encountered in multiply\n",
      "  + first_derivative_lon(field*self.u, self.dx)\n",
      "/var/folders/38/z0l88jxs5cxc27_d0dp0r78c0000gn/T/ipykernel_55559/2704614366.py:81: RuntimeWarning: invalid value encountered in add\n",
      "  + first_derivative_lon(field*self.u, self.dx)\n",
      "/Users/boergel/Documents/work/climateoftheearth/additional/simpleClimateModel/derivatives.py:25: RuntimeWarning: invalid value encountered in subtract\n",
      "  return (x_shifted_plus_one - 2*x + x_shifted_minus_one) / (dx**2)\n",
      "/Users/boergel/Documents/work/climateoftheearth/additional/simpleClimateModel/derivatives.py:25: RuntimeWarning: invalid value encountered in add\n",
      "  return (x_shifted_plus_one - 2*x + x_shifted_minus_one) / (dx**2)\n",
      "/Users/boergel/Documents/work/climateoftheearth/additional/simpleClimateModel/derivatives.py:46: RuntimeWarning: invalid value encountered in subtract\n",
      "  derivative = (x_shifted_plus_one - 2*x + x_shifted_minus_one) / (dy**2)\n",
      "/Users/boergel/Documents/work/climateoftheearth/additional/simpleClimateModel/derivatives.py:46: RuntimeWarning: invalid value encountered in add\n",
      "  derivative = (x_shifted_plus_one - 2*x + x_shifted_minus_one) / (dy**2)\n",
      "/var/folders/38/z0l88jxs5cxc27_d0dp0r78c0000gn/T/ipykernel_55559/2704614366.py:36: RuntimeWarning: overflow encountered in power\n",
      "  + self.epsilon*self.sigma*self.temperatureAtmosphere**4\n",
      "/var/folders/38/z0l88jxs5cxc27_d0dp0r78c0000gn/T/ipykernel_55559/2704614366.py:37: RuntimeWarning: overflow encountered in power\n",
      "  - self.sigma*self.temperaturePlanet**4\n",
      "/var/folders/38/z0l88jxs5cxc27_d0dp0r78c0000gn/T/ipykernel_55559/2704614366.py:44: RuntimeWarning: overflow encountered in power\n",
      "  * self.temperatureAtmosphere**4\n",
      "/var/folders/38/z0l88jxs5cxc27_d0dp0r78c0000gn/T/ipykernel_55559/2704614366.py:41: RuntimeWarning: invalid value encountered in add\n",
      "  - (\n",
      "/var/folders/38/z0l88jxs5cxc27_d0dp0r78c0000gn/T/ipykernel_55559/2704614366.py:64: RuntimeWarning: overflow encountered in multiply\n",
      "  + self.u*first_derivative_lon(self.u, self.dx)\n",
      "/var/folders/38/z0l88jxs5cxc27_d0dp0r78c0000gn/T/ipykernel_55559/2704614366.py:65: RuntimeWarning: overflow encountered in multiply\n",
      "  + self.v*first_derivative_lat(self.u, self.dy)\n",
      "/var/folders/38/z0l88jxs5cxc27_d0dp0r78c0000gn/T/ipykernel_55559/2704614366.py:64: RuntimeWarning: invalid value encountered in add\n",
      "  + self.u*first_derivative_lon(self.u, self.dx)\n",
      "/var/folders/38/z0l88jxs5cxc27_d0dp0r78c0000gn/T/ipykernel_55559/2704614366.py:72: RuntimeWarning: invalid value encountered in multiply\n",
      "  + self.u*first_derivative_lon(self.v, self.dx)\n",
      "/var/folders/38/z0l88jxs5cxc27_d0dp0r78c0000gn/T/ipykernel_55559/2704614366.py:73: RuntimeWarning: invalid value encountered in multiply\n",
      "  + self.v*first_derivative_lat(self.v, self.dy)\n",
      "/var/folders/38/z0l88jxs5cxc27_d0dp0r78c0000gn/T/ipykernel_55559/2704614366.py:87: RuntimeWarning: invalid value encountered in add\n",
      "  tField += self.dt * (\n",
      "/var/folders/38/z0l88jxs5cxc27_d0dp0r78c0000gn/T/ipykernel_55559/2704614366.py:65: RuntimeWarning: invalid value encountered in multiply\n",
      "  + self.v*first_derivative_lat(self.u, self.dy)\n"
     ]
    },
    {
     "name": "stdout",
     "output_type": "stream",
     "text": [
      "179136000 99.999933\r"
     ]
    }
   ],
   "source": [
    "time = model.t\n",
    "n = 1500000\n",
    "\n",
    "\n",
    "for i in (range(0, n)):\n",
    "    time = model.t\n",
    "    print(time, f\"{i/n*100:2f}\", end=\"\\r\")\n",
    "    _ = model.timeStep()"
   ]
  },
  {
   "cell_type": "code",
   "execution_count": 77,
   "metadata": {},
   "outputs": [
    {
     "data": {
      "text/plain": [
       "<matplotlib.collections.PolyQuadMesh at 0x176dae4a0>"
      ]
     },
     "execution_count": 77,
     "metadata": {},
     "output_type": "execute_result"
    },
    {
     "data": {
      "image/png": "[encoded data removed]",
      "text/plain": [
       "<Figure size 640x480 with 4 Axes>"
      ]
     },
     "metadata": {},
     "output_type": "display_data"
    }
   ],
   "source": [
    "f, ax = plt.subplots(2,2)\n",
    "ax = ax.ravel()\n",
    "ax[0].pcolor(model.temperaturePlanet[:,:])\n",
    "ax[1].pcolor(model.temperatureAtmosphere[:,:])\n",
    "ax[2].pcolor(model.u[:,:])\n",
    "ax[3].pcolor(model.v[:,:])\n"
   ]
  },
  {
   "cell_type": "code",
   "execution_count": 11,
   "metadata": {},
   "outputs": [
    {
     "data": {
      "text/plain": [
       "<matplotlib.colorbar.Colorbar at 0x128783c10>"
      ]
     },
     "execution_count": 11,
     "metadata": {},
     "output_type": "execute_result"
    },
    {
     "data": {
      "image/png": "[encoded data removed]",
      "text/plain": [
       "<Figure size 640x480 with 2 Axes>"
      ]
     },
     "metadata": {},
     "output_type": "display_data"
    }
   ],
   "source": [
    "plt.pcolor(model.u[:,:])\n",
    "plt.colorbar()"
   ]
  },
  {
   "cell_type": "code",
   "execution_count": 11,
   "metadata": {},
   "outputs": [
    {
     "data": {
      "text/plain": [
       "1076000"
      ]
     },
     "execution_count": 11,
     "metadata": {},
     "output_type": "execute_result"
    }
   ],
   "source": [
    "model.t"
   ]
  },
  {
   "cell_type": "code",
   "execution_count": null,
   "metadata": {},
   "outputs": [],
   "source": [
    "resolution = 3\n",
    "dt = 60\n",
    "\n",
    "lat = np.arange(-90, 91, resolution)\n",
    "lon = np.arange(0,361, resolution)\n",
    "\n",
    "nlat = len(lat)\n",
    "nlon = len(lon)\n",
    "coriolis = np.zeros(nlat)\n",
    "\n",
    "heatCapacityEarth= 1E7\n",
    "heatCapacityAtmosphere= 1E7\n",
    "\n",
    "# we assume a sphere, hence\n",
    "dy = CIRCUMFERENCE/nlat\n",
    "dx = CIRCUMFERENCE/nlat*np.cos(lat*np.pi/180)\n",
    "\n",
    "for i in range(nlat):\n",
    "    coriolis[i] = 1.45842E-4*np.sin(lat[i]*np.pi/180)\n",
    "\n",
    "t=0"
   ]
  },
  {
   "cell_type": "code",
   "execution_count": null,
   "metadata": {},
   "outputs": [],
   "source": [
    "earth = Planet(configuration=configuration)"
   ]
  },
  {
   "cell_type": "code",
   "execution_count": null,
   "metadata": {},
   "outputs": [
    {
     "name": "stdout",
     "output_type": "stream",
     "text": [
      "Initialized tracers\n",
      "dt set to 300. Use <model name>['dt'] = <timestep> to change it.\n"
     ]
    }
   ],
   "source": [
    "model = atmosphericModel(configuration=configuration)"
   ]
  },
  {
   "cell_type": "code",
   "execution_count": null,
   "metadata": {},
   "outputs": [],
   "source": [
    "TemperaturePlanet = np.zeros((nlat, nlon)) + 273.15\n",
    "TemperatureAtmosphere = np.zeros((nlat, nlon)) + 273.15\n",
    "AirPressure = np.zeros((nlat, nlon))\n",
    "AIR_DENSITY = np.zeros_like(AirPressure)+1.3\n",
    "u = np.zeros((nlat, nlon))+0.01\n",
    "v = np.zeros((nlat, nlon))+0.01\n",
    "albedo = np.zeros_like(u) + 0.3\n",
    "\n",
    "albedo_variance = 0.02\n",
    "for i in range(nlat):\n",
    "    for j in range(nlon):\n",
    "        albedo[i, j] += albedo_variance*np.random.uniform(-albedo_variance, albedo_variance)"
   ]
  },
  {
   "cell_type": "code",
   "execution_count": null,
   "metadata": {},
   "outputs": [],
   "source": [
    "lonPlot, latPlot = np.meshgrid(lon, lat)"
   ]
  },
  {
   "cell_type": "code",
   "execution_count": null,
   "metadata": {},
   "outputs": [],
   "source": [
    "u_prev = np.zeros_like(model.u)\n",
    "u_model = np.zeros_like(model.u)"
   ]
  },
  {
   "cell_type": "code",
   "execution_count": null,
   "metadata": {},
   "outputs": [],
   "source": [
    "def first_derivative_lon(x, lat, lon, dx):\n",
    "    if lon == 0:\n",
    "        return (x[lat, lon+1] - x[lat, -1]) / (2*dx)\n",
    "    elif lon == x.shape[1] - 1:\n",
    "        return (x[lat, 0] - x[lat, lon-1]) / (2*dx)\n",
    "    else:\n",
    "        return (x[lat, lon+1] - x[lat, lon-1]) / (2*dx)"
   ]
  },
  {
   "cell_type": "code",
   "execution_count": null,
   "metadata": {},
   "outputs": [],
   "source": [
    "for latPoint in np.arange(1,model.nlat-1):\n",
    "        for lonPoint in np.arange(model.nlon):\n",
    "                u_prev[latPoint, lonPoint] = model.u[latPoint, lonPoint] - model.dt*(\n",
    "                    # + model.u[latPoint, lonPoint]*first_derivative_lon(model.u, latPoint, lonPoint, model.dx[latPoint, lonPoint])\n",
    "                    #  + model.v[latPoint, lonPoint]*first_derivative_lat(model.u, latPoint, lonPoint, model.dy[latPoint, lonPoint])\n",
    "                   # + model.nu*laplacian(model.u, latPoint, lonPoint, model.dx[latPoint, lonPoint], model.dy[latPoint, lonPoint]))\n",
    "                     + 1/model.airDensity[latPoint, lonPoint]*first_derivative_lon(model.airPressure, latPoint, lonPoint, model.dx[latPoint, lonPoint]))\n",
    "                #     - model.coriolis[latPoint, lonPoint]*model.v[latPoint, lonPoint])"
   ]
  },
  {
   "cell_type": "code",
   "execution_count": null,
   "metadata": {},
   "outputs": [],
   "source": [
    "from derivatives import first_derivative_lon, first_derivative_lat, second_derivative_lon, second_derivative_lat, laplacian"
   ]
  },
  {
   "cell_type": "code",
   "execution_count": null,
   "metadata": {},
   "outputs": [],
   "source": [
    "u_model = model.u -model.dt*((1/model.airDensity)*first_derivative_lon(model.airPressure, model.dx))"
   ]
  },
  {
   "cell_type": "code",
   "execution_count": null,
   "metadata": {},
   "outputs": [],
   "source": [
    "u_model = model.u -model.dt*(\n",
    "    + model.u*first_derivative_lon(model.u, model.dx)\n",
    "    + model.v*first_derivative_lat(model.u, model.dy)\n",
    "   # + model.nu*laplacian(model.u, model.dx, model.dy)\n",
    "    + (1/model.airDensity)*first_derivative_lon(model.airPressure, model.dx)\n",
    "    - model.coriolis*model.v\n",
    "    )"
   ]
  },
  {
   "cell_type": "code",
   "execution_count": null,
   "metadata": {},
   "outputs": [
    {
     "data": {
      "text/plain": [
       "<matplotlib.colorbar.Colorbar at 0x333ea6770>"
      ]
     },
     "execution_count": 150,
     "metadata": {},
     "output_type": "execute_result"
    }
   ],
   "source": [
    "f, ax = plt.subplots(1,2)\n",
    "axplot = ax[0].pcolor(u_model)\n",
    "ax[1].pcolor(u_prev)\n",
    "f.colorbar(axplot)"
   ]
  },
  {
   "cell_type": "code",
   "execution_count": null,
   "metadata": {},
   "outputs": [
    {
     "data": {
      "text/plain": [
       "<matplotlib.colorbar.Colorbar at 0x33709f8b0>"
      ]
     },
     "execution_count": 151,
     "metadata": {},
     "output_type": "execute_result"
    }
   ],
   "source": [
    "plt.pcolor(u_model-u_prev)\n",
    "plt.colorbar()"
   ]
  },
  {
   "cell_type": "code",
   "execution_count": null,
   "metadata": {},
   "outputs": [],
   "source": [
    "def first_derivative_lon(x, lat, lon, dx):\n",
    "    if lon == 0:\n",
    "        return (x[lat, lon+1] - x[lat, -1]) / (2*dx)\n",
    "    elif lon == x.shape[1] - 1:\n",
    "        return (x[lat, 0] - x[lat, lon-1]) / (2*dx)\n",
    "    else:\n",
    "        return (x[lat, lon+1] - x[lat, lon-1]) / (2*dx)\n",
    "\n",
    "def second_derivative_lon(x, lat, lon, dx):\n",
    "    if lon == 0:\n",
    "        return (x[lat, lon+1] - 2*x[lat, lon] + x[lat, -1]) / dx**2\n",
    "    elif lon == x.shape[1] - 1:\n",
    "        return (x[lat, 0] - 2*x[lat, lon] + x[lat, lon-1]) / dx**2\n",
    "    else:\n",
    "        return (x[lat, lon+1] - 2*x[lat, lon] + x[lat, lon-1]) / dx**2\n",
    "\n",
    "def first_derivative_lat(x, lat, lon, dy):\n",
    "    if lat == 0 or lat == x.shape[0] - 1:\n",
    "        return 0  # Or implement a different scheme\n",
    "    return (x[lat+1, lon] - x[lat-1, lon]) / (2*dy)\n",
    "\n",
    "def first_derivative_lat(x, lat, lon, dy):\n",
    "    num_lats = x.shape[0]\n",
    "\n",
    "    if dy == 0:\n",
    "        raise ValueError(\"dy cannot be zero.\")\n",
    "\n",
    "    # Higher-order difference at the poles\n",
    "    if lat == 0:\n",
    "        # Forward difference using four points\n",
    "        return (-3*x[lat, lon] + 4*x[lat+1, lon] - x[lat+2, lon]) / (2*dy)\n",
    "    elif lat == 1:\n",
    "        # Modified forward difference for the second point\n",
    "        return (x[lat+1, lon] - x[lat-1, lon] + 4*x[lat, lon] - x[lat+2, lon]) / (3*dy)\n",
    "    elif lat == num_lats - 2:\n",
    "        # Modified backward difference for the second to last point\n",
    "        return (x[lat-2, lon] - 4*x[lat-1, lon] + x[lat+1, lon] + x[lat, lon]) / (3*dy)\n",
    "    elif lat == num_lats - 1:\n",
    "        # Backward difference using four points\n",
    "        return (x[lat-2, lon] - 4*x[lat-1, lon] + 3*x[lat, lon]) / (2*dy)\n",
    "    else:\n",
    "        # Central difference for other points\n",
    "        return (x[lat-2, lon] - 8*x[lat-1, lon] + 8*x[lat+1, lon] - x[lat+2, lon]) / (12*dy)\n",
    "\n",
    "def second_derivative_lat(x, lat, lon, dy):\n",
    "    if lat == 0 or lat == x.shape[-2] - 1:\n",
    "        return 0  # Handle the boundary conditions\n",
    "    return (x[lat+1, lon] - 2 * x[lat, lon] + x[lat-1, lon]) / (dy**2)\n",
    "\n",
    "def laplacian(x, lat, lon, dx, dy):\n",
    "    return second_derivative_lon(x, lat, lon, dx) + second_derivative_lat(x, lat, lon, dy)"
   ]
  },
  {
   "cell_type": "markdown",
   "metadata": {},
   "source": [
    "For the velocity we have the NSE:\n",
    "\n",
    "$$ du/dt + (u \\cdot \\nabla)u +\\nu \\nabla^2 u = -1/\\rho \\nabla p + g $$\n",
    "\n"
   ]
  },
  {
   "cell_type": "markdown",
   "metadata": {},
   "source": [
    "$$ \\partial_t u = - u\\cdot\\partial_x u - v\\cdot \\partial_y u - \\nu \\partial_{xx}u - 1/\\rho \\partial_x p + f v$$\n",
    "$$ \\partial_t v = - u\\cdot\\partial_x v - v\\cdot \\partial_y v - \\nu \\partial_{yy}v - 1/\\rho \\partial_y p - f u$$"
   ]
  },
  {
   "cell_type": "code",
   "execution_count": null,
   "metadata": {},
   "outputs": [],
   "source": [
    "plot=True\n",
    "\n",
    "def add_zonal_average_plots(ax, data, latitudes, cmap, levels):\n",
    "    zonal_avg = np.mean(data, axis=1)  # calculate zonal average\n",
    "    ax.plot(zonal_avg, latitudes, color='black')  # plot zonal average\n",
    "    ax.set_ylim(-90, 90)  # set y limits to latitude range\n",
    "    ax.set_xlim(levels[0], levels[-1])  # set x limits to temperature range\n",
    "    ax.set_xlabel('Temperature (K)')\n",
    "    ax.set_ylabel('Latitude')\n",
    "    ax.grid(True)  "
   ]
  },
  {
   "cell_type": "code",
   "execution_count": null,
   "metadata": {},
   "outputs": [
    {
     "name": "stderr",
     "output_type": "stream",
     "text": [
      "  0%|          | 0/30000 [00:00<?, ?it/s]"
     ]
    },
    {
     "name": "stdout",
     "output_type": "stream",
     "text": [
      "273.0845208911801\n"
     ]
    },
    {
     "name": "stderr",
     "output_type": "stream",
     "text": [
      "/Users/boergel/miniconda3/envs/xarray/lib/python3.10/site-packages/cartopy/crs.py:538: UserWarning: Some vectors at source domain corners may not have been transformed correctly\n",
      "  warnings.warn('Some vectors at source domain corners '\n",
      "  0%|          | 2/30000 [00:00<3:21:55,  2.48it/s]"
     ]
    },
    {
     "name": "stdout",
     "output_type": "stream",
     "text": [
      "273.0192437317788\n",
      "272.95416803494123\n"
     ]
    },
    {
     "name": "stderr",
     "output_type": "stream",
     "text": [
      "  0%|          | 4/30000 [00:01<2:23:46,  3.48it/s]"
     ]
    },
    {
     "name": "stdout",
     "output_type": "stream",
     "text": [
      "272.88929331104873\n"
     ]
    },
    {
     "name": "stderr",
     "output_type": "stream",
     "text": [
      "  0%|          | 5/30000 [00:01<2:13:26,  3.75it/s]"
     ]
    },
    {
     "name": "stdout",
     "output_type": "stream",
     "text": [
      "272.82461906707596\n"
     ]
    },
    {
     "name": "stderr",
     "output_type": "stream",
     "text": [
      "  0%|          | 7/30000 [00:02<2:04:56,  4.00it/s]"
     ]
    },
    {
     "name": "stdout",
     "output_type": "stream",
     "text": [
      "272.7601448254026\n",
      "272.6958701715037\n"
     ]
    },
    {
     "name": "stderr",
     "output_type": "stream",
     "text": [
      "  0%|          | 8/30000 [00:02<2:03:43,  4.04it/s]"
     ]
    },
    {
     "name": "stdout",
     "output_type": "stream",
     "text": [
      "272.63179478958443\n",
      "272.56791840499613\n"
     ]
    },
    {
     "name": "stderr",
     "output_type": "stream",
     "text": [
      "  0%|          | 10/30000 [00:02<2:01:49,  4.10it/s]"
     ]
    },
    {
     "name": "stdout",
     "output_type": "stream",
     "text": [
      "272.5042407154795\n",
      "272.44076135279835\n"
     ]
    },
    {
     "name": "stderr",
     "output_type": "stream",
     "text": [
      "  0%|          | 13/30000 [00:03<2:01:06,  4.13it/s]"
     ]
    },
    {
     "name": "stdout",
     "output_type": "stream",
     "text": [
      "272.37747986129835\n",
      "272.31439568728734\n"
     ]
    },
    {
     "name": "stderr",
     "output_type": "stream",
     "text": [
      "  0%|          | 15/30000 [00:03<2:00:45,  4.14it/s]"
     ]
    },
    {
     "name": "stdout",
     "output_type": "stream",
     "text": [
      "272.25150817581726\n",
      "272.18881657786324\n"
     ]
    },
    {
     "name": "stderr",
     "output_type": "stream",
     "text": [
      "  0%|          | 16/30000 [00:04<2:00:28,  4.15it/s]"
     ]
    },
    {
     "name": "stdout",
     "output_type": "stream",
     "text": [
      "272.1263200662818\n",
      "272.0640177639365\n"
     ]
    },
    {
     "name": "stderr",
     "output_type": "stream",
     "text": [
      "  0%|          | 19/30000 [00:04<2:00:18,  4.15it/s]"
     ]
    },
    {
     "name": "stdout",
     "output_type": "stream",
     "text": [
      "272.00190879011217\n",
      "271.9399923384463\n"
     ]
    },
    {
     "name": "stderr",
     "output_type": "stream",
     "text": [
      "  0%|          | 21/30000 [00:05<2:08:06,  3.90it/s]"
     ]
    },
    {
     "name": "stdout",
     "output_type": "stream",
     "text": [
      "271.8782677427309\n",
      "271.8167344439592\n"
     ]
    },
    {
     "name": "stderr",
     "output_type": "stream",
     "text": [
      "  0%|          | 23/30000 [00:05<2:06:10,  3.96it/s]"
     ]
    },
    {
     "name": "stdout",
     "output_type": "stream",
     "text": [
      "271.75539194055733\n",
      "271.69423976450776\n"
     ]
    },
    {
     "name": "stderr",
     "output_type": "stream",
     "text": [
      "  0%|          | 24/30000 [00:06<2:11:36,  3.80it/s]"
     ]
    },
    {
     "name": "stdout",
     "output_type": "stream",
     "text": [
      "271.6332774682871\n"
     ]
    },
    {
     "name": "stderr",
     "output_type": "stream",
     "text": [
      "\n"
     ]
    },
    {
     "ename": "KeyboardInterrupt",
     "evalue": "",
     "output_type": "error",
     "traceback": [
      "\u001b[0;31m---------------------------------------------------------------------------\u001b[0m",
      "\u001b[0;31mKeyboardInterrupt\u001b[0m                         Traceback (most recent call last)",
      "Cell \u001b[0;32mIn[154], line 35\u001b[0m\n\u001b[1;32m     31\u001b[0m \u001b[38;5;28;01mfor\u001b[39;00m latPoint \u001b[38;5;129;01min\u001b[39;00m np\u001b[38;5;241m.\u001b[39marange(nlat):\n\u001b[1;32m     32\u001b[0m     \u001b[38;5;28;01mfor\u001b[39;00m lonPoint \u001b[38;5;129;01min\u001b[39;00m np\u001b[38;5;241m.\u001b[39marange(nlon):\n\u001b[1;32m     34\u001b[0m         TemperaturePlanet[latPoint, lonPoint] \u001b[38;5;241m+\u001b[39m\u001b[38;5;241m=\u001b[39m dt\u001b[38;5;241m*\u001b[39m(\n\u001b[0;32m---> 35\u001b[0m             (\u001b[38;5;241m1\u001b[39m\u001b[38;5;241m-\u001b[39malbedo[latPoint, lonPoint])\u001b[38;5;241m*\u001b[39m\u001b[43msolar_radiation\u001b[49m\u001b[43m(\u001b[49m\u001b[43minsolation\u001b[49m\u001b[38;5;241;43m=\u001b[39;49m\u001b[43mINSOLATION\u001b[49m\u001b[43m,\u001b[49m\u001b[43m \u001b[49m\u001b[43mlat\u001b[49m\u001b[38;5;241;43m=\u001b[39;49m\u001b[43mlat\u001b[49m\u001b[43m[\u001b[49m\u001b[43mlatPoint\u001b[49m\u001b[43m]\u001b[49m\u001b[43m,\u001b[49m\u001b[43m \u001b[49m\u001b[43mlon\u001b[49m\u001b[38;5;241;43m=\u001b[39;49m\u001b[43mlon\u001b[49m\u001b[43m[\u001b[49m\u001b[43mlonPoint\u001b[49m\u001b[43m]\u001b[49m\u001b[43m,\u001b[49m\u001b[43m \u001b[49m\u001b[43mt\u001b[49m\u001b[38;5;241;43m=\u001b[39;49m\u001b[43mt\u001b[49m\u001b[43m)\u001b[49m\u001b[38;5;241m+\u001b[39mEPSILON\u001b[38;5;241m*\u001b[39mSIGMA\u001b[38;5;241m*\u001b[39mTemperatureAtmosphere[latPoint, lonPoint]\u001b[38;5;241m*\u001b[39m\u001b[38;5;241m*\u001b[39m\u001b[38;5;241m4\u001b[39m\n\u001b[1;32m     36\u001b[0m             \u001b[38;5;241m-\u001b[39mEPSILON\u001b[38;5;241m*\u001b[39mSIGMA\u001b[38;5;241m*\u001b[39mTemperaturePlanet[latPoint, lonPoint]\u001b[38;5;241m*\u001b[39m\u001b[38;5;241m*\u001b[39m\u001b[38;5;241m4\u001b[39m\n\u001b[1;32m     37\u001b[0m             )\u001b[38;5;241m/\u001b[39m(heatCapacityEarth)\n\u001b[1;32m     39\u001b[0m         TemperatureAtmosphere[latPoint, lonPoint] \u001b[38;5;241m+\u001b[39m\u001b[38;5;241m=\u001b[39m dt\u001b[38;5;241m*\u001b[39m(\n\u001b[1;32m     40\u001b[0m             \u001b[38;5;241m-\u001b[39m \u001b[38;5;241m2\u001b[39m\u001b[38;5;241m*\u001b[39mEPSILON\u001b[38;5;241m*\u001b[39mSIGMA\u001b[38;5;241m*\u001b[39mTemperatureAtmosphere[latPoint, lonPoint]\u001b[38;5;241m*\u001b[39m\u001b[38;5;241m*\u001b[39m\u001b[38;5;241m4\u001b[39m\n\u001b[1;32m     41\u001b[0m             \u001b[38;5;241m+\u001b[39m EPSILON\u001b[38;5;241m*\u001b[39mSIGMA\u001b[38;5;241m*\u001b[39mTemperaturePlanet[latPoint, lonPoint]\u001b[38;5;241m*\u001b[39m\u001b[38;5;241m*\u001b[39m\u001b[38;5;241m4\u001b[39m\n\u001b[1;32m     42\u001b[0m             )\u001b[38;5;241m/\u001b[39m(heatCapacityAtmosphere\u001b[38;5;241m*\u001b[39mAIR_DENSITY[latPoint, lonPoint]) \n\u001b[1;32m     44\u001b[0m \u001b[38;5;28mprint\u001b[39m(TemperatureAtmosphere\u001b[38;5;241m.\u001b[39mmean())    \n",
      "Cell \u001b[0;32mIn[129], line 19\u001b[0m, in \u001b[0;36msolar_radiation\u001b[0;34m(insolation, lat, lon, t)\u001b[0m\n\u001b[1;32m     16\u001b[0m DEG_TO_RAD \u001b[38;5;241m=\u001b[39m np\u001b[38;5;241m.\u001b[39mpi \u001b[38;5;241m/\u001b[39m \u001b[38;5;241m180\u001b[39m\n\u001b[1;32m     18\u001b[0m \u001b[38;5;66;03m# Create meshgrid for latitudes and longitudes\u001b[39;00m\n\u001b[0;32m---> 19\u001b[0m lat_rad, lon_rad \u001b[38;5;241m=\u001b[39m \u001b[43mnp\u001b[49m\u001b[38;5;241;43m.\u001b[39;49m\u001b[43mmeshgrid\u001b[49m\u001b[43m(\u001b[49m\u001b[43mlat\u001b[49m\u001b[43m \u001b[49m\u001b[38;5;241;43m*\u001b[39;49m\u001b[43m \u001b[49m\u001b[43mDEG_TO_RAD\u001b[49m\u001b[43m,\u001b[49m\u001b[43m \u001b[49m\u001b[43mlon\u001b[49m\u001b[43m \u001b[49m\u001b[38;5;241;43m*\u001b[39;49m\u001b[43m \u001b[49m\u001b[43mDEG_TO_RAD\u001b[49m\u001b[43m,\u001b[49m\u001b[43m \u001b[49m\u001b[43mindexing\u001b[49m\u001b[38;5;241;43m=\u001b[39;49m\u001b[38;5;124;43m\"\u001b[39;49m\u001b[38;5;124;43mij\u001b[39;49m\u001b[38;5;124;43m\"\u001b[39;49m\u001b[43m)\u001b[49m\n\u001b[1;32m     21\u001b[0m \u001b[38;5;66;03m# Convert the time parameter to a datetime object\u001b[39;00m\n\u001b[1;32m     22\u001b[0m reference_start_time \u001b[38;5;241m=\u001b[39m datetime(\u001b[38;5;241m2023\u001b[39m, \u001b[38;5;241m1\u001b[39m, \u001b[38;5;241m1\u001b[39m, \u001b[38;5;241m0\u001b[39m, \u001b[38;5;241m0\u001b[39m, \u001b[38;5;241m0\u001b[39m)  \u001b[38;5;66;03m# Reference start date and time\u001b[39;00m\n",
      "File \u001b[0;32m<__array_function__ internals>:200\u001b[0m, in \u001b[0;36mmeshgrid\u001b[0;34m(*args, **kwargs)\u001b[0m\n",
      "File \u001b[0;32m~/miniconda3/envs/xarray/lib/python3.10/site-packages/numpy/lib/function_base.py:5032\u001b[0m, in \u001b[0;36mmeshgrid\u001b[0;34m(copy, sparse, indexing, *xi)\u001b[0m\n\u001b[1;32m   5028\u001b[0m     \u001b[38;5;28;01mraise\u001b[39;00m \u001b[38;5;167;01mValueError\u001b[39;00m(\n\u001b[1;32m   5029\u001b[0m         \u001b[38;5;124m\"\u001b[39m\u001b[38;5;124mValid values for `indexing` are \u001b[39m\u001b[38;5;124m'\u001b[39m\u001b[38;5;124mxy\u001b[39m\u001b[38;5;124m'\u001b[39m\u001b[38;5;124m and \u001b[39m\u001b[38;5;124m'\u001b[39m\u001b[38;5;124mij\u001b[39m\u001b[38;5;124m'\u001b[39m\u001b[38;5;124m.\u001b[39m\u001b[38;5;124m\"\u001b[39m)\n\u001b[1;32m   5031\u001b[0m s0 \u001b[38;5;241m=\u001b[39m (\u001b[38;5;241m1\u001b[39m,) \u001b[38;5;241m*\u001b[39m ndim\n\u001b[0;32m-> 5032\u001b[0m output \u001b[38;5;241m=\u001b[39m [np\u001b[38;5;241m.\u001b[39masanyarray(x)\u001b[38;5;241m.\u001b[39mreshape(s0[:i] \u001b[38;5;241m+\u001b[39m (\u001b[38;5;241m-\u001b[39m\u001b[38;5;241m1\u001b[39m,) \u001b[38;5;241m+\u001b[39m s0[i \u001b[38;5;241m+\u001b[39m \u001b[38;5;241m1\u001b[39m:])\n\u001b[1;32m   5033\u001b[0m           \u001b[38;5;28;01mfor\u001b[39;00m i, x \u001b[38;5;129;01min\u001b[39;00m \u001b[38;5;28menumerate\u001b[39m(xi)]\n\u001b[1;32m   5035\u001b[0m \u001b[38;5;28;01mif\u001b[39;00m indexing \u001b[38;5;241m==\u001b[39m \u001b[38;5;124m'\u001b[39m\u001b[38;5;124mxy\u001b[39m\u001b[38;5;124m'\u001b[39m \u001b[38;5;129;01mand\u001b[39;00m ndim \u001b[38;5;241m>\u001b[39m \u001b[38;5;241m1\u001b[39m:\n\u001b[1;32m   5036\u001b[0m     \u001b[38;5;66;03m# switch first and second axis\u001b[39;00m\n\u001b[1;32m   5037\u001b[0m     output[\u001b[38;5;241m0\u001b[39m]\u001b[38;5;241m.\u001b[39mshape \u001b[38;5;241m=\u001b[39m (\u001b[38;5;241m1\u001b[39m, \u001b[38;5;241m-\u001b[39m\u001b[38;5;241m1\u001b[39m) \u001b[38;5;241m+\u001b[39m s0[\u001b[38;5;241m2\u001b[39m:]\n",
      "File \u001b[0;32m~/miniconda3/envs/xarray/lib/python3.10/site-packages/numpy/lib/function_base.py:5032\u001b[0m, in \u001b[0;36m<listcomp>\u001b[0;34m(.0)\u001b[0m\n\u001b[1;32m   5028\u001b[0m     \u001b[38;5;28;01mraise\u001b[39;00m \u001b[38;5;167;01mValueError\u001b[39;00m(\n\u001b[1;32m   5029\u001b[0m         \u001b[38;5;124m\"\u001b[39m\u001b[38;5;124mValid values for `indexing` are \u001b[39m\u001b[38;5;124m'\u001b[39m\u001b[38;5;124mxy\u001b[39m\u001b[38;5;124m'\u001b[39m\u001b[38;5;124m and \u001b[39m\u001b[38;5;124m'\u001b[39m\u001b[38;5;124mij\u001b[39m\u001b[38;5;124m'\u001b[39m\u001b[38;5;124m.\u001b[39m\u001b[38;5;124m\"\u001b[39m)\n\u001b[1;32m   5031\u001b[0m s0 \u001b[38;5;241m=\u001b[39m (\u001b[38;5;241m1\u001b[39m,) \u001b[38;5;241m*\u001b[39m ndim\n\u001b[0;32m-> 5032\u001b[0m output \u001b[38;5;241m=\u001b[39m [\u001b[43mnp\u001b[49m\u001b[38;5;241;43m.\u001b[39;49m\u001b[43masanyarray\u001b[49m\u001b[43m(\u001b[49m\u001b[43mx\u001b[49m\u001b[43m)\u001b[49m\u001b[38;5;241;43m.\u001b[39;49m\u001b[43mreshape\u001b[49m\u001b[43m(\u001b[49m\u001b[43ms0\u001b[49m\u001b[43m[\u001b[49m\u001b[43m:\u001b[49m\u001b[43mi\u001b[49m\u001b[43m]\u001b[49m\u001b[43m \u001b[49m\u001b[38;5;241;43m+\u001b[39;49m\u001b[43m \u001b[49m\u001b[43m(\u001b[49m\u001b[38;5;241;43m-\u001b[39;49m\u001b[38;5;241;43m1\u001b[39;49m\u001b[43m,\u001b[49m\u001b[43m)\u001b[49m\u001b[43m \u001b[49m\u001b[38;5;241;43m+\u001b[39;49m\u001b[43m \u001b[49m\u001b[43ms0\u001b[49m\u001b[43m[\u001b[49m\u001b[43mi\u001b[49m\u001b[43m \u001b[49m\u001b[38;5;241;43m+\u001b[39;49m\u001b[43m \u001b[49m\u001b[38;5;241;43m1\u001b[39;49m\u001b[43m:\u001b[49m\u001b[43m]\u001b[49m\u001b[43m)\u001b[49m\n\u001b[1;32m   5033\u001b[0m           \u001b[38;5;28;01mfor\u001b[39;00m i, x \u001b[38;5;129;01min\u001b[39;00m \u001b[38;5;28menumerate\u001b[39m(xi)]\n\u001b[1;32m   5035\u001b[0m \u001b[38;5;28;01mif\u001b[39;00m indexing \u001b[38;5;241m==\u001b[39m \u001b[38;5;124m'\u001b[39m\u001b[38;5;124mxy\u001b[39m\u001b[38;5;124m'\u001b[39m \u001b[38;5;129;01mand\u001b[39;00m ndim \u001b[38;5;241m>\u001b[39m \u001b[38;5;241m1\u001b[39m:\n\u001b[1;32m   5036\u001b[0m     \u001b[38;5;66;03m# switch first and second axis\u001b[39;00m\n\u001b[1;32m   5037\u001b[0m     output[\u001b[38;5;241m0\u001b[39m]\u001b[38;5;241m.\u001b[39mshape \u001b[38;5;241m=\u001b[39m (\u001b[38;5;241m1\u001b[39m, \u001b[38;5;241m-\u001b[39m\u001b[38;5;241m1\u001b[39m) \u001b[38;5;241m+\u001b[39m s0[\u001b[38;5;241m2\u001b[39m:]\n",
      "\u001b[0;31mKeyboardInterrupt\u001b[0m: "
     ]
    }
   ],
   "source": [
    "if plot==True:\n",
    "\n",
    "    fig = plt.figure(figsize=(12, 12))\n",
    "    \n",
    "    # Add subplots with Cartopy projections for the top row\n",
    "    ax0 = fig.add_subplot(2, 2, 1, projection=ccrs.Orthographic(-10, 30))\n",
    "    ax1 = fig.add_subplot(2, 2, 2, projection=ccrs.Orthographic(-10, 30))\n",
    "    ax2 = fig.add_subplot(2, 2, 3)\n",
    "    ax3 = fig.add_subplot(2, 2, 4)\n",
    "\n",
    "    # Initial plots for temperature with colorbars\n",
    "    contour_plot_temp = ax0.contourf(lonPlot, latPlot, TemperaturePlanet, cmap='viridis', levels=np.linspace(273.15, 280, 10), transform=ccrs.PlateCarree())\n",
    "    cb_temp = fig.colorbar(contour_plot_temp, ax=ax0, orientation='vertical', label='Temperature (K)')\n",
    "    contour_plot_atmos = ax1.contourf(lonPlot, latPlot, TemperatureAtmosphere, cmap='viridis', levels=np.linspace(250, 280, 10), transform=ccrs.PlateCarree())\n",
    "    cb_atmos = fig.colorbar(contour_plot_atmos, ax=ax1, orientation='vertical', label='Temperature (K)')\n",
    "\n",
    "    line_temp, = ax2.plot(lat, np.mean(TemperaturePlanet, axis=1), 'k-')\n",
    "    line_atmos, = ax3.plot(lat, np.mean(TemperatureAtmosphere, axis=1), 'k-')\n",
    "\n",
    "reference_start_time = datetime(2023, 1, 1, 0, 0, 0)  # Reference start date and time\n",
    "\n",
    "for iterater in tqdm(range(0, 30000)):\n",
    "\n",
    "    if t < 365 * DAY:\n",
    "        dt = 60*60\n",
    "        velocity = False\n",
    "    else:\n",
    "        dt = 60*10\n",
    "        velocity = True \n",
    "\n",
    "    for latPoint in np.arange(nlat):\n",
    "        for lonPoint in np.arange(nlon):\n",
    "\n",
    "            TemperaturePlanet[latPoint, lonPoint] += dt*(\n",
    "                (1-albedo[latPoint, lonPoint])*solar_radiation(insolation=INSOLATION, lat=lat[latPoint], lon=lon[lonPoint], t=t)+EPSILON*SIGMA*TemperatureAtmosphere[latPoint, lonPoint]**4\n",
    "                -EPSILON*SIGMA*TemperaturePlanet[latPoint, lonPoint]**4\n",
    "                )/(heatCapacityEarth)\n",
    "\n",
    "            TemperatureAtmosphere[latPoint, lonPoint] += dt*(\n",
    "                - 2*EPSILON*SIGMA*TemperatureAtmosphere[latPoint, lonPoint]**4\n",
    "                + EPSILON*SIGMA*TemperaturePlanet[latPoint, lonPoint]**4\n",
    "                )/(heatCapacityAtmosphere*AIR_DENSITY[latPoint, lonPoint]) \n",
    "\n",
    "    print(TemperatureAtmosphere.mean())    \n",
    "    AirPressure = AIR_DENSITY*TemperaturePlanet*SPECIFIC_GAS_AIR\n",
    "    \n",
    "    if velocity:\n",
    "        for latPoint in np.arange(5,nlat-5):\n",
    "            for lonPoint in np.arange(nlon):\n",
    "\n",
    "                u[latPoint, lonPoint] += -dt*(\n",
    "                    + u[latPoint, lonPoint]*first_derivative_lon(u, latPoint, lonPoint, dx[latPoint])\n",
    "                    + v[latPoint, lonPoint]*first_derivative_lat(u, latPoint, lonPoint, dy)\n",
    "                    + NU*laplacian(u, latPoint, lonPoint, dx[latPoint], dy)\n",
    "                    + 1/AIR_DENSITY[latPoint, lonPoint]*first_derivative_lon(AirPressure, latPoint, lonPoint, dx[latPoint])\n",
    "                    - coriolis[latPoint]*v[latPoint, lonPoint])\n",
    "                    \n",
    "                v[latPoint, lonPoint] += -dt*(\n",
    "                    + u[latPoint, lonPoint]*first_derivative_lon(v, latPoint, lonPoint, dx[latPoint])\n",
    "                    + v[latPoint, lonPoint]*first_derivative_lat(v, latPoint, lonPoint, dy)\n",
    "                    + NU*laplacian(v, latPoint, lonPoint, dx[latPoint], dy)\n",
    "                    + 1/AIR_DENSITY[latPoint, lonPoint]*first_derivative_lat(AirPressure, latPoint, lonPoint, dy)\n",
    "                    + coriolis[latPoint]*u[latPoint, lonPoint])                                                     \n",
    "\n",
    "        # TemperaturePlanet[5,:] = TemperaturePlanet[4,:]\n",
    "        # TemperaturePlanet[-5,:] = TemperaturePlanet[-4,:]\n",
    "\n",
    "        # TemperatureAtmosphere[5,:] = TemperatureAtmosphere[4,:]\n",
    "        # TemperatureAtmosphere[-5,:] = TemperatureAtmosphere[-4,:]\n",
    "\n",
    "        # u[-5,:] = u[-4,:]\n",
    "        # u[5,:] = u[4,:]\n",
    "        # v[-5,:] = v[-4,:]\n",
    "        # v[5,:] = v[4,:]\n",
    "\n",
    "        for latPoint in np.arange(nlat):\n",
    "            for lonPoint in np.arange(nlon):\n",
    "                AIR_DENSITY[latPoint, lonPoint] += -dt * (\n",
    "                    first_derivative_lon(AIR_DENSITY*u, latPoint, lonPoint, dx[latPoint]) +\n",
    "                    first_derivative_lat(AIR_DENSITY*v, latPoint, lonPoint, dy)\n",
    "                )\n",
    "\n",
    "        for latPoint in np.arange(nlat):\n",
    "            for lonPoint in np.arange(nlon):\n",
    "\n",
    "                TemperaturePlanet[latPoint, lonPoint] += -dt * (\n",
    "                first_derivative_lon(TemperaturePlanet*u, latPoint, lonPoint, dx[latPoint]) +\n",
    "                first_derivative_lat(TemperaturePlanet*v, latPoint, lonPoint, dy)\n",
    "                )\n",
    "\n",
    "                TemperatureAtmosphere[latPoint, lonPoint] += -dt * (\n",
    "                    first_derivative_lon(TemperatureAtmosphere*u, latPoint, lonPoint, dx[latPoint]) +\n",
    "                    first_derivative_lat(TemperatureAtmosphere*v, latPoint, lonPoint, dy)\n",
    "                )\n",
    "                \n",
    "                TemperaturePlanet[latPoint, lonPoint] += THERMAL_DIFFUSIVITY * dt * (\n",
    "                    second_derivative_lon(TemperaturePlanet, latPoint, lonPoint, dx[latPoint]) +\n",
    "                    second_derivative_lat(TemperaturePlanet, latPoint, lonPoint, dy)\n",
    "                )\n",
    "                \n",
    "                TemperatureAtmosphere[latPoint, lonPoint] += THERMAL_DIFFUSIVITY * dt * (\n",
    "                    second_derivative_lon(TemperatureAtmosphere, latPoint, lonPoint, dx[latPoint]) +\n",
    "                    second_derivative_lat(TemperatureAtmosphere, latPoint, lonPoint, dy)\n",
    "                )\n",
    "\n",
    "    TemperatureAtmosphere[1,:] = TemperatureAtmosphere[0,:]\n",
    "    TemperatureAtmosphere[-2,:] = TemperatureAtmosphere[-1,:]\n",
    "\n",
    "    TemperaturePlanet[1,:] = TemperaturePlanet[0,:]\n",
    "    TemperaturePlanet[-2,:] = TemperaturePlanet[-1,:]\n",
    "    # TemperatureAtmosphere[-5,:] = TemperatureAtmosphere[-4,:\n",
    "\n",
    "    t += dt       \n",
    "    time = reference_start_time + timedelta(seconds=t)\n",
    "\n",
    "    if plot==True:\n",
    "        if iterater % 50 == 0:\n",
    "\n",
    "            for axes in [ax0, ax1]:\n",
    "                for c in axes.collections:\n",
    "                    c.remove()  # Remove old contours\n",
    "        \n",
    "            # Create contour plots\n",
    "            contour_plot_temp = ax0.contourf(lonPlot, latPlot, TemperaturePlanet, cmap='viridis', transform=ccrs.PlateCarree())\n",
    "            contour_plot_atmos = ax1.contourf(lonPlot, latPlot, TemperatureAtmosphere, cmap='viridis', transform=ccrs.PlateCarree())\n",
    "\n",
    "            # Quiver plot for wind or flow vectors\n",
    "            quiver_plot = ax1.quiver(lonPlot[::3,::3], latPlot[::3,::3], u[::3, ::3], v[::3, ::3], color='white', transform=ccrs.PlateCarree())\n",
    "            # Add zonal average plots\n",
    "            zonal_avg_temp = np.mean(TemperaturePlanet, axis=1)\n",
    "            zonal_avg_atmos = np.mean(TemperatureAtmosphere, axis=1)\n",
    "            line_temp.set_data(lat, zonal_avg_temp)\n",
    "            line_atmos.set_data(lat, zonal_avg_atmos)\n",
    "\n",
    "            # Ensure the axes limits are correct after updating line data\n",
    "            ax2.relim()\n",
    "            ax2.autoscale_view()\n",
    "            ax3.relim()\n",
    "            ax3.autoscale_view()\n",
    "            ax2.set_title('Zonal Average Temperature on Planet Surface')\n",
    "            ax3.set_title('Zonal Average Temperature in Atmosphere')\n",
    "\n",
    "            # Set titles, labels, and add coastlines\n",
    "            ax0.set_title(f'Temperature on Planet Surface: Time {time}')\n",
    "            ax1.set_title('Temperature in Atmosphere')\n",
    "            \n",
    "            for a in [ax0, ax1]:\n",
    "                a.set_xlabel('Longitude')\n",
    "                a.set_ylabel('Latitude')\n",
    "        \n",
    "            plt.pause(0.1)  # Adjust for update speed\n",
    "            plt.draw()\n",
    "            plt.show()\n",
    "\n"
   ]
  },
  {
   "cell_type": "code",
   "execution_count": null,
   "metadata": {},
   "outputs": [
    {
     "data": {
      "text/plain": [
       "(61, 120)"
      ]
     },
     "execution_count": 30,
     "metadata": {},
     "output_type": "execute_result"
    }
   ],
   "source": [
    "TemperatureAtmosphere.shape"
   ]
  },
  {
   "cell_type": "code",
   "execution_count": null,
   "metadata": {},
   "outputs": [
    {
     "data": {
      "text/plain": [
       "(7320, 7320)"
      ]
     },
     "execution_count": 32,
     "metadata": {},
     "output_type": "execute_result"
    }
   ],
   "source": [
    "y.shape"
   ]
  },
  {
   "cell_type": "code",
   "execution_count": null,
   "metadata": {},
   "outputs": [
    {
     "ename": "IndexError",
     "evalue": "index 120 is out of bounds for axis 0 with size 120",
     "output_type": "error",
     "traceback": [
      "\u001b[0;31m---------------------------------------------------------------------------\u001b[0m",
      "\u001b[0;31mIndexError\u001b[0m                                Traceback (most recent call last)",
      "\u001b[1;32m/Users/boergel/Documents/work/climateoftheearth/simpleClimateModel/simpleModel.ipynb Zelle 13\u001b[0m line \u001b[0;36m1\n\u001b[1;32m     <a href='vscode-notebook-cell:/Users/boergel/Documents/work/climateoftheearth/simpleClimateModel/simpleModel.ipynb#X15sZmlsZQ%3D%3D?line=11'>12</a>\u001b[0m ax \u001b[39m=\u001b[39m fig\u001b[39m.\u001b[39madd_subplot(\u001b[39m111\u001b[39m, projection\u001b[39m=\u001b[39m\u001b[39m'\u001b[39m\u001b[39m3d\u001b[39m\u001b[39m'\u001b[39m)\n\u001b[1;32m     <a href='vscode-notebook-cell:/Users/boergel/Documents/work/climateoftheearth/simpleClimateModel/simpleModel.ipynb#X15sZmlsZQ%3D%3D?line=13'>14</a>\u001b[0m \u001b[39m# Plot the surface\u001b[39;00m\n\u001b[0;32m---> <a href='vscode-notebook-cell:/Users/boergel/Documents/work/climateoftheearth/simpleClimateModel/simpleModel.ipynb#X15sZmlsZQ%3D%3D?line=14'>15</a>\u001b[0m ax\u001b[39m.\u001b[39;49mplot_surface(x, y, z, facecolors\u001b[39m=\u001b[39;49mplt\u001b[39m.\u001b[39;49mcm\u001b[39m.\u001b[39;49mviridis(TemperatureAtmosphere \u001b[39m/\u001b[39;49m TemperatureAtmosphere\u001b[39m.\u001b[39;49mmax()), rstride\u001b[39m=\u001b[39;49m\u001b[39m1\u001b[39;49m, cstride\u001b[39m=\u001b[39;49m\u001b[39m1\u001b[39;49m)\n\u001b[1;32m     <a href='vscode-notebook-cell:/Users/boergel/Documents/work/climateoftheearth/simpleClimateModel/simpleModel.ipynb#X15sZmlsZQ%3D%3D?line=16'>17</a>\u001b[0m \u001b[39m# Set labels and title\u001b[39;00m\n\u001b[1;32m     <a href='vscode-notebook-cell:/Users/boergel/Documents/work/climateoftheearth/simpleClimateModel/simpleModel.ipynb#X15sZmlsZQ%3D%3D?line=17'>18</a>\u001b[0m ax\u001b[39m.\u001b[39mset_xlabel(\u001b[39m'\u001b[39m\u001b[39mX\u001b[39m\u001b[39m'\u001b[39m)\n",
      "File \u001b[0;32m~/miniconda3/envs/xarray/lib/python3.10/site-packages/mpl_toolkits/mplot3d/axes3d.py:1764\u001b[0m, in \u001b[0;36mAxes3D.plot_surface\u001b[0;34m(self, X, Y, Z, norm, vmin, vmax, lightsource, **kwargs)\u001b[0m\n\u001b[1;32m   1761\u001b[0m             polys\u001b[39m.\u001b[39mappend(ps)\n\u001b[1;32m   1763\u001b[0m             \u001b[39mif\u001b[39;00m fcolors \u001b[39mis\u001b[39;00m \u001b[39mnot\u001b[39;00m \u001b[39mNone\u001b[39;00m:\n\u001b[0;32m-> 1764\u001b[0m                 colset\u001b[39m.\u001b[39mappend(fcolors[rs][cs])\n\u001b[1;32m   1766\u001b[0m \u001b[39m# In cases where there are non-finite values in the data (possibly NaNs from\u001b[39;00m\n\u001b[1;32m   1767\u001b[0m \u001b[39m# masked arrays), artifacts can be introduced. Here check whether such values\u001b[39;00m\n\u001b[1;32m   1768\u001b[0m \u001b[39m# are present and remove them.\u001b[39;00m\n\u001b[1;32m   1769\u001b[0m \u001b[39mif\u001b[39;00m \u001b[39mnot\u001b[39;00m \u001b[39misinstance\u001b[39m(polys, np\u001b[39m.\u001b[39mndarray) \u001b[39mor\u001b[39;00m \u001b[39mnot\u001b[39;00m np\u001b[39m.\u001b[39misfinite(polys)\u001b[39m.\u001b[39mall():\n",
      "\u001b[0;31mIndexError\u001b[0m: index 120 is out of bounds for axis 0 with size 120"
     ]
    }
   ],
   "source": [
    "import numpy as np\n",
    "import matplotlib.pyplot as plt\n",
    "from mpl_toolkits.mplot3d import Axes3D\n",
    "\n",
    "# Convert lat/lon to Cartesian coordinates for 3D plotting\n",
    "x = np.outer(np.cos(lonPlot), np.cos(latPlot)).T\n",
    "y = np.outer(np.sin(lonPlot), np.cos(latPlot)).T\n",
    "z = np.outer(np.ones(np.size(lonPlot)), np.sin(latPlot)).T\n",
    "\n",
    "# Create a 3D plot\n",
    "fig = plt.figure()\n",
    "ax = fig.add_subplot(111, projection='3d')\n",
    "\n",
    "# Plot the surface\n",
    "ax.plot_surface(x, y, z, facecolors=plt.cm.viridis(TemperatureAtmosphere / TemperatureAtmosphere.max()), rstride=1, cstride=1)\n",
    "\n",
    "# Set labels and title\n",
    "ax.set_xlabel('X')\n",
    "ax.set_ylabel('Y')\n",
    "ax.set_zlabel('Z')\n",
    "ax.set_title('3D Temperature Distribution on Earth')\n",
    "\n",
    "plt.show()\n"
   ]
  },
  {
   "cell_type": "code",
   "execution_count": null,
   "metadata": {},
   "outputs": [],
   "source": []
  }
 ],
 "metadata": {
  "kernelspec": {
   "display_name": "xarray",
   "language": "python",
   "name": "python3"
  },
  "language_info": {
   "codemirror_mode": {
    "name": "ipython",
    "version": 3
   },
   "file_extension": ".py",
   "mimetype": "text/x-python",
   "name": "python",
   "nbconvert_exporter": "python",
   "pygments_lexer": "ipython3",
   "version": "3.10.6"
  }
 },
 "nbformat": 4,
 "nbformat_minor": 4
}
